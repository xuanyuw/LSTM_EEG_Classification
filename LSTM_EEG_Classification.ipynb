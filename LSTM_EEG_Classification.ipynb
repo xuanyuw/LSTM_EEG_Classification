{
 "cells": [
  {
   "cell_type": "markdown",
   "metadata": {},
   "source": [
    "# Start of actual analysis\n",
    "\n",
    "Previous Paper: https://pubmed.ncbi.nlm.nih.gov/30334800/ \n",
    "\n",
    "used similar dataset, LSTM + 1d-AX + softmax\n",
    "\n",
    "1d-AX: kinda like windowed mean in A2\n",
    "\n",
    "\n",
    "\n",
    "Hybrid NN in time domain: https://www.biorxiv.org/content/10.1101/2020.09.20.305300v1.full"
   ]
  },
  {
   "cell_type": "code",
   "execution_count": 55,
   "metadata": {},
   "outputs": [],
   "source": [
    "# import packages\n",
    "import biosig\n",
    "import json\n",
    "import os\n",
    "import pandas as pd\n",
    "import numpy as np\n",
    "import matplotlib.pyplot as plt\n",
    "import seaborn as sn\n",
    "from scipy.signal import butter, sosfiltfilt, sosfreqz \n",
    "\n",
    "\n",
    "import scipy.io\n",
    "from keras.models import Sequential\n",
    "from keras.layers import Dense, Dropout, Activation, LSTM, Conv1D\n",
    "from keras.optimizers import SGD, Nadam, Adam, RMSprop\n",
    "from keras.metrics import Precision, Recall\n",
    "\n",
    "from sklearn import preprocessing\n",
    "from sklearn.model_selection import train_test_split\n",
    "from sklearn.model_selection import GridSearchCV\n",
    "from sklearn.pipeline import Pipeline\n",
    "from sklearn.discriminant_analysis import LinearDiscriminantAnalysis\n",
    "from sklearn.model_selection import ShuffleSplit, cross_val_score\n",
    "from sklearn.decomposition import FastICA\n",
    "from sklearn.metrics import confusion_matrix, classification_report\n",
    "\n",
    "import mne\n",
    "from mne.decoding import CSP\n",
    "from mne import create_info\n",
    "\n",
    "from tqdm import tqdm"
   ]
  },
  {
   "cell_type": "code",
   "execution_count": 46,
   "metadata": {},
   "outputs": [],
   "source": [
    "# Define variables here\n",
    "#Xuanyu\n",
    "data_path = './BCICIV_2b_gdf/'#the folder where all raw data files live\n",
    "\n",
    "#Can\n",
    "#data_path = '/Users/canliu/COGS 189/Project'\n",
    "\n",
    "train_portion = 0.7 #the portion of training data among all the raw data files\n",
    "\n",
    "# from the data description document\n",
    "event_start = 4 #the start time point (sec) of imagery for each trial\n",
    "event_end = 7 #the end time point (sec) of imagery for each trial\n",
    "bsl_start = 0 #the start time point (sec) of baseline for each trial\n",
    "bsl_end = 2 #the end time point (sec) of baseline for each trial\n",
    "\n",
    "files = [os.path.join(data_path, f) for f in os.listdir(data_path) if os.path.isfile(os.path.join(data_path, f))]\n",
    "train_files = [f for f in files if f[-5]=='T']\n",
    "# for testing purposes only\n",
    "#train_files = files[:5]"
   ]
  },
  {
   "cell_type": "markdown",
   "metadata": {},
   "source": [
    "## Define functions"
   ]
  },
  {
   "cell_type": "code",
   "execution_count": 27,
   "metadata": {},
   "outputs": [],
   "source": [
    "def time_ind_conversion(sr, t):\n",
    "    \"\"\"\n",
    "    Convert time in second to the index in the signal array\n",
    "    \"\"\"\n",
    "    return int(np.round(sr*t))\n",
    "\n",
    "\n",
    "# from A1\n",
    "def butter_bandpass(lowcut, highcut, fs, order = 2):\n",
    "        nyq = 0.5 * fs\n",
    "        low = lowcut / nyq\n",
    "        high = highcut / nyq\n",
    "        sos = butter(order, [low, high], analog = False, btype = 'band', output = 'sos')\n",
    "        return sos\n",
    "\n",
    "def butter_bandpass_filter(data, lowcut, highcut, fs, order = 2):\n",
    "        sos = butter_bandpass(lowcut, highcut, fs, order = order)\n",
    "        y = sosfiltfilt(sos, data)\n",
    "        return y\n",
    "\n",
    "def populate_filt_data(files, event_start, event_end, bsl_start, bsl_end, lowcut=7, highcut=30):\n",
    "    \"\"\"\n",
    "    populate and pre-process data for training the model\n",
    "    \n",
    "    \"It is noted in the literature that while performing any motor imagery tasks, \n",
    "    two major frequency band of EEG spectrum i.e mu (7-12 Hz) as well as beta (12-30 Hz) \n",
    "    bands are actively involved.\"\n",
    "    \n",
    "    input:\n",
    "        files: list of file paths to the raw data files\n",
    "        event_start: the start time point (sec) of imagery for each trial\n",
    "        event_end: the end time point (sec) of imagery for each trial\n",
    "        bsl_start: the start time point (sec) of baseline for each trial\n",
    "        bsl_end: the end time point (sec) of baseline for each trial\n",
    "        lowcut: lower end of the bandpass filter, default=7Hz\n",
    "        highcut: higher end of the bandpass filter, default=30Hz\n",
    "        \n",
    "    output:\n",
    "        data: list of eeg signal segments for each imagery \n",
    "        label: list of labels for each segment\n",
    "    \n",
    "    \"\"\"\n",
    "    labels = []\n",
    "    data = []\n",
    "    for i in files:\n",
    "        HDR = json.loads(biosig.header(i))\n",
    "        sr  = HDR['Samplingrate']\n",
    "        events = pd.json_normalize(HDR['EVENT'])\n",
    "        mi_events = events[events.Description.apply(lambda x: 'class' in x)]\n",
    "        all_data = biosig.data(i).T\n",
    "        \n",
    "        for j in mi_events.index:\n",
    "            t_start = time_ind_conversion(sr, events.POS[j-1]+event_start)\n",
    "            t_end = time_ind_conversion(sr, events.POS[j-1]+event_end)\n",
    "            #only use the EEG channels to prevent the model learning EOG patterns\n",
    "            seg = all_data[:3, t_start:t_end]\n",
    "            #calculate baseline and trial mean\n",
    "            t_bsl_start = time_ind_conversion(sr, events.POS[j-1]+bsl_start)\n",
    "            t_bsl_end = time_ind_conversion(sr, events.POS[j-1]+bsl_end)\n",
    "            bsl_sig = all_data[:3, t_bsl_start:t_bsl_end]\n",
    "            bsl = np.nanmean(bsl_sig, 1)\n",
    "            trial_mean = np.nanmean(seg, 1)\n",
    "            #preprocess the data by subtract baseline and the trial mean\n",
    "            seg_after = butter_bandpass_filter((seg.T - bsl - trial_mean).T, lowcut=lowcut, highcut=highcut, fs=sr)\n",
    "            if np.isnan(seg_after).sum()==0:\n",
    "                data.append(seg_after)\n",
    "                labels.append(mi_events.Description[j])\n",
    "    return data, labels\n",
    "\n",
    "def reshape_data(data, label):\n",
    "    \"\"\"\n",
    "    reshape the data to the shape: n_samples * time * channels\n",
    "    binarize the labels for the model\n",
    "    \"\"\"\n",
    "    x = np.dstack(data)\n",
    "    x = x.reshape(x.shape[2], x.shape[1], x.shape[0])\n",
    "    lb = preprocessing.LabelBinarizer()\n",
    "    y = lb.fit_transform(label)\n",
    "    return x, y\n",
    "\n",
    "def create_model(filters=256, pool_size=4, units=64, dropout=0.1, optim='adam'):\n",
    "    model=Sequential()\n",
    "    model.add(Conv1D(filters=filters, kernel_size=5, activation = 'relu', input_shape = (750, 3)))\n",
    "    model.add(LSTM(units))\n",
    "    model.add(Dropout(dropout))\n",
    "    model.add(Dense(2, activation='softmax'))\n",
    "    model.compile(loss = 'sparse_categorical_crossentropy', optimizer=optim, metrics=['accuracy'])\n",
    "    return model\n",
    "\n"
   ]
  },
  {
   "cell_type": "markdown",
   "metadata": {},
   "source": [
    "## Build the model"
   ]
  },
  {
   "cell_type": "markdown",
   "metadata": {},
   "source": [
    "### high pass + ICA (remove EOG) + CSP (augmentation)+ 1DConv(feature extraction) + LSTM (sequential learning)"
   ]
  },
  {
   "cell_type": "code",
   "execution_count": null,
   "metadata": {
    "scrolled": true
   },
   "outputs": [],
   "source": [
    "# This doesn't work... Why?\n",
    "\n",
    "\n",
    "# train_data, train_label = populate_filt_data(train_files, event_start, event_end, bsl_start, bsl_end)\n",
    "# data, label = reshape_data(train_data, train_label)\n",
    "# ica = FastICA(n_components=3)\n",
    "# all_c3 = data[:,:,0]\n",
    "# components = ica.fit_transform(all_c3)\n"
   ]
  },
  {
   "cell_type": "code",
   "execution_count": 35,
   "metadata": {
    "scrolled": true
   },
   "outputs": [
    {
     "name": "stdout",
     "output_type": "stream",
     "text": [
      "Computing rank from data with rank={'eeg': 3}\n",
      "    Using tolerance 1.2 (2.2e-16 eps * 3 dim * 1.8e+15  max singular value)\n",
      "    Estimated rank (mag): 3\n",
      "    MAG: rank 3 computed from 3 data channels with 0 projectors\n",
      "    Setting small MAG eigenvalues to zero (without PCA)\n",
      "Reducing data rank from 3 -> 3\n",
      "Estimating covariance using EMPIRICAL\n",
      "Done.\n",
      "Computing rank from data with rank={'eeg': 3, 'mag': 3}\n",
      "    Setting small MAG eigenvalues to zero (without PCA)\n",
      "Reducing data rank from 3 -> 3\n",
      "Estimating covariance using EMPIRICAL\n",
      "Done.\n",
      "Computing rank from data with rank={'eeg': 3, 'mag': 3}\n",
      "    Setting small MAG eigenvalues to zero (without PCA)\n",
      "Reducing data rank from 3 -> 3\n",
      "Estimating covariance using EMPIRICAL\n",
      "Done.\n",
      "Computing rank from data with rank={'eeg': 3, 'mag': 3}\n",
      "    Setting small MAG eigenvalues to zero (without PCA)\n",
      "Reducing data rank from 3 -> 3\n",
      "Estimating covariance using EMPIRICAL\n",
      "Done.\n"
     ]
    }
   ],
   "source": [
    "# Load data after band-pass filter\n",
    "train_data, train_label = populate_filt_data(train_files, event_start, event_end, bsl_start, bsl_end)\n",
    "data, label = reshape_data(train_data, train_label)\n",
    "train_x, test_x, train_y, test_y = train_test_split(data, label, test_size=0.2, random_state=42)\n",
    "\n",
    "# TODO: Skip ICA for now because it didn't work\n",
    "\n",
    "# CSP transformation\n",
    "csp = CSP(rank={'eeg':3}, transform_into = 'csp_space')\n",
    "x_new = csp.fit_transform(train_x.reshape(train_x.shape[0], train_x.shape[2], train_x.shape[1]), \n",
    "                          np.squeeze(train_y)).reshape(train_x.shape[0], train_x.shape[1], train_x.shape[2])\n",
    "x_new_test = csp.fit_transform(test_x.reshape(test_x.shape[0], test_x.shape[2], test_x.shape[1]),\n",
    "                               np.squeeze(test_y)).reshape(test_x.shape[0], test_x.shape[1], test_x.shape[2])\n",
    "\n",
    "# plot top CSP filters here"
   ]
  },
  {
   "cell_type": "code",
   "execution_count": 63,
   "metadata": {
    "scrolled": true
   },
   "outputs": [],
   "source": [
    "# plot top filters, Doesn't work: No digitization points found.\n",
    "# info = create_info(ch_names=['C3', 'Cz', 'C4'], sfreq=250.0, ch_types = 'eeg')\n",
    "# csp.plot_patterns(info=info, ch_type='eeg', sphere=0.095)"
   ]
  },
  {
   "cell_type": "code",
   "execution_count": 41,
   "metadata": {
    "scrolled": true
   },
   "outputs": [
    {
     "name": "stdout",
     "output_type": "stream",
     "text": [
      "Epoch 1/20\n",
      "40/40 [==============================] - 22s 504ms/step - loss: 0.6990 - accuracy: 0.4851\n",
      "Epoch 2/20\n",
      "40/40 [==============================] - 18s 454ms/step - loss: 0.6917 - accuracy: 0.5318\n",
      "Epoch 3/20\n",
      "40/40 [==============================] - 19s 466ms/step - loss: 0.6878 - accuracy: 0.5301\n",
      "Epoch 4/20\n",
      "40/40 [==============================] - 18s 455ms/step - loss: 0.6867 - accuracy: 0.5574\n",
      "Epoch 5/20\n",
      "40/40 [==============================] - 18s 454ms/step - loss: 0.6832 - accuracy: 0.5417\n",
      "Epoch 6/20\n",
      "40/40 [==============================] - 22s 543ms/step - loss: 0.6829 - accuracy: 0.5453\n",
      "Epoch 7/20\n",
      "40/40 [==============================] - 22s 555ms/step - loss: 0.6737 - accuracy: 0.5613\n",
      "Epoch 8/20\n",
      "40/40 [==============================] - 19s 472ms/step - loss: 0.6661 - accuracy: 0.5871\n",
      "Epoch 9/20\n",
      "40/40 [==============================] - 19s 482ms/step - loss: 0.6620 - accuracy: 0.5882\n",
      "Epoch 10/20\n",
      "40/40 [==============================] - 19s 468ms/step - loss: 0.6437 - accuracy: 0.6319\n",
      "Epoch 11/20\n",
      "40/40 [==============================] - 22s 558ms/step - loss: 0.6283 - accuracy: 0.6331\n",
      "Epoch 12/20\n",
      "40/40 [==============================] - 22s 551ms/step - loss: 0.6252 - accuracy: 0.6373\n",
      "Epoch 13/20\n",
      "40/40 [==============================] - 22s 539ms/step - loss: 0.6076 - accuracy: 0.6714\n",
      "Epoch 14/20\n",
      "40/40 [==============================] - 23s 573ms/step - loss: 0.6056 - accuracy: 0.6743\n",
      "Epoch 15/20\n",
      "40/40 [==============================] - 21s 526ms/step - loss: 0.5783 - accuracy: 0.6843\n",
      "Epoch 16/20\n",
      "40/40 [==============================] - 20s 505ms/step - loss: 0.5838 - accuracy: 0.6802\n",
      "Epoch 17/20\n",
      "40/40 [==============================] - 21s 522ms/step - loss: 0.5729 - accuracy: 0.6940\n",
      "Epoch 18/20\n",
      "40/40 [==============================] - 21s 515ms/step - loss: 0.5408 - accuracy: 0.7233\n",
      "Epoch 19/20\n",
      "40/40 [==============================] - 20s 487ms/step - loss: 0.5301 - accuracy: 0.7304\n",
      "Epoch 20/20\n",
      "40/40 [==============================] - 20s 496ms/step - loss: 0.4988 - accuracy: 0.7400\n",
      "16/16 [==============================] - 2s 84ms/step - loss: 0.8645 - accuracy: 0.5041\n"
     ]
    },
    {
     "data": {
      "text/plain": [
       "[0.8645426630973816, 0.5040816068649292]"
      ]
     },
     "execution_count": 41,
     "metadata": {},
     "output_type": "execute_result"
    }
   ],
   "source": [
    "# build model here\n",
    "model = create_model()\n",
    "model.fit(x_new, train_y, epochs=20, batch_size=50)\n",
    "model.evaluate(x_new_test, test_y)"
   ]
  },
  {
   "cell_type": "code",
   "execution_count": 42,
   "metadata": {},
   "outputs": [
    {
     "data": {
      "text/plain": [
       "[Text(33.0, 0.5, 'Predicted'), Text(0.5, 15.0, 'Actual')]"
      ]
     },
     "execution_count": 42,
     "metadata": {},
     "output_type": "execute_result"
    },
    {
     "data": {
      "image/png": "[encoded data removed]",
      "text/plain": [
       "<Figure size 432x288 with 1 Axes>"
      ]
     },
     "metadata": {
      "needs_background": "light"
     },
     "output_type": "display_data"
    }
   ],
   "source": [
    "y_pred = model.predict_classes(x_new_test)\n",
    "cm = confusion_matrix(test_y, np.rint(y_pred))\n",
    "ax = sn.heatmap(cm, annot=True, fmt='d', cbar=False, xticklabels=['Left', 'Right'], yticklabels=['Left', 'Right'])\n",
    "ax.set(xlabel='Actual', ylabel='Predicted')"
   ]
  },
  {
   "cell_type": "code",
   "execution_count": 44,
   "metadata": {},
   "outputs": [
    {
     "name": "stdout",
     "output_type": "stream",
     "text": [
      "              precision    recall  f1-score   support\n",
      "\n",
      "           0       0.52      0.51      0.51       255\n",
      "           1       0.48      0.50      0.49       235\n",
      "\n",
      "    accuracy                           0.50       490\n",
      "   macro avg       0.50      0.50      0.50       490\n",
      "weighted avg       0.50      0.50      0.50       490\n",
      "\n"
     ]
    }
   ],
   "source": [
    "print(classification_report(test_y, np.rint(y_pred)))"
   ]
  },
  {
   "cell_type": "markdown",
   "metadata": {},
   "source": [
    "### Train on each individual"
   ]
  },
  {
   "cell_type": "code",
   "execution_count": 58,
   "metadata": {},
   "outputs": [],
   "source": [
    "def training_pipeline(train_data, train_label, verbose=1):\n",
    "    data, label = reshape_data(train_data, train_label)\n",
    "    train_x, test_x, train_y, test_y = train_test_split(data, label, test_size=0.3, random_state=42)\n",
    "\n",
    "    # TODO: Skip ICA for now because it didn't work\n",
    "\n",
    "    # CSP transformation\n",
    "    csp = CSP(rank={'eeg':3}, transform_into = 'csp_space')\n",
    "    x_new = csp.fit_transform(train_x.reshape(train_x.shape[0], train_x.shape[2], train_x.shape[1]), \n",
    "                              np.squeeze(train_y)).reshape(train_x.shape[0], train_x.shape[1], train_x.shape[2])\n",
    "    x_new_test = csp.fit_transform(test_x.reshape(test_x.shape[0], test_x.shape[2], test_x.shape[1]),\n",
    "                                   np.squeeze(test_y)).reshape(test_x.shape[0], test_x.shape[1], test_x.shape[2])\n",
    "    model = create_model()\n",
    "    model.fit(x_new, train_y, epochs=10, batch_size=20, verbose=verbose)\n",
    "    y_pred = model.predict_classes(x_new_test)\n",
    "    eval_result = classification_report(test_y, np.rint(y_pred), output_dict=True)\n",
    "    return eval_result\n"
   ]
  },
  {
   "cell_type": "code",
   "execution_count": 59,
   "metadata": {},
   "outputs": [
    {
     "name": "stderr",
     "output_type": "stream",
     "text": [
      "\n",
      "\n",
      "  0%|          | 0/27 [00:00<?, ?it/s]\u001b[A\u001b[A"
     ]
    },
    {
     "name": "stdout",
     "output_type": "stream",
     "text": [
      "Training sample #0\n"
     ]
    },
    {
     "name": "stderr",
     "output_type": "stream",
     "text": [
      "/Users/xuanyuwu/opt/anaconda3/lib/python3.7/site-packages/tensorflow/python/keras/engine/sequential.py:450: UserWarning: `model.predict_classes()` is deprecated and will be removed after 2021-01-01. Please use instead:* `np.argmax(model.predict(x), axis=-1)`,   if your model does multi-class classification   (e.g. if it uses a `softmax` last-layer activation).* `(model.predict(x) > 0.5).astype(\"int32\")`,   if your model does binary classification   (e.g. if it uses a `sigmoid` last-layer activation).\n",
      "  warnings.warn('`model.predict_classes()` is deprecated and '\n",
      "\n",
      "\n",
      "  4%|▎         | 1/27 [00:21<09:29, 21.92s/it]\u001b[A\u001b[A"
     ]
    },
    {
     "name": "stdout",
     "output_type": "stream",
     "text": [
      "Training sample #1\n"
     ]
    },
    {
     "name": "stderr",
     "output_type": "stream",
     "text": [
      "\n",
      "\n",
      "  7%|▋         | 2/27 [00:38<08:28, 20.35s/it]\u001b[A\u001b[A"
     ]
    },
    {
     "name": "stdout",
     "output_type": "stream",
     "text": [
      "Training sample #2\n"
     ]
    },
    {
     "name": "stderr",
     "output_type": "stream",
     "text": [
      "\n",
      "\n",
      " 11%|█         | 3/27 [00:58<08:07, 20.30s/it]\u001b[A\u001b[A"
     ]
    },
    {
     "name": "stdout",
     "output_type": "stream",
     "text": [
      "Training sample #3\n",
      "WARNING:tensorflow:5 out of the last 23 calls to <function Model.make_predict_function.<locals>.predict_function at 0x7f8d820a6a70> triggered tf.function retracing. Tracing is expensive and the excessive number of tracings could be due to (1) creating @tf.function repeatedly in a loop, (2) passing tensors with different shapes, (3) passing Python objects instead of tensors. For (1), please define your @tf.function outside of the loop. For (2), @tf.function has experimental_relax_shapes=True option that relaxes argument shapes that can avoid unnecessary retracing. For (3), please refer to https://www.tensorflow.org/guide/function#controlling_retracing and https://www.tensorflow.org/api_docs/python/tf/function for  more details.\n"
     ]
    },
    {
     "name": "stderr",
     "output_type": "stream",
     "text": [
      "\n",
      "\n",
      " 15%|█▍        | 4/27 [01:16<07:29, 19.56s/it]\u001b[A\u001b[A"
     ]
    },
    {
     "name": "stdout",
     "output_type": "stream",
     "text": [
      "Training sample #4\n",
      "WARNING:tensorflow:6 out of the last 25 calls to <function Model.make_predict_function.<locals>.predict_function at 0x7f8d81ecfb90> triggered tf.function retracing. Tracing is expensive and the excessive number of tracings could be due to (1) creating @tf.function repeatedly in a loop, (2) passing tensors with different shapes, (3) passing Python objects instead of tensors. For (1), please define your @tf.function outside of the loop. For (2), @tf.function has experimental_relax_shapes=True option that relaxes argument shapes that can avoid unnecessary retracing. For (3), please refer to https://www.tensorflow.org/guide/function#controlling_retracing and https://www.tensorflow.org/api_docs/python/tf/function for  more details.\n"
     ]
    },
    {
     "name": "stderr",
     "output_type": "stream",
     "text": [
      "\n",
      "\n",
      " 19%|█▊        | 5/27 [01:38<07:27, 20.32s/it]\u001b[A\u001b[A"
     ]
    },
    {
     "name": "stdout",
     "output_type": "stream",
     "text": [
      "Training sample #5\n",
      "WARNING:tensorflow:6 out of the last 11 calls to <function Model.make_predict_function.<locals>.predict_function at 0x7f8d7f4f8290> triggered tf.function retracing. Tracing is expensive and the excessive number of tracings could be due to (1) creating @tf.function repeatedly in a loop, (2) passing tensors with different shapes, (3) passing Python objects instead of tensors. For (1), please define your @tf.function outside of the loop. For (2), @tf.function has experimental_relax_shapes=True option that relaxes argument shapes that can avoid unnecessary retracing. For (3), please refer to https://www.tensorflow.org/guide/function#controlling_retracing and https://www.tensorflow.org/api_docs/python/tf/function for  more details.\n"
     ]
    },
    {
     "name": "stderr",
     "output_type": "stream",
     "text": [
      "\n",
      "\n",
      " 22%|██▏       | 6/27 [01:57<06:55, 19.80s/it]\u001b[A\u001b[A"
     ]
    },
    {
     "name": "stdout",
     "output_type": "stream",
     "text": [
      "Training sample #6\n",
      "WARNING:tensorflow:6 out of the last 11 calls to <function Model.make_predict_function.<locals>.predict_function at 0x7f8d82707b00> triggered tf.function retracing. Tracing is expensive and the excessive number of tracings could be due to (1) creating @tf.function repeatedly in a loop, (2) passing tensors with different shapes, (3) passing Python objects instead of tensors. For (1), please define your @tf.function outside of the loop. For (2), @tf.function has experimental_relax_shapes=True option that relaxes argument shapes that can avoid unnecessary retracing. For (3), please refer to https://www.tensorflow.org/guide/function#controlling_retracing and https://www.tensorflow.org/api_docs/python/tf/function for  more details.\n"
     ]
    },
    {
     "name": "stderr",
     "output_type": "stream",
     "text": [
      "\n",
      "\n",
      " 26%|██▌       | 7/27 [02:13<06:12, 18.64s/it]\u001b[A\u001b[A"
     ]
    },
    {
     "name": "stdout",
     "output_type": "stream",
     "text": [
      "Training sample #7\n",
      "WARNING:tensorflow:6 out of the last 11 calls to <function Model.make_predict_function.<locals>.predict_function at 0x7f8d80e2e560> triggered tf.function retracing. Tracing is expensive and the excessive number of tracings could be due to (1) creating @tf.function repeatedly in a loop, (2) passing tensors with different shapes, (3) passing Python objects instead of tensors. For (1), please define your @tf.function outside of the loop. For (2), @tf.function has experimental_relax_shapes=True option that relaxes argument shapes that can avoid unnecessary retracing. For (3), please refer to https://www.tensorflow.org/guide/function#controlling_retracing and https://www.tensorflow.org/api_docs/python/tf/function for  more details.\n"
     ]
    },
    {
     "name": "stderr",
     "output_type": "stream",
     "text": [
      "\n",
      "\n",
      " 30%|██▉       | 8/27 [02:31<05:50, 18.43s/it]\u001b[A\u001b[A"
     ]
    },
    {
     "name": "stdout",
     "output_type": "stream",
     "text": [
      "Training sample #8\n",
      "WARNING:tensorflow:6 out of the last 11 calls to <function Model.make_predict_function.<locals>.predict_function at 0x7f8db308a200> triggered tf.function retracing. Tracing is expensive and the excessive number of tracings could be due to (1) creating @tf.function repeatedly in a loop, (2) passing tensors with different shapes, (3) passing Python objects instead of tensors. For (1), please define your @tf.function outside of the loop. For (2), @tf.function has experimental_relax_shapes=True option that relaxes argument shapes that can avoid unnecessary retracing. For (3), please refer to https://www.tensorflow.org/guide/function#controlling_retracing and https://www.tensorflow.org/api_docs/python/tf/function for  more details.\n"
     ]
    },
    {
     "name": "stderr",
     "output_type": "stream",
     "text": [
      "\n",
      "\n",
      " 33%|███▎      | 9/27 [02:47<05:20, 17.79s/it]\u001b[A\u001b[A"
     ]
    },
    {
     "name": "stdout",
     "output_type": "stream",
     "text": [
      "Training sample #9\n",
      "WARNING:tensorflow:6 out of the last 11 calls to <function Model.make_predict_function.<locals>.predict_function at 0x7f8d7ff6f560> triggered tf.function retracing. Tracing is expensive and the excessive number of tracings could be due to (1) creating @tf.function repeatedly in a loop, (2) passing tensors with different shapes, (3) passing Python objects instead of tensors. For (1), please define your @tf.function outside of the loop. For (2), @tf.function has experimental_relax_shapes=True option that relaxes argument shapes that can avoid unnecessary retracing. For (3), please refer to https://www.tensorflow.org/guide/function#controlling_retracing and https://www.tensorflow.org/api_docs/python/tf/function for  more details.\n"
     ]
    },
    {
     "name": "stderr",
     "output_type": "stream",
     "text": [
      "\n",
      "\n",
      " 37%|███▋      | 10/27 [03:08<05:20, 18.83s/it]\u001b[A\u001b[A"
     ]
    },
    {
     "name": "stdout",
     "output_type": "stream",
     "text": [
      "Training sample #10\n",
      "WARNING:tensorflow:6 out of the last 11 calls to <function Model.make_predict_function.<locals>.predict_function at 0x7f8d801d9f80> triggered tf.function retracing. Tracing is expensive and the excessive number of tracings could be due to (1) creating @tf.function repeatedly in a loop, (2) passing tensors with different shapes, (3) passing Python objects instead of tensors. For (1), please define your @tf.function outside of the loop. For (2), @tf.function has experimental_relax_shapes=True option that relaxes argument shapes that can avoid unnecessary retracing. For (3), please refer to https://www.tensorflow.org/guide/function#controlling_retracing and https://www.tensorflow.org/api_docs/python/tf/function for  more details.\n"
     ]
    },
    {
     "name": "stderr",
     "output_type": "stream",
     "text": [
      "\n",
      "\n",
      " 41%|████      | 11/27 [03:28<05:04, 19.00s/it]\u001b[A\u001b[A"
     ]
    },
    {
     "name": "stdout",
     "output_type": "stream",
     "text": [
      "Training sample #11\n",
      "WARNING:tensorflow:6 out of the last 11 calls to <function Model.make_predict_function.<locals>.predict_function at 0x7f8d804df4d0> triggered tf.function retracing. Tracing is expensive and the excessive number of tracings could be due to (1) creating @tf.function repeatedly in a loop, (2) passing tensors with different shapes, (3) passing Python objects instead of tensors. For (1), please define your @tf.function outside of the loop. For (2), @tf.function has experimental_relax_shapes=True option that relaxes argument shapes that can avoid unnecessary retracing. For (3), please refer to https://www.tensorflow.org/guide/function#controlling_retracing and https://www.tensorflow.org/api_docs/python/tf/function for  more details.\n"
     ]
    },
    {
     "name": "stderr",
     "output_type": "stream",
     "text": [
      "\n",
      "\n",
      " 44%|████▍     | 12/27 [03:45<04:39, 18.60s/it]\u001b[A\u001b[A"
     ]
    },
    {
     "name": "stdout",
     "output_type": "stream",
     "text": [
      "Training sample #12\n",
      "WARNING:tensorflow:6 out of the last 11 calls to <function Model.make_predict_function.<locals>.predict_function at 0x7f8dbae847a0> triggered tf.function retracing. Tracing is expensive and the excessive number of tracings could be due to (1) creating @tf.function repeatedly in a loop, (2) passing tensors with different shapes, (3) passing Python objects instead of tensors. For (1), please define your @tf.function outside of the loop. For (2), @tf.function has experimental_relax_shapes=True option that relaxes argument shapes that can avoid unnecessary retracing. For (3), please refer to https://www.tensorflow.org/guide/function#controlling_retracing and https://www.tensorflow.org/api_docs/python/tf/function for  more details.\n"
     ]
    },
    {
     "name": "stderr",
     "output_type": "stream",
     "text": [
      "\n",
      "\n",
      " 48%|████▊     | 13/27 [04:01<04:07, 17.68s/it]\u001b[A\u001b[A"
     ]
    },
    {
     "name": "stdout",
     "output_type": "stream",
     "text": [
      "Training sample #13\n",
      "WARNING:tensorflow:6 out of the last 11 calls to <function Model.make_predict_function.<locals>.predict_function at 0x7f8daf29a560> triggered tf.function retracing. Tracing is expensive and the excessive number of tracings could be due to (1) creating @tf.function repeatedly in a loop, (2) passing tensors with different shapes, (3) passing Python objects instead of tensors. For (1), please define your @tf.function outside of the loop. For (2), @tf.function has experimental_relax_shapes=True option that relaxes argument shapes that can avoid unnecessary retracing. For (3), please refer to https://www.tensorflow.org/guide/function#controlling_retracing and https://www.tensorflow.org/api_docs/python/tf/function for  more details.\n"
     ]
    },
    {
     "name": "stderr",
     "output_type": "stream",
     "text": [
      "\n",
      "\n",
      " 52%|█████▏    | 14/27 [04:20<03:54, 18.00s/it]\u001b[A\u001b[A"
     ]
    },
    {
     "name": "stdout",
     "output_type": "stream",
     "text": [
      "Training sample #14\n",
      "WARNING:tensorflow:6 out of the last 11 calls to <function Model.make_predict_function.<locals>.predict_function at 0x7f8d9fc10170> triggered tf.function retracing. Tracing is expensive and the excessive number of tracings could be due to (1) creating @tf.function repeatedly in a loop, (2) passing tensors with different shapes, (3) passing Python objects instead of tensors. For (1), please define your @tf.function outside of the loop. For (2), @tf.function has experimental_relax_shapes=True option that relaxes argument shapes that can avoid unnecessary retracing. For (3), please refer to https://www.tensorflow.org/guide/function#controlling_retracing and https://www.tensorflow.org/api_docs/python/tf/function for  more details.\n"
     ]
    },
    {
     "name": "stderr",
     "output_type": "stream",
     "text": [
      "\n",
      "\n",
      " 56%|█████▌    | 15/27 [04:35<03:25, 17.15s/it]\u001b[A\u001b[A"
     ]
    },
    {
     "name": "stdout",
     "output_type": "stream",
     "text": [
      "Training sample #15\n",
      "WARNING:tensorflow:6 out of the last 11 calls to <function Model.make_predict_function.<locals>.predict_function at 0x7f8d9fc04cb0> triggered tf.function retracing. Tracing is expensive and the excessive number of tracings could be due to (1) creating @tf.function repeatedly in a loop, (2) passing tensors with different shapes, (3) passing Python objects instead of tensors. For (1), please define your @tf.function outside of the loop. For (2), @tf.function has experimental_relax_shapes=True option that relaxes argument shapes that can avoid unnecessary retracing. For (3), please refer to https://www.tensorflow.org/guide/function#controlling_retracing and https://www.tensorflow.org/api_docs/python/tf/function for  more details.\n"
     ]
    },
    {
     "name": "stderr",
     "output_type": "stream",
     "text": [
      "\n",
      "\n",
      " 59%|█████▉    | 16/27 [04:51<03:05, 16.87s/it]\u001b[A\u001b[A"
     ]
    },
    {
     "name": "stdout",
     "output_type": "stream",
     "text": [
      "Training sample #16\n",
      "WARNING:tensorflow:6 out of the last 11 calls to <function Model.make_predict_function.<locals>.predict_function at 0x7f8d9fc46440> triggered tf.function retracing. Tracing is expensive and the excessive number of tracings could be due to (1) creating @tf.function repeatedly in a loop, (2) passing tensors with different shapes, (3) passing Python objects instead of tensors. For (1), please define your @tf.function outside of the loop. For (2), @tf.function has experimental_relax_shapes=True option that relaxes argument shapes that can avoid unnecessary retracing. For (3), please refer to https://www.tensorflow.org/guide/function#controlling_retracing and https://www.tensorflow.org/api_docs/python/tf/function for  more details.\n"
     ]
    },
    {
     "name": "stderr",
     "output_type": "stream",
     "text": [
      "\n",
      "\n",
      " 63%|██████▎   | 17/27 [05:13<03:05, 18.55s/it]\u001b[A\u001b[A"
     ]
    },
    {
     "name": "stdout",
     "output_type": "stream",
     "text": [
      "Training sample #17\n",
      "WARNING:tensorflow:6 out of the last 11 calls to <function Model.make_predict_function.<locals>.predict_function at 0x7f8d7f329a70> triggered tf.function retracing. Tracing is expensive and the excessive number of tracings could be due to (1) creating @tf.function repeatedly in a loop, (2) passing tensors with different shapes, (3) passing Python objects instead of tensors. For (1), please define your @tf.function outside of the loop. For (2), @tf.function has experimental_relax_shapes=True option that relaxes argument shapes that can avoid unnecessary retracing. For (3), please refer to https://www.tensorflow.org/guide/function#controlling_retracing and https://www.tensorflow.org/api_docs/python/tf/function for  more details.\n"
     ]
    },
    {
     "name": "stderr",
     "output_type": "stream",
     "text": [
      "\n",
      "\n",
      " 67%|██████▋   | 18/27 [05:29<02:39, 17.76s/it]\u001b[A\u001b[A"
     ]
    },
    {
     "name": "stdout",
     "output_type": "stream",
     "text": [
      "Training sample #18\n",
      "WARNING:tensorflow:6 out of the last 11 calls to <function Model.make_predict_function.<locals>.predict_function at 0x7f8d80239f80> triggered tf.function retracing. Tracing is expensive and the excessive number of tracings could be due to (1) creating @tf.function repeatedly in a loop, (2) passing tensors with different shapes, (3) passing Python objects instead of tensors. For (1), please define your @tf.function outside of the loop. For (2), @tf.function has experimental_relax_shapes=True option that relaxes argument shapes that can avoid unnecessary retracing. For (3), please refer to https://www.tensorflow.org/guide/function#controlling_retracing and https://www.tensorflow.org/api_docs/python/tf/function for  more details.\n"
     ]
    },
    {
     "name": "stderr",
     "output_type": "stream",
     "text": [
      "\n",
      "\n",
      " 70%|███████   | 19/27 [05:45<02:17, 17.14s/it]\u001b[A\u001b[A"
     ]
    },
    {
     "name": "stdout",
     "output_type": "stream",
     "text": [
      "Training sample #19\n",
      "WARNING:tensorflow:6 out of the last 11 calls to <function Model.make_predict_function.<locals>.predict_function at 0x7f8d7f563a70> triggered tf.function retracing. Tracing is expensive and the excessive number of tracings could be due to (1) creating @tf.function repeatedly in a loop, (2) passing tensors with different shapes, (3) passing Python objects instead of tensors. For (1), please define your @tf.function outside of the loop. For (2), @tf.function has experimental_relax_shapes=True option that relaxes argument shapes that can avoid unnecessary retracing. For (3), please refer to https://www.tensorflow.org/guide/function#controlling_retracing and https://www.tensorflow.org/api_docs/python/tf/function for  more details.\n"
     ]
    },
    {
     "name": "stderr",
     "output_type": "stream",
     "text": [
      "\n",
      "\n",
      " 74%|███████▍  | 20/27 [06:04<02:04, 17.73s/it]\u001b[A\u001b[A"
     ]
    },
    {
     "name": "stdout",
     "output_type": "stream",
     "text": [
      "Training sample #20\n",
      "WARNING:tensorflow:6 out of the last 11 calls to <function Model.make_predict_function.<locals>.predict_function at 0x7f8d7f00d830> triggered tf.function retracing. Tracing is expensive and the excessive number of tracings could be due to (1) creating @tf.function repeatedly in a loop, (2) passing tensors with different shapes, (3) passing Python objects instead of tensors. For (1), please define your @tf.function outside of the loop. For (2), @tf.function has experimental_relax_shapes=True option that relaxes argument shapes that can avoid unnecessary retracing. For (3), please refer to https://www.tensorflow.org/guide/function#controlling_retracing and https://www.tensorflow.org/api_docs/python/tf/function for  more details.\n"
     ]
    },
    {
     "name": "stderr",
     "output_type": "stream",
     "text": [
      "\n",
      "\n",
      " 78%|███████▊  | 21/27 [06:23<01:47, 17.96s/it]\u001b[A\u001b[A"
     ]
    },
    {
     "name": "stdout",
     "output_type": "stream",
     "text": [
      "Training sample #21\n",
      "WARNING:tensorflow:6 out of the last 11 calls to <function Model.make_predict_function.<locals>.predict_function at 0x7f8d81ecf7a0> triggered tf.function retracing. Tracing is expensive and the excessive number of tracings could be due to (1) creating @tf.function repeatedly in a loop, (2) passing tensors with different shapes, (3) passing Python objects instead of tensors. For (1), please define your @tf.function outside of the loop. For (2), @tf.function has experimental_relax_shapes=True option that relaxes argument shapes that can avoid unnecessary retracing. For (3), please refer to https://www.tensorflow.org/guide/function#controlling_retracing and https://www.tensorflow.org/api_docs/python/tf/function for  more details.\n"
     ]
    },
    {
     "name": "stderr",
     "output_type": "stream",
     "text": [
      "\n",
      "\n",
      " 81%|████████▏ | 22/27 [06:38<01:25, 17.17s/it]\u001b[A\u001b[A"
     ]
    },
    {
     "name": "stdout",
     "output_type": "stream",
     "text": [
      "Training sample #22\n",
      "WARNING:tensorflow:6 out of the last 11 calls to <function Model.make_predict_function.<locals>.predict_function at 0x7f8daf8c6f80> triggered tf.function retracing. Tracing is expensive and the excessive number of tracings could be due to (1) creating @tf.function repeatedly in a loop, (2) passing tensors with different shapes, (3) passing Python objects instead of tensors. For (1), please define your @tf.function outside of the loop. For (2), @tf.function has experimental_relax_shapes=True option that relaxes argument shapes that can avoid unnecessary retracing. For (3), please refer to https://www.tensorflow.org/guide/function#controlling_retracing and https://www.tensorflow.org/api_docs/python/tf/function for  more details.\n"
     ]
    },
    {
     "name": "stderr",
     "output_type": "stream",
     "text": [
      "\n",
      "\n",
      " 85%|████████▌ | 23/27 [06:53<01:06, 16.62s/it]\u001b[A\u001b[A"
     ]
    },
    {
     "name": "stdout",
     "output_type": "stream",
     "text": [
      "Training sample #23\n",
      "WARNING:tensorflow:6 out of the last 11 calls to <function Model.make_predict_function.<locals>.predict_function at 0x7f8d85a6bcb0> triggered tf.function retracing. Tracing is expensive and the excessive number of tracings could be due to (1) creating @tf.function repeatedly in a loop, (2) passing tensors with different shapes, (3) passing Python objects instead of tensors. For (1), please define your @tf.function outside of the loop. For (2), @tf.function has experimental_relax_shapes=True option that relaxes argument shapes that can avoid unnecessary retracing. For (3), please refer to https://www.tensorflow.org/guide/function#controlling_retracing and https://www.tensorflow.org/api_docs/python/tf/function for  more details.\n"
     ]
    },
    {
     "name": "stderr",
     "output_type": "stream",
     "text": [
      "\n",
      "\n",
      " 89%|████████▉ | 24/27 [07:12<00:52, 17.36s/it]\u001b[A\u001b[A"
     ]
    },
    {
     "name": "stdout",
     "output_type": "stream",
     "text": [
      "Training sample #24\n",
      "WARNING:tensorflow:6 out of the last 11 calls to <function Model.make_predict_function.<locals>.predict_function at 0x7f8d85939710> triggered tf.function retracing. Tracing is expensive and the excessive number of tracings could be due to (1) creating @tf.function repeatedly in a loop, (2) passing tensors with different shapes, (3) passing Python objects instead of tensors. For (1), please define your @tf.function outside of the loop. For (2), @tf.function has experimental_relax_shapes=True option that relaxes argument shapes that can avoid unnecessary retracing. For (3), please refer to https://www.tensorflow.org/guide/function#controlling_retracing and https://www.tensorflow.org/api_docs/python/tf/function for  more details.\n"
     ]
    },
    {
     "name": "stderr",
     "output_type": "stream",
     "text": [
      "\n",
      "\n",
      " 93%|█████████▎| 25/27 [07:28<00:33, 16.85s/it]\u001b[A\u001b[A"
     ]
    },
    {
     "name": "stdout",
     "output_type": "stream",
     "text": [
      "Training sample #25\n",
      "WARNING:tensorflow:6 out of the last 11 calls to <function Model.make_predict_function.<locals>.predict_function at 0x7f8d9f4a9e60> triggered tf.function retracing. Tracing is expensive and the excessive number of tracings could be due to (1) creating @tf.function repeatedly in a loop, (2) passing tensors with different shapes, (3) passing Python objects instead of tensors. For (1), please define your @tf.function outside of the loop. For (2), @tf.function has experimental_relax_shapes=True option that relaxes argument shapes that can avoid unnecessary retracing. For (3), please refer to https://www.tensorflow.org/guide/function#controlling_retracing and https://www.tensorflow.org/api_docs/python/tf/function for  more details.\n"
     ]
    },
    {
     "name": "stderr",
     "output_type": "stream",
     "text": [
      "\n",
      "\n",
      " 96%|█████████▋| 26/27 [07:44<00:16, 16.45s/it]\u001b[A\u001b[A"
     ]
    },
    {
     "name": "stdout",
     "output_type": "stream",
     "text": [
      "Training sample #26\n",
      "WARNING:tensorflow:6 out of the last 11 calls to <function Model.make_predict_function.<locals>.predict_function at 0x7f8daf8c9d40> triggered tf.function retracing. Tracing is expensive and the excessive number of tracings could be due to (1) creating @tf.function repeatedly in a loop, (2) passing tensors with different shapes, (3) passing Python objects instead of tensors. For (1), please define your @tf.function outside of the loop. For (2), @tf.function has experimental_relax_shapes=True option that relaxes argument shapes that can avoid unnecessary retracing. For (3), please refer to https://www.tensorflow.org/guide/function#controlling_retracing and https://www.tensorflow.org/api_docs/python/tf/function for  more details.\n"
     ]
    },
    {
     "name": "stderr",
     "output_type": "stream",
     "text": [
      "\n",
      "\n",
      "100%|██████████| 27/27 [07:59<00:00, 17.76s/it]\u001b[A\u001b[A\n"
     ]
    }
   ],
   "source": [
    "results = []\n",
    "mne.set_log_level('warning')\n",
    "for i in tqdm(range(len(train_files))):\n",
    "    print('Training sample #%d'%i)\n",
    "    train_data, train_label = populate_filt_data([train_files[i]], event_start, event_end, bsl_start, bsl_end)\n",
    "    eval_result = training_pipeline(train_data, train_label, verbose=0)\n",
    "    results.append(eval_result)"
   ]
  },
  {
   "cell_type": "code",
   "execution_count": 60,
   "metadata": {},
   "outputs": [
    {
     "data": {
      "text/plain": [
       "[{'0': {'precision': 0.5384615384615384,\n",
       "   'recall': 0.6666666666666666,\n",
       "   'f1-score': 0.5957446808510638,\n",
       "   'support': 21},\n",
       "  '1': {'precision': 0.6818181818181818,\n",
       "   'recall': 0.5555555555555556,\n",
       "   'f1-score': 0.6122448979591836,\n",
       "   'support': 27},\n",
       "  'accuracy': 0.6041666666666666,\n",
       "  'macro avg': {'precision': 0.6101398601398601,\n",
       "   'recall': 0.6111111111111112,\n",
       "   'f1-score': 0.6039947894051236,\n",
       "   'support': 48},\n",
       "  'weighted avg': {'precision': 0.6190996503496503,\n",
       "   'recall': 0.6041666666666666,\n",
       "   'f1-score': 0.6050260529743812,\n",
       "   'support': 48}},\n",
       " {'0': {'precision': 0.55,\n",
       "   'recall': 0.6470588235294118,\n",
       "   'f1-score': 0.5945945945945946,\n",
       "   'support': 17},\n",
       "  '1': {'precision': 0.625,\n",
       "   'recall': 0.5263157894736842,\n",
       "   'f1-score': 0.5714285714285714,\n",
       "   'support': 19},\n",
       "  'accuracy': 0.5833333333333334,\n",
       "  'macro avg': {'precision': 0.5875,\n",
       "   'recall': 0.586687306501548,\n",
       "   'f1-score': 0.583011583011583,\n",
       "   'support': 36},\n",
       "  'weighted avg': {'precision': 0.5895833333333333,\n",
       "   'recall': 0.5833333333333334,\n",
       "   'f1-score': 0.5823680823680824,\n",
       "   'support': 36}},\n",
       " {'0': {'precision': 0.59375,\n",
       "   'recall': 0.7037037037037037,\n",
       "   'f1-score': 0.6440677966101694,\n",
       "   'support': 27},\n",
       "  '1': {'precision': 0.5,\n",
       "   'recall': 0.38095238095238093,\n",
       "   'f1-score': 0.4324324324324324,\n",
       "   'support': 21},\n",
       "  'accuracy': 0.5625,\n",
       "  'macro avg': {'precision': 0.546875,\n",
       "   'recall': 0.5423280423280423,\n",
       "   'f1-score': 0.5382501145213009,\n",
       "   'support': 48},\n",
       "  'weighted avg': {'precision': 0.552734375,\n",
       "   'recall': 0.5625,\n",
       "   'f1-score': 0.5514773247824095,\n",
       "   'support': 48}},\n",
       " {'0': {'precision': 0.42105263157894735,\n",
       "   'recall': 0.5714285714285714,\n",
       "   'f1-score': 0.48484848484848486,\n",
       "   'support': 14},\n",
       "  '1': {'precision': 0.6470588235294118,\n",
       "   'recall': 0.5,\n",
       "   'f1-score': 0.5641025641025642,\n",
       "   'support': 22},\n",
       "  'accuracy': 0.5277777777777778,\n",
       "  'macro avg': {'precision': 0.5340557275541795,\n",
       "   'recall': 0.5357142857142857,\n",
       "   'f1-score': 0.5244755244755246,\n",
       "   'support': 36},\n",
       "  'weighted avg': {'precision': 0.5591675266597868,\n",
       "   'recall': 0.5277777777777778,\n",
       "   'f1-score': 0.5332815332815334,\n",
       "   'support': 36}},\n",
       " {'0': {'precision': 0.4594594594594595,\n",
       "   'recall': 0.8095238095238095,\n",
       "   'f1-score': 0.5862068965517242,\n",
       "   'support': 21},\n",
       "  '1': {'precision': 0.6363636363636364,\n",
       "   'recall': 0.25925925925925924,\n",
       "   'f1-score': 0.368421052631579,\n",
       "   'support': 27},\n",
       "  'accuracy': 0.5,\n",
       "  'macro avg': {'precision': 0.547911547911548,\n",
       "   'recall': 0.5343915343915344,\n",
       "   'f1-score': 0.4773139745916516,\n",
       "   'support': 48},\n",
       "  'weighted avg': {'precision': 0.5589680589680589,\n",
       "   'recall': 0.5,\n",
       "   'f1-score': 0.4637023593466425,\n",
       "   'support': 48}},\n",
       " {'0': {'precision': 0.4117647058823529,\n",
       "   'recall': 0.4117647058823529,\n",
       "   'f1-score': 0.4117647058823529,\n",
       "   'support': 17},\n",
       "  '1': {'precision': 0.47368421052631576,\n",
       "   'recall': 0.47368421052631576,\n",
       "   'f1-score': 0.47368421052631576,\n",
       "   'support': 19},\n",
       "  'accuracy': 0.4444444444444444,\n",
       "  'macro avg': {'precision': 0.44272445820433437,\n",
       "   'recall': 0.44272445820433437,\n",
       "   'f1-score': 0.44272445820433437,\n",
       "   'support': 36},\n",
       "  'weighted avg': {'precision': 0.4444444444444444,\n",
       "   'recall': 0.4444444444444444,\n",
       "   'f1-score': 0.4444444444444444,\n",
       "   'support': 36}},\n",
       " {'0': {'precision': 0.47058823529411764,\n",
       "   'recall': 0.47058823529411764,\n",
       "   'f1-score': 0.47058823529411764,\n",
       "   'support': 17},\n",
       "  '1': {'precision': 0.5263157894736842,\n",
       "   'recall': 0.5263157894736842,\n",
       "   'f1-score': 0.5263157894736842,\n",
       "   'support': 19},\n",
       "  'accuracy': 0.5,\n",
       "  'macro avg': {'precision': 0.4984520123839009,\n",
       "   'recall': 0.4984520123839009,\n",
       "   'f1-score': 0.4984520123839009,\n",
       "   'support': 36},\n",
       "  'weighted avg': {'precision': 0.5,\n",
       "   'recall': 0.5,\n",
       "   'f1-score': 0.5,\n",
       "   'support': 36}},\n",
       " {'0': {'precision': 0.631578947368421,\n",
       "   'recall': 0.5714285714285714,\n",
       "   'f1-score': 0.6,\n",
       "   'support': 21},\n",
       "  '1': {'precision': 0.47058823529411764,\n",
       "   'recall': 0.5333333333333333,\n",
       "   'f1-score': 0.5,\n",
       "   'support': 15},\n",
       "  'accuracy': 0.5555555555555556,\n",
       "  'macro avg': {'precision': 0.5510835913312693,\n",
       "   'recall': 0.5523809523809524,\n",
       "   'f1-score': 0.55,\n",
       "   'support': 36},\n",
       "  'weighted avg': {'precision': 0.5644994840041279,\n",
       "   'recall': 0.5555555555555556,\n",
       "   'f1-score': 0.5583333333333333,\n",
       "   'support': 36}},\n",
       " {'0': {'precision': 0.5,\n",
       "   'recall': 0.05263157894736842,\n",
       "   'f1-score': 0.09523809523809525,\n",
       "   'support': 19},\n",
       "  '1': {'precision': 0.47058823529411764,\n",
       "   'recall': 0.9411764705882353,\n",
       "   'f1-score': 0.627450980392157,\n",
       "   'support': 17},\n",
       "  'accuracy': 0.4722222222222222,\n",
       "  'macro avg': {'precision': 0.4852941176470588,\n",
       "   'recall': 0.4969040247678018,\n",
       "   'f1-score': 0.3613445378151261,\n",
       "   'support': 36},\n",
       "  'weighted avg': {'precision': 0.4861111111111111,\n",
       "   'recall': 0.4722222222222222,\n",
       "   'f1-score': 0.3465608465608466,\n",
       "   'support': 36}},\n",
       " {'0': {'precision': 0.4230769230769231,\n",
       "   'recall': 0.55,\n",
       "   'f1-score': 0.47826086956521735,\n",
       "   'support': 20},\n",
       "  '1': {'precision': 0.5909090909090909,\n",
       "   'recall': 0.4642857142857143,\n",
       "   'f1-score': 0.52,\n",
       "   'support': 28},\n",
       "  'accuracy': 0.5,\n",
       "  'macro avg': {'precision': 0.506993006993007,\n",
       "   'recall': 0.5071428571428571,\n",
       "   'f1-score': 0.49913043478260866,\n",
       "   'support': 48},\n",
       "  'weighted avg': {'precision': 0.5209790209790209,\n",
       "   'recall': 0.5,\n",
       "   'f1-score': 0.5026086956521739,\n",
       "   'support': 48}},\n",
       " {'0': {'precision': 0.45,\n",
       "   'recall': 0.4090909090909091,\n",
       "   'f1-score': 0.4285714285714286,\n",
       "   'support': 22},\n",
       "  '1': {'precision': 0.48,\n",
       "   'recall': 0.5217391304347826,\n",
       "   'f1-score': 0.4999999999999999,\n",
       "   'support': 23},\n",
       "  'accuracy': 0.4666666666666667,\n",
       "  'macro avg': {'precision': 0.46499999999999997,\n",
       "   'recall': 0.4654150197628458,\n",
       "   'f1-score': 0.46428571428571425,\n",
       "   'support': 45},\n",
       "  'weighted avg': {'precision': 0.46533333333333327,\n",
       "   'recall': 0.4666666666666667,\n",
       "   'f1-score': 0.46507936507936504,\n",
       "   'support': 45}},\n",
       " {'0': {'precision': 0.45454545454545453,\n",
       "   'recall': 0.8333333333333334,\n",
       "   'f1-score': 0.5882352941176471,\n",
       "   'support': 18},\n",
       "  '1': {'precision': 0.6666666666666666,\n",
       "   'recall': 0.25,\n",
       "   'f1-score': 0.36363636363636365,\n",
       "   'support': 24},\n",
       "  'accuracy': 0.5,\n",
       "  'macro avg': {'precision': 0.5606060606060606,\n",
       "   'recall': 0.5416666666666667,\n",
       "   'f1-score': 0.47593582887700536,\n",
       "   'support': 42},\n",
       "  'weighted avg': {'precision': 0.5757575757575757,\n",
       "   'recall': 0.5,\n",
       "   'f1-score': 0.4598930481283422,\n",
       "   'support': 42}},\n",
       " {'0': {'precision': 0.4,\n",
       "   'recall': 0.5882352941176471,\n",
       "   'f1-score': 0.4761904761904762,\n",
       "   'support': 17},\n",
       "  '1': {'precision': 0.36363636363636365,\n",
       "   'recall': 0.21052631578947367,\n",
       "   'f1-score': 0.26666666666666666,\n",
       "   'support': 19},\n",
       "  'accuracy': 0.3888888888888889,\n",
       "  'macro avg': {'precision': 0.38181818181818183,\n",
       "   'recall': 0.3993808049535604,\n",
       "   'f1-score': 0.37142857142857144,\n",
       "   'support': 36},\n",
       "  'weighted avg': {'precision': 0.3808080808080809,\n",
       "   'recall': 0.3888888888888889,\n",
       "   'f1-score': 0.3656084656084656,\n",
       "   'support': 36}},\n",
       " {'0': {'precision': 0.4444444444444444,\n",
       "   'recall': 0.32,\n",
       "   'f1-score': 0.37209302325581395,\n",
       "   'support': 25},\n",
       "  '1': {'precision': 0.43333333333333335,\n",
       "   'recall': 0.5652173913043478,\n",
       "   'f1-score': 0.49056603773584906,\n",
       "   'support': 23},\n",
       "  'accuracy': 0.4375,\n",
       "  'macro avg': {'precision': 0.4388888888888889,\n",
       "   'recall': 0.44260869565217387,\n",
       "   'f1-score': 0.4313295304958315,\n",
       "   'support': 48},\n",
       "  'weighted avg': {'precision': 0.4391203703703703,\n",
       "   'recall': 0.4375,\n",
       "   'f1-score': 0.4288613426941641,\n",
       "   'support': 48}},\n",
       " {'0': {'precision': 0.35294117647058826,\n",
       "   'recall': 0.35294117647058826,\n",
       "   'f1-score': 0.35294117647058826,\n",
       "   'support': 17},\n",
       "  '1': {'precision': 0.42105263157894735,\n",
       "   'recall': 0.42105263157894735,\n",
       "   'f1-score': 0.42105263157894735,\n",
       "   'support': 19},\n",
       "  'accuracy': 0.3888888888888889,\n",
       "  'macro avg': {'precision': 0.38699690402476783,\n",
       "   'recall': 0.38699690402476783,\n",
       "   'f1-score': 0.38699690402476783,\n",
       "   'support': 36},\n",
       "  'weighted avg': {'precision': 0.3888888888888889,\n",
       "   'recall': 0.3888888888888889,\n",
       "   'f1-score': 0.3888888888888889,\n",
       "   'support': 36}},\n",
       " {'0': {'precision': 0.36363636363636365,\n",
       "   'recall': 0.9230769230769231,\n",
       "   'f1-score': 0.5217391304347827,\n",
       "   'support': 13},\n",
       "  '1': {'precision': 0.6666666666666666,\n",
       "   'recall': 0.08695652173913043,\n",
       "   'f1-score': 0.15384615384615383,\n",
       "   'support': 23},\n",
       "  'accuracy': 0.3888888888888889,\n",
       "  'macro avg': {'precision': 0.5151515151515151,\n",
       "   'recall': 0.5050167224080268,\n",
       "   'f1-score': 0.3377926421404683,\n",
       "   'support': 36},\n",
       "  'weighted avg': {'precision': 0.5572390572390572,\n",
       "   'recall': 0.3888888888888889,\n",
       "   'f1-score': 0.2866963953920476,\n",
       "   'support': 36}},\n",
       " {'0': {'precision': 0.375,\n",
       "   'recall': 0.45,\n",
       "   'f1-score': 0.4090909090909091,\n",
       "   'support': 20},\n",
       "  '1': {'precision': 0.5416666666666666,\n",
       "   'recall': 0.4642857142857143,\n",
       "   'f1-score': 0.5,\n",
       "   'support': 28},\n",
       "  'accuracy': 0.4583333333333333,\n",
       "  'macro avg': {'precision': 0.4583333333333333,\n",
       "   'recall': 0.4571428571428572,\n",
       "   'f1-score': 0.4545454545454546,\n",
       "   'support': 48},\n",
       "  'weighted avg': {'precision': 0.47222222222222215,\n",
       "   'recall': 0.4583333333333333,\n",
       "   'f1-score': 0.4621212121212121,\n",
       "   'support': 48}},\n",
       " {'0': {'precision': 0.4444444444444444,\n",
       "   'recall': 0.7058823529411765,\n",
       "   'f1-score': 0.5454545454545455,\n",
       "   'support': 17},\n",
       "  '1': {'precision': 0.4444444444444444,\n",
       "   'recall': 0.21052631578947367,\n",
       "   'f1-score': 0.2857142857142857,\n",
       "   'support': 19},\n",
       "  'accuracy': 0.4444444444444444,\n",
       "  'macro avg': {'precision': 0.4444444444444444,\n",
       "   'recall': 0.4582043343653251,\n",
       "   'f1-score': 0.4155844155844156,\n",
       "   'support': 36},\n",
       "  'weighted avg': {'precision': 0.4444444444444444,\n",
       "   'recall': 0.4444444444444444,\n",
       "   'f1-score': 0.4083694083694083,\n",
       "   'support': 36}},\n",
       " {'0': {'precision': 0.6,\n",
       "   'recall': 0.7058823529411765,\n",
       "   'f1-score': 0.6486486486486486,\n",
       "   'support': 17},\n",
       "  '1': {'precision': 0.6875,\n",
       "   'recall': 0.5789473684210527,\n",
       "   'f1-score': 0.6285714285714286,\n",
       "   'support': 19},\n",
       "  'accuracy': 0.6388888888888888,\n",
       "  'macro avg': {'precision': 0.64375,\n",
       "   'recall': 0.6424148606811146,\n",
       "   'f1-score': 0.6386100386100386,\n",
       "   'support': 36},\n",
       "  'weighted avg': {'precision': 0.6461805555555555,\n",
       "   'recall': 0.6388888888888888,\n",
       "   'f1-score': 0.638052338052338,\n",
       "   'support': 36}},\n",
       " {'0': {'precision': 0.6190476190476191,\n",
       "   'recall': 0.5416666666666666,\n",
       "   'f1-score': 0.5777777777777778,\n",
       "   'support': 24},\n",
       "  '1': {'precision': 0.5925925925925926,\n",
       "   'recall': 0.6666666666666666,\n",
       "   'f1-score': 0.627450980392157,\n",
       "   'support': 24},\n",
       "  'accuracy': 0.6041666666666666,\n",
       "  'macro avg': {'precision': 0.6058201058201058,\n",
       "   'recall': 0.6041666666666666,\n",
       "   'f1-score': 0.6026143790849674,\n",
       "   'support': 48},\n",
       "  'weighted avg': {'precision': 0.6058201058201058,\n",
       "   'recall': 0.6041666666666666,\n",
       "   'f1-score': 0.6026143790849674,\n",
       "   'support': 48}},\n",
       " {'0': {'precision': 0.5,\n",
       "   'recall': 0.5217391304347826,\n",
       "   'f1-score': 0.5106382978723404,\n",
       "   'support': 23},\n",
       "  '1': {'precision': 0.5416666666666666,\n",
       "   'recall': 0.52,\n",
       "   'f1-score': 0.5306122448979592,\n",
       "   'support': 25},\n",
       "  'accuracy': 0.5208333333333334,\n",
       "  'macro avg': {'precision': 0.5208333333333333,\n",
       "   'recall': 0.5208695652173914,\n",
       "   'f1-score': 0.5206252713851498,\n",
       "   'support': 48},\n",
       "  'weighted avg': {'precision': 0.5217013888888888,\n",
       "   'recall': 0.5208333333333334,\n",
       "   'f1-score': 0.5210413952815168,\n",
       "   'support': 48}},\n",
       " {'0': {'precision': 0.5652173913043478,\n",
       "   'recall': 0.5909090909090909,\n",
       "   'f1-score': 0.5777777777777778,\n",
       "   'support': 22},\n",
       "  '1': {'precision': 0.3076923076923077,\n",
       "   'recall': 0.2857142857142857,\n",
       "   'f1-score': 0.29629629629629634,\n",
       "   'support': 14},\n",
       "  'accuracy': 0.4722222222222222,\n",
       "  'macro avg': {'precision': 0.43645484949832775,\n",
       "   'recall': 0.4383116883116883,\n",
       "   'f1-score': 0.4370370370370371,\n",
       "   'support': 36},\n",
       "  'weighted avg': {'precision': 0.46506874767744333,\n",
       "   'recall': 0.4722222222222222,\n",
       "   'f1-score': 0.4683127572016461,\n",
       "   'support': 36}},\n",
       " {'0': {'precision': 0.47368421052631576,\n",
       "   'recall': 0.5,\n",
       "   'f1-score': 0.4864864864864865,\n",
       "   'support': 18},\n",
       "  '1': {'precision': 0.47058823529411764,\n",
       "   'recall': 0.4444444444444444,\n",
       "   'f1-score': 0.45714285714285713,\n",
       "   'support': 18},\n",
       "  'accuracy': 0.4722222222222222,\n",
       "  'macro avg': {'precision': 0.47213622291021673,\n",
       "   'recall': 0.4722222222222222,\n",
       "   'f1-score': 0.47181467181467185,\n",
       "   'support': 36},\n",
       "  'weighted avg': {'precision': 0.4721362229102167,\n",
       "   'recall': 0.4722222222222222,\n",
       "   'f1-score': 0.47181467181467185,\n",
       "   'support': 36}},\n",
       " {'0': {'precision': 0.391304347826087,\n",
       "   'recall': 0.391304347826087,\n",
       "   'f1-score': 0.391304347826087,\n",
       "   'support': 23},\n",
       "  '1': {'precision': 0.44, 'recall': 0.44, 'f1-score': 0.44, 'support': 25},\n",
       "  'accuracy': 0.4166666666666667,\n",
       "  'macro avg': {'precision': 0.4156521739130435,\n",
       "   'recall': 0.4156521739130435,\n",
       "   'f1-score': 0.4156521739130435,\n",
       "   'support': 48},\n",
       "  'weighted avg': {'precision': 0.4166666666666667,\n",
       "   'recall': 0.4166666666666667,\n",
       "   'f1-score': 0.4166666666666667,\n",
       "   'support': 48}},\n",
       " {'0': {'precision': 0.5333333333333333,\n",
       "   'recall': 0.3076923076923077,\n",
       "   'f1-score': 0.3902439024390244,\n",
       "   'support': 26},\n",
       "  '1': {'precision': 0.3333333333333333,\n",
       "   'recall': 0.5625,\n",
       "   'f1-score': 0.4186046511627907,\n",
       "   'support': 16},\n",
       "  'accuracy': 0.40476190476190477,\n",
       "  'macro avg': {'precision': 0.43333333333333335,\n",
       "   'recall': 0.43509615384615385,\n",
       "   'f1-score': 0.40442427680090753,\n",
       "   'support': 42},\n",
       "  'weighted avg': {'precision': 0.45714285714285713,\n",
       "   'recall': 0.40476190476190477,\n",
       "   'f1-score': 0.40104799719093537,\n",
       "   'support': 42}},\n",
       " {'0': {'precision': 0.625,\n",
       "   'recall': 0.29411764705882354,\n",
       "   'f1-score': 0.4,\n",
       "   'support': 17},\n",
       "  '1': {'precision': 0.5714285714285714,\n",
       "   'recall': 0.8421052631578947,\n",
       "   'f1-score': 0.6808510638297872,\n",
       "   'support': 19},\n",
       "  'accuracy': 0.5833333333333334,\n",
       "  'macro avg': {'precision': 0.5982142857142857,\n",
       "   'recall': 0.5681114551083591,\n",
       "   'f1-score': 0.5404255319148936,\n",
       "   'support': 36},\n",
       "  'weighted avg': {'precision': 0.5967261904761904,\n",
       "   'recall': 0.5833333333333334,\n",
       "   'f1-score': 0.5482269503546099,\n",
       "   'support': 36}},\n",
       " {'0': {'precision': 0.5,\n",
       "   'recall': 0.3333333333333333,\n",
       "   'f1-score': 0.4,\n",
       "   'support': 18},\n",
       "  '1': {'precision': 0.5,\n",
       "   'recall': 0.6666666666666666,\n",
       "   'f1-score': 0.5714285714285715,\n",
       "   'support': 18},\n",
       "  'accuracy': 0.5,\n",
       "  'macro avg': {'precision': 0.5,\n",
       "   'recall': 0.5,\n",
       "   'f1-score': 0.48571428571428577,\n",
       "   'support': 36},\n",
       "  'weighted avg': {'precision': 0.5,\n",
       "   'recall': 0.5,\n",
       "   'f1-score': 0.48571428571428577,\n",
       "   'support': 36}}]"
      ]
     },
     "execution_count": 60,
     "metadata": {},
     "output_type": "execute_result"
    }
   ],
   "source": [
    "results"
   ]
  },
  {
   "cell_type": "code",
   "execution_count": 68,
   "metadata": {},
   "outputs": [],
   "source": [
    "all_avg_precision = [x['weighted avg']['precision'] for x in results]\n",
    "all_avg_recall = [x['weighted avg']['recall'] for x in results]\n",
    "all_accuracy = [x['accuracy']for x in results]"
   ]
  },
  {
   "cell_type": "code",
   "execution_count": 66,
   "metadata": {},
   "outputs": [
    {
     "data": {
      "text/plain": [
       "(array([4., 2., 3., 4., 5., 2., 2., 2., 2., 1.]),\n",
       " array([0.38888889, 0.41388889, 0.43888889, 0.46388889, 0.48888889,\n",
       "        0.51388889, 0.53888889, 0.56388889, 0.58888889, 0.61388889,\n",
       "        0.63888889]),\n",
       " <a list of 10 Patch objects>)"
      ]
     },
     "execution_count": 66,
     "metadata": {},
     "output_type": "execute_result"
    },
    {
     "data": {
      "image/png": "[encoded data removed]",
      "text/plain": [
       "<Figure size 432x288 with 3 Axes>"
      ]
     },
     "metadata": {
      "needs_background": "light"
     },
     "output_type": "display_data"
    }
   ],
   "source": [
    "plt.subplot(3, 1, 1)\n",
    "plt.hist(all_avg_precision)\n",
    "plt.subplot(3, 1, 2)\n",
    "plt.hist(all_avg_recall)\n",
    "plt.subplot(3, 1, 3)\n",
    "plt.hist(all_accuracy)"
   ]
  },
  {
   "cell_type": "code",
   "execution_count": 70,
   "metadata": {
    "scrolled": true
   },
   "outputs": [
    {
     "name": "stdout",
     "output_type": "stream",
     "text": [
      "mean precision = 0.511142\n",
      "mean recall = 0.493952\n",
      "mean accuracy = 0.493952\n"
     ]
    }
   ],
   "source": [
    "print('mean precision = %f'%np.mean(all_avg_precision))\n",
    "print('mean recall = %f'%np.mean(all_avg_recall))\n",
    "print('mean accuracy = %f'%np.mean(all_accuracy))"
   ]
  },
  {
   "cell_type": "markdown",
   "metadata": {},
   "source": [
    "### One specific example"
   ]
  },
  {
   "cell_type": "code",
   "execution_count": 71,
   "metadata": {},
   "outputs": [
    {
     "name": "stdout",
     "output_type": "stream",
     "text": [
      "Epoch 1/10\n",
      "6/6 [==============================] - 3s 270ms/step - loss: 0.6978 - accuracy: 0.5181\n",
      "Epoch 2/10\n",
      "6/6 [==============================] - 2s 282ms/step - loss: 0.6775 - accuracy: 0.5415\n",
      "Epoch 3/10\n",
      "6/6 [==============================] - 2s 295ms/step - loss: 0.6547 - accuracy: 0.6327\n",
      "Epoch 4/10\n",
      "6/6 [==============================] - 2s 278ms/step - loss: 0.6427 - accuracy: 0.6109\n",
      "Epoch 5/10\n",
      "6/6 [==============================] - 2s 277ms/step - loss: 0.6375 - accuracy: 0.6261\n",
      "Epoch 6/10\n",
      "6/6 [==============================] - 2s 322ms/step - loss: 0.6228 - accuracy: 0.6311\n",
      "Epoch 7/10\n",
      "6/6 [==============================] - 2s 342ms/step - loss: 0.5707 - accuracy: 0.7022\n",
      "Epoch 8/10\n",
      "6/6 [==============================] - 2s 310ms/step - loss: 0.5694 - accuracy: 0.7209\n",
      "Epoch 9/10\n",
      "6/6 [==============================] - 2s 311ms/step - loss: 0.5723 - accuracy: 0.6966\n",
      "Epoch 10/10\n",
      "6/6 [==============================] - 2s 287ms/step - loss: 0.5219 - accuracy: 0.7305\n",
      "WARNING:tensorflow:6 out of the last 11 calls to <function Model.make_test_function.<locals>.test_function at 0x7f8daf4408c0> triggered tf.function retracing. Tracing is expensive and the excessive number of tracings could be due to (1) creating @tf.function repeatedly in a loop, (2) passing tensors with different shapes, (3) passing Python objects instead of tensors. For (1), please define your @tf.function outside of the loop. For (2), @tf.function has experimental_relax_shapes=True option that relaxes argument shapes that can avoid unnecessary retracing. For (3), please refer to https://www.tensorflow.org/guide/function#controlling_retracing and https://www.tensorflow.org/api_docs/python/tf/function for  more details.\n",
      "2/2 [==============================] - 1s 92ms/step - loss: 0.6903 - accuracy: 0.6458\n"
     ]
    },
    {
     "name": "stderr",
     "output_type": "stream",
     "text": [
      "/Users/xuanyuwu/opt/anaconda3/lib/python3.7/site-packages/tensorflow/python/keras/engine/sequential.py:450: UserWarning: `model.predict_classes()` is deprecated and will be removed after 2021-01-01. Please use instead:* `np.argmax(model.predict(x), axis=-1)`,   if your model does multi-class classification   (e.g. if it uses a `softmax` last-layer activation).* `(model.predict(x) > 0.5).astype(\"int32\")`,   if your model does binary classification   (e.g. if it uses a `sigmoid` last-layer activation).\n",
      "  warnings.warn('`model.predict_classes()` is deprecated and '\n"
     ]
    },
    {
     "name": "stdout",
     "output_type": "stream",
     "text": [
      "WARNING:tensorflow:6 out of the last 11 calls to <function Model.make_predict_function.<locals>.predict_function at 0x7f8db1bccb90> triggered tf.function retracing. Tracing is expensive and the excessive number of tracings could be due to (1) creating @tf.function repeatedly in a loop, (2) passing tensors with different shapes, (3) passing Python objects instead of tensors. For (1), please define your @tf.function outside of the loop. For (2), @tf.function has experimental_relax_shapes=True option that relaxes argument shapes that can avoid unnecessary retracing. For (3), please refer to https://www.tensorflow.org/guide/function#controlling_retracing and https://www.tensorflow.org/api_docs/python/tf/function for  more details.\n"
     ]
    },
    {
     "data": {
      "text/plain": [
       "[Text(33.0, 0.5, 'Predicted'), Text(0.5, 15.0, 'Actual')]"
      ]
     },
     "execution_count": 71,
     "metadata": {},
     "output_type": "execute_result"
    },
    {
     "data": {
      "image/png": "[encoded data removed]",
      "text/plain": [
       "<Figure size 432x288 with 1 Axes>"
      ]
     },
     "metadata": {
      "needs_background": "light"
     },
     "output_type": "display_data"
    }
   ],
   "source": [
    "# Load data after band-pass filter\n",
    "train_data, train_label = populate_filt_data([train_files[0]], event_start, event_end, bsl_start, bsl_end)\n",
    "data, label = reshape_data(train_data, train_label)\n",
    "train_x, test_x, train_y, test_y = train_test_split(data, label, test_size=0.3, random_state=42)\n",
    "\n",
    "# TODO: Skip ICA for now because it didn't work\n",
    "\n",
    "# CSP transformation\n",
    "csp = CSP(rank={'eeg':3}, transform_into = 'csp_space')\n",
    "x_new = csp.fit_transform(train_x.reshape(train_x.shape[0], train_x.shape[2], train_x.shape[1]), \n",
    "                          np.squeeze(train_y)).reshape(train_x.shape[0], train_x.shape[1], train_x.shape[2])\n",
    "x_new_test = csp.fit_transform(test_x.reshape(test_x.shape[0], test_x.shape[2], test_x.shape[1]),\n",
    "                               np.squeeze(test_y)).reshape(test_x.shape[0], test_x.shape[1], test_x.shape[2])\n",
    "model = create_model()\n",
    "model.fit(x_new, train_y, epochs=10, batch_size=20)\n",
    "eval_result = model.evaluate(x_new_test, test_y, return_dict=True)\n",
    "\n",
    "y_pred = model.predict_classes(x_new_test)\n",
    "cm = confusion_matrix(test_y, np.rint(y_pred))\n",
    "ax = sn.heatmap(cm, annot=True, cbar=False, xticklabels=['Left', 'Right'], yticklabels=['Left', 'Right'])\n",
    "ax.set(xlabel='Actual', ylabel='Predicted')"
   ]
  },
  {
   "cell_type": "code",
   "execution_count": 72,
   "metadata": {},
   "outputs": [
    {
     "data": {
      "text/plain": [
       "{'0': {'precision': 0.7,\n",
       "  'recall': 0.3333333333333333,\n",
       "  'f1-score': 0.45161290322580644,\n",
       "  'support': 21},\n",
       " '1': {'precision': 0.631578947368421,\n",
       "  'recall': 0.8888888888888888,\n",
       "  'f1-score': 0.7384615384615385,\n",
       "  'support': 27},\n",
       " 'accuracy': 0.6458333333333334,\n",
       " 'macro avg': {'precision': 0.6657894736842105,\n",
       "  'recall': 0.611111111111111,\n",
       "  'f1-score': 0.5950372208436725,\n",
       "  'support': 48},\n",
       " 'weighted avg': {'precision': 0.6615131578947367,\n",
       "  'recall': 0.6458333333333334,\n",
       "  'f1-score': 0.6129652605459057,\n",
       "  'support': 48}}"
      ]
     },
     "execution_count": 72,
     "metadata": {},
     "output_type": "execute_result"
    }
   ],
   "source": [
    "classification_report(test_y, np.rint(y_pred), output_dict=True)"
   ]
  },
  {
   "cell_type": "markdown",
   "metadata": {},
   "source": [
    "## CSP-LDA baseline model"
   ]
  },
  {
   "cell_type": "code",
   "execution_count": 75,
   "metadata": {
    "scrolled": true
   },
   "outputs": [
    {
     "name": "stderr",
     "output_type": "stream",
     "text": [
      "/Users/xuanyuwu/opt/anaconda3/lib/python3.7/site-packages/sklearn/utils/validation.py:760: DataConversionWarning: A column-vector y was passed when a 1d array was expected. Please change the shape of y to (n_samples, ), for example using ravel().\n",
      "  y = column_or_1d(y, warn=True)\n"
     ]
    },
    {
     "data": {
      "text/plain": [
       "0.47203274215552526"
      ]
     },
     "execution_count": 75,
     "metadata": {},
     "output_type": "execute_result"
    }
   ],
   "source": [
    "train_data, train_label = populate_filt_data(train_files, event_start, event_end, bsl_start, bsl_end)\n",
    "data, label = reshape_data(train_data, train_label)\n",
    "train_x, test_x, train_y, test_y = train_test_split(data, label, test_size=0.2, random_state=42)\n",
    "csp = CSP(n_components=4, rank={'eeg':3})\n",
    "x_new = csp.fit_transform(train_x.reshape(train_x.shape[0], train_x.shape[2], train_x.shape[1]), \n",
    "                          np.squeeze(train_y))\n",
    "x_new_test = csp.fit_transform(test_x.reshape(test_x.shape[0], test_x.shape[2], test_x.shape[1]),\n",
    "                               np.squeeze(test_y))\n",
    "lda = LinearDiscriminantAnalysis(solver = 'lsqr')\n",
    "lda.fit(x_new, train_y)\n",
    "lda.score(x_new_test, test_y)"
   ]
  },
  {
   "cell_type": "code",
   "execution_count": 77,
   "metadata": {},
   "outputs": [
    {
     "data": {
      "text/plain": [
       "[Text(33.0, 0.5, 'Predicted'), Text(0.5, 15.0, 'Actual')]"
      ]
     },
     "execution_count": 77,
     "metadata": {},
     "output_type": "execute_result"
    },
    {
     "data": {
      "image/png": "[encoded data removed]",
      "text/plain": [
       "<Figure size 432x288 with 1 Axes>"
      ]
     },
     "metadata": {
      "needs_background": "light"
     },
     "output_type": "display_data"
    }
   ],
   "source": [
    "y_pred = lda.predict(x_new_test)\n",
    "cm = confusion_matrix(test_y, np.rint(y_pred))\n",
    "ax = sn.heatmap(cm, annot=True, fmt='d', cbar=False, xticklabels=['Left', 'Right'], yticklabels=['Left', 'Right'])\n",
    "ax.set(xlabel='Actual', ylabel='Predicted')"
   ]
  },
  {
   "cell_type": "code",
   "execution_count": 79,
   "metadata": {},
   "outputs": [
    {
     "name": "stdout",
     "output_type": "stream",
     "text": [
      "              precision    recall  f1-score   support\n",
      "\n",
      "           0       0.50      0.37      0.42       385\n",
      "           1       0.46      0.58      0.51       348\n",
      "\n",
      "    accuracy                           0.47       733\n",
      "   macro avg       0.48      0.48      0.47       733\n",
      "weighted avg       0.48      0.47      0.47       733\n",
      "\n"
     ]
    }
   ],
   "source": [
    "print(classification_report(test_y, np.rint(y_pred)))"
   ]
  },
  {
   "cell_type": "markdown",
   "metadata": {},
   "source": [
    "### On each individual"
   ]
  },
  {
   "cell_type": "code",
   "execution_count": 86,
   "metadata": {},
   "outputs": [],
   "source": [
    "def csp_lda_pipeline(train_data, train_label):\n",
    "    data, label = reshape_data(train_data, train_label)\n",
    "    train_x, test_x, train_y, test_y = train_test_split(data, label, test_size=0.3, random_state=42)\n",
    "\n",
    "    csp = CSP(n_components=4, rank={'eeg':3})\n",
    "    x_new = csp.fit_transform(train_x.reshape(train_x.shape[0], train_x.shape[2], train_x.shape[1]), \n",
    "                              np.squeeze(train_y))\n",
    "    x_new_test = csp.fit_transform(test_x.reshape(test_x.shape[0], test_x.shape[2], test_x.shape[1]),\n",
    "                                   np.squeeze(test_y))\n",
    "    lda = LinearDiscriminantAnalysis(solver = 'lsqr')\n",
    "    lda.fit(x_new, train_y)\n",
    "    print(lda.score(x_new_test, test_y))\n",
    "\n",
    "    y_pred = lda.predict(x_new_test)\n",
    "    eval_result = classification_report(test_y, np.rint(y_pred), output_dict=True)\n",
    "    return eval_result"
   ]
  },
  {
   "cell_type": "code",
   "execution_count": 87,
   "metadata": {},
   "outputs": [
    {
     "name": "stderr",
     "output_type": "stream",
     "text": [
      "\n",
      "\n",
      "  0%|          | 0/27 [00:00<?, ?it/s]\u001b[A\u001b[A"
     ]
    },
    {
     "name": "stdout",
     "output_type": "stream",
     "text": [
      "Training sample #0\n"
     ]
    },
    {
     "name": "stderr",
     "output_type": "stream",
     "text": [
      "/Users/xuanyuwu/opt/anaconda3/lib/python3.7/site-packages/sklearn/utils/validation.py:760: DataConversionWarning: A column-vector y was passed when a 1d array was expected. Please change the shape of y to (n_samples, ), for example using ravel().\n",
      "  y = column_or_1d(y, warn=True)\n",
      "\n",
      "\n",
      "  4%|▎         | 1/27 [00:00<00:10,  2.55it/s]\u001b[A\u001b[A"
     ]
    },
    {
     "name": "stdout",
     "output_type": "stream",
     "text": [
      "0.4166666666666667\n",
      "Training sample #1\n"
     ]
    },
    {
     "name": "stderr",
     "output_type": "stream",
     "text": [
      "/Users/xuanyuwu/opt/anaconda3/lib/python3.7/site-packages/sklearn/utils/validation.py:760: DataConversionWarning: A column-vector y was passed when a 1d array was expected. Please change the shape of y to (n_samples, ), for example using ravel().\n",
      "  y = column_or_1d(y, warn=True)\n",
      "\n",
      "\n",
      "  7%|▋         | 2/27 [00:00<00:09,  2.62it/s]\u001b[A\u001b[A"
     ]
    },
    {
     "name": "stdout",
     "output_type": "stream",
     "text": [
      "0.5277777777777778\n",
      "Training sample #2\n"
     ]
    },
    {
     "name": "stderr",
     "output_type": "stream",
     "text": [
      "/Users/xuanyuwu/opt/anaconda3/lib/python3.7/site-packages/sklearn/utils/validation.py:760: DataConversionWarning: A column-vector y was passed when a 1d array was expected. Please change the shape of y to (n_samples, ), for example using ravel().\n",
      "  y = column_or_1d(y, warn=True)\n",
      "\n",
      "\n",
      " 11%|█         | 3/27 [00:01<00:09,  2.46it/s]\u001b[A\u001b[A"
     ]
    },
    {
     "name": "stdout",
     "output_type": "stream",
     "text": [
      "0.4375\n",
      "Training sample #3\n"
     ]
    },
    {
     "name": "stderr",
     "output_type": "stream",
     "text": [
      "/Users/xuanyuwu/opt/anaconda3/lib/python3.7/site-packages/sklearn/utils/validation.py:760: DataConversionWarning: A column-vector y was passed when a 1d array was expected. Please change the shape of y to (n_samples, ), for example using ravel().\n",
      "  y = column_or_1d(y, warn=True)\n",
      "\n",
      "\n",
      " 15%|█▍        | 4/27 [00:01<00:08,  2.63it/s]\u001b[A\u001b[A"
     ]
    },
    {
     "name": "stdout",
     "output_type": "stream",
     "text": [
      "0.4444444444444444\n",
      "Training sample #4\n"
     ]
    },
    {
     "name": "stderr",
     "output_type": "stream",
     "text": [
      "/Users/xuanyuwu/opt/anaconda3/lib/python3.7/site-packages/sklearn/utils/validation.py:760: DataConversionWarning: A column-vector y was passed when a 1d array was expected. Please change the shape of y to (n_samples, ), for example using ravel().\n",
      "  y = column_or_1d(y, warn=True)\n",
      "\n",
      "\n",
      " 19%|█▊        | 5/27 [00:01<00:08,  2.57it/s]\u001b[A\u001b[A"
     ]
    },
    {
     "name": "stdout",
     "output_type": "stream",
     "text": [
      "0.6041666666666666\n",
      "Training sample #5\n"
     ]
    },
    {
     "name": "stderr",
     "output_type": "stream",
     "text": [
      "/Users/xuanyuwu/opt/anaconda3/lib/python3.7/site-packages/sklearn/utils/validation.py:760: DataConversionWarning: A column-vector y was passed when a 1d array was expected. Please change the shape of y to (n_samples, ), for example using ravel().\n",
      "  y = column_or_1d(y, warn=True)\n",
      "\n",
      "\n",
      " 22%|██▏       | 6/27 [00:02<00:07,  2.73it/s]\u001b[A\u001b[A"
     ]
    },
    {
     "name": "stdout",
     "output_type": "stream",
     "text": [
      "0.4166666666666667\n",
      "Training sample #6\n"
     ]
    },
    {
     "name": "stderr",
     "output_type": "stream",
     "text": [
      "/Users/xuanyuwu/opt/anaconda3/lib/python3.7/site-packages/sklearn/utils/validation.py:760: DataConversionWarning: A column-vector y was passed when a 1d array was expected. Please change the shape of y to (n_samples, ), for example using ravel().\n",
      "  y = column_or_1d(y, warn=True)\n",
      "\n",
      "\n",
      " 26%|██▌       | 7/27 [00:02<00:07,  2.81it/s]\u001b[A\u001b[A"
     ]
    },
    {
     "name": "stdout",
     "output_type": "stream",
     "text": [
      "0.3333333333333333\n",
      "Training sample #7\n"
     ]
    },
    {
     "name": "stderr",
     "output_type": "stream",
     "text": [
      "/Users/xuanyuwu/opt/anaconda3/lib/python3.7/site-packages/sklearn/utils/validation.py:760: DataConversionWarning: A column-vector y was passed when a 1d array was expected. Please change the shape of y to (n_samples, ), for example using ravel().\n",
      "  y = column_or_1d(y, warn=True)\n",
      "\n",
      "\n",
      " 30%|██▉       | 8/27 [00:02<00:06,  2.88it/s]\u001b[A\u001b[A"
     ]
    },
    {
     "name": "stdout",
     "output_type": "stream",
     "text": [
      "0.4444444444444444\n",
      "Training sample #8\n"
     ]
    },
    {
     "name": "stderr",
     "output_type": "stream",
     "text": [
      "/Users/xuanyuwu/opt/anaconda3/lib/python3.7/site-packages/sklearn/utils/validation.py:760: DataConversionWarning: A column-vector y was passed when a 1d array was expected. Please change the shape of y to (n_samples, ), for example using ravel().\n",
      "  y = column_or_1d(y, warn=True)\n",
      "\n",
      "\n",
      " 33%|███▎      | 9/27 [00:03<00:05,  3.03it/s]\u001b[A\u001b[A"
     ]
    },
    {
     "name": "stdout",
     "output_type": "stream",
     "text": [
      "0.6388888888888888\n",
      "Training sample #9\n"
     ]
    },
    {
     "name": "stderr",
     "output_type": "stream",
     "text": [
      "/Users/xuanyuwu/opt/anaconda3/lib/python3.7/site-packages/sklearn/utils/validation.py:760: DataConversionWarning: A column-vector y was passed when a 1d array was expected. Please change the shape of y to (n_samples, ), for example using ravel().\n",
      "  y = column_or_1d(y, warn=True)\n",
      "\n",
      "\n",
      " 37%|███▋      | 10/27 [00:03<00:05,  2.87it/s]\u001b[A\u001b[A"
     ]
    },
    {
     "name": "stdout",
     "output_type": "stream",
     "text": [
      "0.3541666666666667\n",
      "Training sample #10\n"
     ]
    },
    {
     "name": "stderr",
     "output_type": "stream",
     "text": [
      "/Users/xuanyuwu/opt/anaconda3/lib/python3.7/site-packages/sklearn/utils/validation.py:760: DataConversionWarning: A column-vector y was passed when a 1d array was expected. Please change the shape of y to (n_samples, ), for example using ravel().\n",
      "  y = column_or_1d(y, warn=True)\n",
      "\n",
      "\n",
      " 41%|████      | 11/27 [00:03<00:05,  2.85it/s]\u001b[A\u001b[A"
     ]
    },
    {
     "name": "stdout",
     "output_type": "stream",
     "text": [
      "0.5111111111111111\n",
      "Training sample #11\n"
     ]
    },
    {
     "name": "stderr",
     "output_type": "stream",
     "text": [
      "/Users/xuanyuwu/opt/anaconda3/lib/python3.7/site-packages/sklearn/utils/validation.py:760: DataConversionWarning: A column-vector y was passed when a 1d array was expected. Please change the shape of y to (n_samples, ), for example using ravel().\n",
      "  y = column_or_1d(y, warn=True)\n",
      "\n",
      "\n",
      " 44%|████▍     | 12/27 [00:04<00:05,  2.85it/s]\u001b[A\u001b[A"
     ]
    },
    {
     "name": "stdout",
     "output_type": "stream",
     "text": [
      "0.42857142857142855\n",
      "Training sample #12\n"
     ]
    },
    {
     "name": "stderr",
     "output_type": "stream",
     "text": [
      "/Users/xuanyuwu/opt/anaconda3/lib/python3.7/site-packages/sklearn/utils/validation.py:760: DataConversionWarning: A column-vector y was passed when a 1d array was expected. Please change the shape of y to (n_samples, ), for example using ravel().\n",
      "  y = column_or_1d(y, warn=True)\n",
      "\n",
      "\n",
      " 48%|████▊     | 13/27 [00:04<00:05,  2.77it/s]\u001b[A\u001b[A"
     ]
    },
    {
     "name": "stdout",
     "output_type": "stream",
     "text": [
      "0.5833333333333334\n",
      "Training sample #13\n"
     ]
    },
    {
     "name": "stderr",
     "output_type": "stream",
     "text": [
      "/Users/xuanyuwu/opt/anaconda3/lib/python3.7/site-packages/sklearn/utils/validation.py:760: DataConversionWarning: A column-vector y was passed when a 1d array was expected. Please change the shape of y to (n_samples, ), for example using ravel().\n",
      "  y = column_or_1d(y, warn=True)\n",
      "\n",
      "\n",
      " 52%|█████▏    | 14/27 [00:05<00:04,  2.69it/s]\u001b[A\u001b[A"
     ]
    },
    {
     "name": "stdout",
     "output_type": "stream",
     "text": [
      "0.5833333333333334\n",
      "Training sample #14\n"
     ]
    },
    {
     "name": "stderr",
     "output_type": "stream",
     "text": [
      "/Users/xuanyuwu/opt/anaconda3/lib/python3.7/site-packages/sklearn/utils/validation.py:760: DataConversionWarning: A column-vector y was passed when a 1d array was expected. Please change the shape of y to (n_samples, ), for example using ravel().\n",
      "  y = column_or_1d(y, warn=True)\n",
      "\n",
      "\n",
      " 56%|█████▌    | 15/27 [00:05<00:04,  2.78it/s]\u001b[A\u001b[A"
     ]
    },
    {
     "name": "stdout",
     "output_type": "stream",
     "text": [
      "0.3611111111111111\n",
      "Training sample #15\n"
     ]
    },
    {
     "name": "stderr",
     "output_type": "stream",
     "text": [
      "/Users/xuanyuwu/opt/anaconda3/lib/python3.7/site-packages/sklearn/utils/validation.py:760: DataConversionWarning: A column-vector y was passed when a 1d array was expected. Please change the shape of y to (n_samples, ), for example using ravel().\n",
      "  y = column_or_1d(y, warn=True)\n",
      "\n",
      "\n",
      " 59%|█████▉    | 16/27 [00:05<00:03,  2.82it/s]\u001b[A\u001b[A"
     ]
    },
    {
     "name": "stdout",
     "output_type": "stream",
     "text": [
      "0.5555555555555556\n",
      "Training sample #16\n"
     ]
    },
    {
     "name": "stderr",
     "output_type": "stream",
     "text": [
      "/Users/xuanyuwu/opt/anaconda3/lib/python3.7/site-packages/sklearn/utils/validation.py:760: DataConversionWarning: A column-vector y was passed when a 1d array was expected. Please change the shape of y to (n_samples, ), for example using ravel().\n",
      "  y = column_or_1d(y, warn=True)\n",
      "\n",
      "\n",
      " 63%|██████▎   | 17/27 [00:06<00:03,  2.76it/s]\u001b[A\u001b[A"
     ]
    },
    {
     "name": "stdout",
     "output_type": "stream",
     "text": [
      "0.4791666666666667\n",
      "Training sample #17\n"
     ]
    },
    {
     "name": "stderr",
     "output_type": "stream",
     "text": [
      "/Users/xuanyuwu/opt/anaconda3/lib/python3.7/site-packages/sklearn/utils/validation.py:760: DataConversionWarning: A column-vector y was passed when a 1d array was expected. Please change the shape of y to (n_samples, ), for example using ravel().\n",
      "  y = column_or_1d(y, warn=True)\n",
      "\n",
      "\n",
      " 67%|██████▋   | 18/27 [00:06<00:03,  2.89it/s]\u001b[A\u001b[A"
     ]
    },
    {
     "name": "stdout",
     "output_type": "stream",
     "text": [
      "0.3611111111111111\n",
      "Training sample #18\n"
     ]
    },
    {
     "name": "stderr",
     "output_type": "stream",
     "text": [
      "/Users/xuanyuwu/opt/anaconda3/lib/python3.7/site-packages/sklearn/utils/validation.py:760: DataConversionWarning: A column-vector y was passed when a 1d array was expected. Please change the shape of y to (n_samples, ), for example using ravel().\n",
      "  y = column_or_1d(y, warn=True)\n",
      "\n",
      "\n",
      " 70%|███████   | 19/27 [00:06<00:02,  2.97it/s]\u001b[A\u001b[A"
     ]
    },
    {
     "name": "stdout",
     "output_type": "stream",
     "text": [
      "0.4166666666666667\n",
      "Training sample #19\n"
     ]
    },
    {
     "name": "stderr",
     "output_type": "stream",
     "text": [
      "/Users/xuanyuwu/opt/anaconda3/lib/python3.7/site-packages/sklearn/utils/validation.py:760: DataConversionWarning: A column-vector y was passed when a 1d array was expected. Please change the shape of y to (n_samples, ), for example using ravel().\n",
      "  y = column_or_1d(y, warn=True)\n",
      "\n",
      "\n",
      " 74%|███████▍  | 20/27 [00:07<00:02,  2.92it/s]\u001b[A\u001b[A"
     ]
    },
    {
     "name": "stdout",
     "output_type": "stream",
     "text": [
      "0.625\n",
      "Training sample #20\n"
     ]
    },
    {
     "name": "stderr",
     "output_type": "stream",
     "text": [
      "/Users/xuanyuwu/opt/anaconda3/lib/python3.7/site-packages/sklearn/utils/validation.py:760: DataConversionWarning: A column-vector y was passed when a 1d array was expected. Please change the shape of y to (n_samples, ), for example using ravel().\n",
      "  y = column_or_1d(y, warn=True)\n",
      "\n",
      "\n",
      " 78%|███████▊  | 21/27 [00:07<00:02,  2.75it/s]\u001b[A\u001b[A"
     ]
    },
    {
     "name": "stdout",
     "output_type": "stream",
     "text": [
      "0.625\n",
      "Training sample #21\n"
     ]
    },
    {
     "name": "stderr",
     "output_type": "stream",
     "text": [
      "/Users/xuanyuwu/opt/anaconda3/lib/python3.7/site-packages/sklearn/utils/validation.py:760: DataConversionWarning: A column-vector y was passed when a 1d array was expected. Please change the shape of y to (n_samples, ), for example using ravel().\n",
      "  y = column_or_1d(y, warn=True)\n",
      "\n",
      "\n",
      " 81%|████████▏ | 22/27 [00:07<00:01,  2.86it/s]\u001b[A\u001b[A"
     ]
    },
    {
     "name": "stdout",
     "output_type": "stream",
     "text": [
      "0.3333333333333333\n",
      "Training sample #22\n"
     ]
    },
    {
     "name": "stderr",
     "output_type": "stream",
     "text": [
      "/Users/xuanyuwu/opt/anaconda3/lib/python3.7/site-packages/sklearn/utils/validation.py:760: DataConversionWarning: A column-vector y was passed when a 1d array was expected. Please change the shape of y to (n_samples, ), for example using ravel().\n",
      "  y = column_or_1d(y, warn=True)\n",
      "/Users/xuanyuwu/opt/anaconda3/lib/python3.7/site-packages/sklearn/metrics/_classification.py:1272: UndefinedMetricWarning: Precision and F-score are ill-defined and being set to 0.0 in labels with no predicted samples. Use `zero_division` parameter to control this behavior.\n",
      "  _warn_prf(average, modifier, msg_start, len(result))\n",
      "\n",
      "\n",
      " 85%|████████▌ | 23/27 [00:08<00:01,  2.92it/s]\u001b[A\u001b[A"
     ]
    },
    {
     "name": "stdout",
     "output_type": "stream",
     "text": [
      "0.5\n",
      "Training sample #23\n"
     ]
    },
    {
     "name": "stderr",
     "output_type": "stream",
     "text": [
      "/Users/xuanyuwu/opt/anaconda3/lib/python3.7/site-packages/sklearn/utils/validation.py:760: DataConversionWarning: A column-vector y was passed when a 1d array was expected. Please change the shape of y to (n_samples, ), for example using ravel().\n",
      "  y = column_or_1d(y, warn=True)\n",
      "\n",
      "\n",
      " 89%|████████▉ | 24/27 [00:08<00:01,  2.85it/s]\u001b[A\u001b[A"
     ]
    },
    {
     "name": "stdout",
     "output_type": "stream",
     "text": [
      "0.4375\n",
      "Training sample #24\n"
     ]
    },
    {
     "name": "stderr",
     "output_type": "stream",
     "text": [
      "/Users/xuanyuwu/opt/anaconda3/lib/python3.7/site-packages/sklearn/utils/validation.py:760: DataConversionWarning: A column-vector y was passed when a 1d array was expected. Please change the shape of y to (n_samples, ), for example using ravel().\n",
      "  y = column_or_1d(y, warn=True)\n",
      "\n",
      "\n",
      " 93%|█████████▎| 25/27 [00:08<00:00,  2.82it/s]\u001b[A\u001b[A"
     ]
    },
    {
     "name": "stdout",
     "output_type": "stream",
     "text": [
      "0.38095238095238093\n",
      "Training sample #25\n"
     ]
    },
    {
     "name": "stderr",
     "output_type": "stream",
     "text": [
      "/Users/xuanyuwu/opt/anaconda3/lib/python3.7/site-packages/sklearn/utils/validation.py:760: DataConversionWarning: A column-vector y was passed when a 1d array was expected. Please change the shape of y to (n_samples, ), for example using ravel().\n",
      "  y = column_or_1d(y, warn=True)\n",
      "\n",
      "\n",
      " 96%|█████████▋| 26/27 [00:09<00:00,  2.93it/s]\u001b[A\u001b[A"
     ]
    },
    {
     "name": "stdout",
     "output_type": "stream",
     "text": [
      "0.4722222222222222\n",
      "Training sample #26\n"
     ]
    },
    {
     "name": "stderr",
     "output_type": "stream",
     "text": [
      "/Users/xuanyuwu/opt/anaconda3/lib/python3.7/site-packages/sklearn/utils/validation.py:760: DataConversionWarning: A column-vector y was passed when a 1d array was expected. Please change the shape of y to (n_samples, ), for example using ravel().\n",
      "  y = column_or_1d(y, warn=True)\n",
      "\n",
      "\n",
      "100%|██████████| 27/27 [00:09<00:00,  2.82it/s]\u001b[A\u001b[A"
     ]
    },
    {
     "name": "stdout",
     "output_type": "stream",
     "text": [
      "0.4722222222222222\n"
     ]
    },
    {
     "name": "stderr",
     "output_type": "stream",
     "text": [
      "\n"
     ]
    }
   ],
   "source": [
    "results = []\n",
    "mne.set_log_level('warning')\n",
    "for i in tqdm(range(len(train_files))):\n",
    "    print('Training sample #%d'%i)\n",
    "    train_data, train_label = populate_filt_data([train_files[i]], event_start, event_end, bsl_start, bsl_end)\n",
    "    eval_result = csp_lda_pipeline(train_data, train_label)\n",
    "    results.append(eval_result)\n",
    "all_avg_precision = [x['weighted avg']['precision'] for x in results]\n",
    "all_avg_recall = [x['weighted avg']['recall'] for x in results]\n",
    "all_accuracy = [x['accuracy']for x in results]"
   ]
  },
  {
   "cell_type": "code",
   "execution_count": 88,
   "metadata": {},
   "outputs": [
    {
     "data": {
      "text/plain": [
       "(array([5., 1., 3., 5., 3., 2., 1., 1., 3., 3.]),\n",
       " array([0.33333333, 0.36388889, 0.39444444, 0.425     , 0.45555556,\n",
       "        0.48611111, 0.51666667, 0.54722222, 0.57777778, 0.60833333,\n",
       "        0.63888889]),\n",
       " <a list of 10 Patch objects>)"
      ]
     },
     "execution_count": 88,
     "metadata": {},
     "output_type": "execute_result"
    },
    {
     "data": {
      "image/png": "[encoded data removed]",
      "text/plain": [
       "<Figure size 432x288 with 3 Axes>"
      ]
     },
     "metadata": {
      "needs_background": "light"
     },
     "output_type": "display_data"
    }
   ],
   "source": [
    "plt.subplot(3, 1, 1)\n",
    "plt.hist(all_avg_precision)\n",
    "plt.subplot(3, 1, 2)\n",
    "plt.hist(all_avg_recall)\n",
    "plt.subplot(3, 1, 3)\n",
    "plt.hist(all_accuracy)"
   ]
  },
  {
   "cell_type": "code",
   "execution_count": 89,
   "metadata": {},
   "outputs": [
    {
     "name": "stdout",
     "output_type": "stream",
     "text": [
      "mean precision = 0.480221\n",
      "mean recall = 0.472009\n",
      "mean accuracy = 0.472009\n"
     ]
    }
   ],
   "source": [
    "print('mean precision = %f'%np.mean(all_avg_precision))\n",
    "print('mean recall = %f'%np.mean(all_avg_recall))\n",
    "print('mean accuracy = %f'%np.mean(all_accuracy))"
   ]
  },
  {
   "cell_type": "code",
   "execution_count": 81,
   "metadata": {},
   "outputs": [
    {
     "name": "stdout",
     "output_type": "stream",
     "text": [
      "0.4166666666666667\n"
     ]
    },
    {
     "name": "stderr",
     "output_type": "stream",
     "text": [
      "/Users/xuanyuwu/opt/anaconda3/lib/python3.7/site-packages/sklearn/utils/validation.py:760: DataConversionWarning: A column-vector y was passed when a 1d array was expected. Please change the shape of y to (n_samples, ), for example using ravel().\n",
      "  y = column_or_1d(y, warn=True)\n"
     ]
    },
    {
     "data": {
      "text/plain": [
       "[Text(33.0, 0.5, 'Predicted'), Text(0.5, 15.0, 'Actual')]"
      ]
     },
     "execution_count": 81,
     "metadata": {},
     "output_type": "execute_result"
    },
    {
     "data": {
      "image/png": "[encoded data removed]",
      "text/plain": [
       "<Figure size 432x288 with 1 Axes>"
      ]
     },
     "metadata": {
      "needs_background": "light"
     },
     "output_type": "display_data"
    }
   ],
   "source": [
    "train_data, train_label = populate_filt_data([train_files[0]], event_start, event_end, bsl_start, bsl_end)\n",
    "data, label = reshape_data(train_data, train_label)\n",
    "train_x, test_x, train_y, test_y = train_test_split(data, label, test_size=0.3, random_state=42)\n",
    "\n",
    "csp = CSP(n_components=4, rank={'eeg':3})\n",
    "x_new = csp.fit_transform(train_x.reshape(train_x.shape[0], train_x.shape[2], train_x.shape[1]), \n",
    "                          np.squeeze(train_y))\n",
    "x_new_test = csp.fit_transform(test_x.reshape(test_x.shape[0], test_x.shape[2], test_x.shape[1]),\n",
    "                               np.squeeze(test_y))\n",
    "lda = LinearDiscriminantAnalysis(solver = 'lsqr')\n",
    "lda.fit(x_new, train_y)\n",
    "print(lda.score(x_new_test, test_y))\n",
    "\n",
    "y_pred = lda.predict(x_new_test)\n",
    "cm = confusion_matrix(test_y, np.rint(y_pred))\n",
    "ax = sn.heatmap(cm, annot=True, cbar=False, xticklabels=['Left', 'Right'], yticklabels=['Left', 'Right'])\n",
    "ax.set(xlabel='Actual', ylabel='Predicted')"
   ]
  },
  {
   "cell_type": "code",
   "execution_count": null,
   "metadata": {},
   "outputs": [],
   "source": []
  },
  {
   "cell_type": "code",
   "execution_count": null,
   "metadata": {},
   "outputs": [],
   "source": []
  },
  {
   "cell_type": "code",
   "execution_count": null,
   "metadata": {},
   "outputs": [],
   "source": []
  },
  {
   "cell_type": "code",
   "execution_count": null,
   "metadata": {},
   "outputs": [],
   "source": []
  },
  {
   "cell_type": "code",
   "execution_count": null,
   "metadata": {},
   "outputs": [],
   "source": []
  },
  {
   "cell_type": "markdown",
   "metadata": {},
   "source": [
    "# Questions for check point 1\n",
    "\n",
    "1. Remove EOG artifact: Needed? How?\n",
    "    \n",
    "2. Another tangent: feasible to include EOG information in the classification? Individual variation too high?\n",
    "    \n",
    "3. CSP? Restricted by the number of channels?\n",
    "    \n",
    "4. Difference not distinct between averaged signals\n",
    "    \n",
    "5. Amplitude much smaller after averaging, also noisier\n",
    "    \n",
    "6. preprocesing data: does order matter (DC offset -> filtfilt -> baseline correct); what else needed?\n"
   ]
  },
  {
   "cell_type": "markdown",
   "metadata": {},
   "source": [
    "compute C3-C4, C4-C3, or diff with Cz, then bandpass 7-30Hz\n",
    "take the log of the power (normally distributed)\n",
    "\n",
    "diff more distinct in freq space\n",
    "\n",
    "EOG artifact:\n",
    "\n",
    "ICA (http://www.cogsci.ucsd.edu/academicPubs/igorodni/eog-filtering.pdf)\n",
    "\n",
    "subtract EOG from EEG? **find code**"
   ]
  },
  {
   "cell_type": "markdown",
   "metadata": {},
   "source": [
    "## Questions for check point 2\n",
    "\n",
    "1. accuracy not good... problem with approach?\n",
    "2. data augmentation? \n",
    "    \n",
    "    \"deep convolutional generative adversarial network (DCGAN) provided better augmentation performance than traditional DA methods: geometric transformation (GT), autoencoder (AE), and variational autoencoder (VAE)\"\n",
    "    \n",
    "    Is CSP a kind of data augmentation? no, but generate better features\n",
    "    \n",
    "    Worth trying? time domain: high pass + ICA (remove EOG) + CSP (augmentation)+ 1DConv + max pooling (feature extraction) + LSTM (sequential learning)\n",
    "    \n",
    "    try CSP with top 3 filters"
   ]
  },
  {
   "cell_type": "markdown",
   "metadata": {},
   "source": [
    "Try on 64 channel set\n",
    "\n",
    "Run model only on EOG to make sure the model is not using eye moving data\n",
    "\n",
    "Try train on individual data"
   ]
  },
  {
   "cell_type": "code",
   "execution_count": null,
   "metadata": {},
   "outputs": [],
   "source": []
  },
  {
   "cell_type": "code",
   "execution_count": null,
   "metadata": {},
   "outputs": [],
   "source": []
  },
  {
   "cell_type": "code",
   "execution_count": null,
   "metadata": {},
   "outputs": [],
   "source": []
  },
  {
   "cell_type": "code",
   "execution_count": null,
   "metadata": {},
   "outputs": [],
   "source": []
  },
  {
   "cell_type": "code",
   "execution_count": null,
   "metadata": {},
   "outputs": [],
   "source": []
  }
 ],
 "metadata": {
  "kernelspec": {
   "display_name": "Python 3",
   "language": "python",
   "name": "python3"
  },
  "language_info": {
   "codemirror_mode": {
    "name": "ipython",
    "version": 3
   },
   "file_extension": ".py",
   "mimetype": "text/x-python",
   "name": "python",
   "nbconvert_exporter": "python",
   "pygments_lexer": "ipython3",
   "version": "3.7.6"
  }
 },
 "nbformat": 4,
 "nbformat_minor": 4
}
