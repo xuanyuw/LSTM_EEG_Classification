{
 "cells": [
  {
   "cell_type": "markdown",
   "metadata": {},
   "source": [
    "# Start of actual analysis\n",
    "\n",
    "Previous Paper: https://pubmed.ncbi.nlm.nih.gov/30334800/ \n",
    "\n",
    "used similar dataset, LSTM + 1d-AX + softmax\n",
    "\n",
    "1d-AX: kinda like windowed mean in A2\n",
    "\n",
    "\n",
    "\n",
    "Hybrid NN in time domain: https://www.biorxiv.org/content/10.1101/2020.09.20.305300v1.full"
   ]
  },
  {
   "cell_type": "code",
   "execution_count": 1,
   "metadata": {},
   "outputs": [],
   "source": [
    "import biosig\n",
    "import json\n",
    "import os\n",
    "import pandas as pd\n",
    "import numpy as np\n",
    "import matplotlib.pyplot as plt\n",
    "from scipy.signal import butter, sosfiltfilt, sosfreqz \n",
    "\n",
    "#Xuanyu\n",
    "data_path = './BCICIV_2b_gdf/'#the folder where all raw data files live\n",
    "\n",
    "#Can\n",
    "#data_path = '/Users/canliu/COGS 189/Project'\n",
    "\n",
    "train_portion = 0.7 #the portion of training data among all the raw data files\n",
    "\n",
    "# from the data description document\n",
    "event_start = 4 #the start time point (sec) of imagery for each trial\n",
    "event_end = 7 #the end time point (sec) of imagery for each trial\n",
    "bsl_start = 0 #the start time point (sec) of baseline for each trial\n",
    "bsl_end = 2 #the end time point (sec) of baseline for each trial\n",
    "\n",
    "files = [os.path.join(data_path, f) for f in os.listdir(data_path) if os.path.isfile(os.path.join(data_path, f))]\n",
    "files = [f for f in files if f[-5]=='T']\n",
    "# for testing purposes only\n",
    "train_files = files[:5]\n",
    "\n",
    "# train_files = train_files[:int(len(files)*train_portion)]"
   ]
  },
  {
   "cell_type": "markdown",
   "metadata": {},
   "source": [
    "## Define functions"
   ]
  },
  {
   "cell_type": "code",
   "execution_count": 61,
   "metadata": {},
   "outputs": [],
   "source": [
    "def time_ind_conversion(sr, t):\n",
    "    \"\"\"\n",
    "    Convert time in second to the index in the signal array\n",
    "    \"\"\"\n",
    "    return int(np.round(sr*t))\n",
    "\n",
    "\n",
    "# from A1\n",
    "def butter_bandpass(lowcut, highcut, fs, order = 2):\n",
    "        nyq = 0.5 * fs\n",
    "        low = lowcut / nyq\n",
    "        high = highcut / nyq\n",
    "        sos = butter(order, [low, high], analog = False, btype = 'band', output = 'sos')\n",
    "        return sos\n",
    "\n",
    "def butter_bandpass_filter(data, lowcut, highcut, fs, order = 2):\n",
    "        sos = butter_bandpass(lowcut, highcut, fs, order = order)\n",
    "        y = sosfiltfilt(sos, data)\n",
    "        return y\n",
    "\n",
    "def populate_filt_data(files, event_start, event_end, bsl_start, bsl_end, lowcut=7, highcut=30):\n",
    "    \"\"\"\n",
    "    populate and pre-process data for training the model\n",
    "    \n",
    "    \"It is noted in the literature that while performing any motor imagery tasks, \n",
    "    two major frequency band of EEG spectrum i.e mu (7-12 Hz) as well as beta (12-30 Hz) \n",
    "    bands are actively involved.\"\n",
    "    \n",
    "    input:\n",
    "        files: list of file paths to the raw data files\n",
    "        event_start: the start time point (sec) of imagery for each trial\n",
    "        event_end: the end time point (sec) of imagery for each trial\n",
    "        bsl_start: the start time point (sec) of baseline for each trial\n",
    "        bsl_end: the end time point (sec) of baseline for each trial\n",
    "        lowcut: lower end of the bandpass filter, default=7Hz\n",
    "        highcut: higher end of the bandpass filter, default=30Hz\n",
    "        \n",
    "    output:\n",
    "        data: list of eeg signal segments for each imagery \n",
    "        label: list of labels for each segment\n",
    "    \n",
    "    \"\"\"\n",
    "    labels = []\n",
    "    data = []\n",
    "    for i in files:\n",
    "        HDR = json.loads(biosig.header(i))\n",
    "        sr  = HDR['Samplingrate']\n",
    "        events = pd.json_normalize(HDR['EVENT'])\n",
    "        mi_events = events[events.Description.apply(lambda x: 'class' in x)]\n",
    "        all_data = biosig.data(i).T\n",
    "        \n",
    "        for j in mi_events.index:\n",
    "            t_start = time_ind_conversion(sr, events.POS[j-1]+event_start)\n",
    "            t_end = time_ind_conversion(sr, events.POS[j-1]+event_end)\n",
    "            #only use the EEG channels to prevent the model learning EOG patterns\n",
    "            seg = all_data[:3, t_start:t_end]\n",
    "            #calculate baseline and trial mean\n",
    "            t_bsl_start = time_ind_conversion(sr, events.POS[j-1]+bsl_start)\n",
    "            t_bsl_end = time_ind_conversion(sr, events.POS[j-1]+bsl_end)\n",
    "            bsl_sig = all_data[:3, t_bsl_start:t_bsl_end]\n",
    "            bsl = np.nanmean(bsl_sig, 1)\n",
    "            trial_mean = np.nanmean(seg, 1)\n",
    "            #preprocess the data by subtract baseline and the trial mean\n",
    "            seg_after = butter_bandpass_filter((seg.T - bsl - trial_mean).T, lowcut=lowcut, highcut=highcut, fs=sr)\n",
    "            \n",
    "            data.append(seg_after)\n",
    "            labels.append(mi_events.Description[j])\n",
    "    return data, labels\n",
    "\n",
    "def reshape_data(data, label):\n",
    "    x = np.dstack(data)\n",
    "    x = x.reshape(x.shape[2], x.shape[1], x.shape[0])\n",
    "    lb = preprocessing.LabelBinarizer()\n",
    "    y = lb.fit_transform(label)\n",
    "    return x, y\n",
    "\n",
    "def create_model(filters=256, pool_size=4, units=64, dropout=0.1, optim='adam'):\n",
    "    model=Sequential()\n",
    "    model.add(Conv1D(filters=filters, kernel_size=5, activation = 'relu', input_shape = (750, 3)))\n",
    "    #model.add(MaxPooling1D(pool_size=pool_size))\n",
    "    model.add(LSTM(units))\n",
    "    model.add(Dropout(dropout))\n",
    "    model.add(Dense(2, activation='softmax'))\n",
    "    model.compile(loss = 'sparse_categorical_crossentropy', optimizer=optim, metrics=['accuracy'])\n",
    "    return model\n",
    "\n"
   ]
  },
  {
   "cell_type": "markdown",
   "metadata": {},
   "source": [
    "## Build the model"
   ]
  },
  {
   "cell_type": "code",
   "execution_count": 49,
   "metadata": {},
   "outputs": [],
   "source": [
    "import scipy.io\n",
    "from keras.models import Sequential\n",
    "from keras.layers import Dense, Dropout, Activation, LSTM, Conv1D, MaxPooling1D\n",
    "from keras.optimizers import SGD, Nadam, Adam, RMSprop\n",
    "from keras.utils import np_utils\n",
    "from keras.wrappers.scikit_learn import KerasClassifier\n",
    "\n",
    "from sklearn import preprocessing\n",
    "from sklearn.model_selection import train_test_split\n",
    "from sklearn.model_selection import GridSearchCV\n",
    "from sklearn.pipeline import Pipeline\n",
    "from sklearn.discriminant_analysis import LinearDiscriminantAnalysis\n",
    "from sklearn.model_selection import ShuffleSplit, cross_val_score\n",
    "from sklearn.decomposition import FastICA\n",
    "from sklearn.metrics import confusion_matrix\n",
    "\n",
    "from mne.decoding import CSP\n",
    "from mne import create_info\n",
    "\n",
    "import seaborn as sn\n",
    "import matplotlib.pyplot as plt"
   ]
  },
  {
   "cell_type": "markdown",
   "metadata": {},
   "source": [
    "### high pass + ICA (remove EOG) + CSP (augmentation)+ 1DConv(feature extraction) + LSTM (sequential learning)"
   ]
  },
  {
   "cell_type": "code",
   "execution_count": null,
   "metadata": {
    "scrolled": true
   },
   "outputs": [],
   "source": [
    "# This doesn't work... Why?\n",
    "\n",
    "\n",
    "# train_data, train_label = populate_filt_data(train_files, event_start, event_end, bsl_start, bsl_end)\n",
    "# data, label = reshape_data(train_data, train_label)\n",
    "# ica = FastICA(n_components=3)\n",
    "# all_c3 = data[:,:,0]\n",
    "# components = ica.fit_transform(all_c3)\n"
   ]
  },
  {
   "cell_type": "code",
   "execution_count": 62,
   "metadata": {
    "scrolled": true
   },
   "outputs": [
    {
     "name": "stdout",
     "output_type": "stream",
     "text": [
      "Computing rank from data with rank={'eeg': 3}\n",
      "    Using tolerance 0.8 (2.2e-16 eps * 3 dim * 1.2e+15  max singular value)\n",
      "    Estimated rank (mag): 3\n",
      "    MAG: rank 3 computed from 3 data channels with 0 projectors\n",
      "    Setting small MAG eigenvalues to zero (without PCA)\n",
      "Reducing data rank from 3 -> 3\n",
      "Estimating covariance using EMPIRICAL\n",
      "Done.\n",
      "Computing rank from data with rank={'eeg': 3, 'mag': 3}\n",
      "    Setting small MAG eigenvalues to zero (without PCA)\n",
      "Reducing data rank from 3 -> 3\n",
      "Estimating covariance using EMPIRICAL\n",
      "Done.\n",
      "Computing rank from data with rank={'eeg': 3, 'mag': 3}\n",
      "    Setting small MAG eigenvalues to zero (without PCA)\n",
      "Reducing data rank from 3 -> 3\n",
      "Estimating covariance using EMPIRICAL\n",
      "Done.\n",
      "Computing rank from data with rank={'eeg': 3, 'mag': 3}\n",
      "    Setting small MAG eigenvalues to zero (without PCA)\n",
      "Reducing data rank from 3 -> 3\n",
      "Estimating covariance using EMPIRICAL\n",
      "Done.\n"
     ]
    }
   ],
   "source": [
    "# Load data after band-pass filter\n",
    "train_data, train_label = populate_filt_data(train_files, event_start, event_end, bsl_start, bsl_end)\n",
    "data, label = reshape_data(train_data, train_label)\n",
    "train_x, test_x, train_y, test_y = train_test_split(data, label, test_size=0.2, random_state=42)\n",
    "\n",
    "# TODO: Skip ICA for now because it didn't work\n",
    "\n",
    "# CSP transformation\n",
    "csp = CSP(rank={'eeg':3}, transform_into = 'csp_space')\n",
    "x_new = csp.fit_transform(train_x.reshape(train_x.shape[0], train_x.shape[2], train_x.shape[1]), \n",
    "                          np.squeeze(train_y)).reshape(train_x.shape[0], train_x.shape[1], train_x.shape[2])\n",
    "x_new_test = csp.fit_transform(test_x.reshape(test_x.shape[0], test_x.shape[2], test_x.shape[1]),\n",
    "                               np.squeeze(test_y)).reshape(test_x.shape[0], test_x.shape[1], test_x.shape[2])\n",
    "\n",
    "# plot top CSP filters here"
   ]
  },
  {
   "cell_type": "code",
   "execution_count": 63,
   "metadata": {
    "scrolled": true
   },
   "outputs": [],
   "source": [
    "# plot top filters, Doesn't work: No digitization points found.\n",
    "# info = create_info(ch_names=['C3', 'Cz', 'C4'], sfreq=250.0, ch_types = 'eeg')\n",
    "# csp.plot_patterns(info=info, ch_type='eeg', sphere=0.095)"
   ]
  },
  {
   "cell_type": "code",
   "execution_count": 64,
   "metadata": {
    "scrolled": true
   },
   "outputs": [
    {
     "name": "stdout",
     "output_type": "stream",
     "text": [
      "Epoch 1/20\n",
      "12/12 [==============================] - 7s 460ms/step - loss: 0.7007 - accuracy: 0.4877\n",
      "Epoch 2/20\n",
      "12/12 [==============================] - 6s 461ms/step - loss: 0.6894 - accuracy: 0.5253\n",
      "Epoch 3/20\n",
      "12/12 [==============================] - 6s 458ms/step - loss: 0.6865 - accuracy: 0.5473\n",
      "Epoch 4/20\n",
      "12/12 [==============================] - 5s 452ms/step - loss: 0.6761 - accuracy: 0.6088\n",
      "Epoch 5/20\n",
      "12/12 [==============================] - 5s 455ms/step - loss: 0.6882 - accuracy: 0.5165\n",
      "Epoch 6/20\n",
      "12/12 [==============================] - 6s 465ms/step - loss: 0.6766 - accuracy: 0.5777\n",
      "Epoch 7/20\n",
      "12/12 [==============================] - 6s 471ms/step - loss: 0.6701 - accuracy: 0.5863\n",
      "Epoch 8/20\n",
      "12/12 [==============================] - 6s 452ms/step - loss: 0.6483 - accuracy: 0.6371\n",
      "Epoch 9/20\n",
      "12/12 [==============================] - 6s 470ms/step - loss: 0.6610 - accuracy: 0.6158\n",
      "Epoch 10/20\n",
      "12/12 [==============================] - 8s 661ms/step - loss: 0.6330 - accuracy: 0.6725\n",
      "Epoch 11/20\n",
      "12/12 [==============================] - 8s 672ms/step - loss: 0.6379 - accuracy: 0.6588\n",
      "Epoch 12/20\n",
      "12/12 [==============================] - 10s 800ms/step - loss: 0.6171 - accuracy: 0.7129\n",
      "Epoch 13/20\n",
      "12/12 [==============================] - 8s 643ms/step - loss: 0.5847 - accuracy: 0.6953\n",
      "Epoch 14/20\n",
      "12/12 [==============================] - 6s 495ms/step - loss: 0.6273 - accuracy: 0.6289\n",
      "Epoch 15/20\n",
      "12/12 [==============================] - 6s 483ms/step - loss: 0.5895 - accuracy: 0.6674\n",
      "Epoch 16/20\n",
      "12/12 [==============================] - 6s 525ms/step - loss: 0.5385 - accuracy: 0.7381\n",
      "Epoch 17/20\n",
      "12/12 [==============================] - 6s 490ms/step - loss: 0.5425 - accuracy: 0.7251\n",
      "Epoch 18/20\n",
      "12/12 [==============================] - 6s 474ms/step - loss: 0.4937 - accuracy: 0.7678\n",
      "Epoch 19/20\n",
      "12/12 [==============================] - 6s 529ms/step - loss: 0.4859 - accuracy: 0.7850\n",
      "Epoch 20/20\n",
      "12/12 [==============================] - 7s 551ms/step - loss: 0.4774 - accuracy: 0.8104\n",
      "5/5 [==============================] - 1s 89ms/step - loss: 0.9117 - accuracy: 0.5417\n"
     ]
    },
    {
     "data": {
      "text/plain": [
       "[0.9117460250854492, 0.5416666865348816]"
      ]
     },
     "execution_count": 64,
     "metadata": {},
     "output_type": "execute_result"
    }
   ],
   "source": [
    "# build model here\n",
    "model = create_model()\n",
    "model.fit(x_new, train_y, epochs=20, batch_size=50)\n",
    "model.evaluate(x_new_test, test_y)"
   ]
  },
  {
   "cell_type": "code",
   "execution_count": 65,
   "metadata": {},
   "outputs": [
    {
     "data": {
      "text/plain": [
       "[Text(33.0, 0.5, 'Predicted'), Text(0.5, 15.0, 'Actual')]"
      ]
     },
     "execution_count": 65,
     "metadata": {},
     "output_type": "execute_result"
    },
    {
     "data": {
      "image/png": "[encoded data removed]",
      "text/plain": [
       "<Figure size 432x288 with 1 Axes>"
      ]
     },
     "metadata": {
      "needs_background": "light"
     },
     "output_type": "display_data"
    }
   ],
   "source": [
    "y_pred = model.predict_classes(x_new_test)\n",
    "cm = confusion_matrix(test_y, np.rint(y_pred))\n",
    "ax = sn.heatmap(cm, annot=True, cbar=False, xticklabels=['Left', 'Right'], yticklabels=['Left', 'Right'])\n",
    "ax.set(xlabel='Actual', ylabel='Predicted')"
   ]
  },
  {
   "cell_type": "markdown",
   "metadata": {},
   "source": [
    "### Train on each individual"
   ]
  },
  {
   "cell_type": "code",
   "execution_count": 69,
   "metadata": {},
   "outputs": [
    {
     "name": "stdout",
     "output_type": "stream",
     "text": [
      "Computing rank from data with rank={'eeg': 3}\n",
      "    Using tolerance nan (2.2e-16 eps * 3 dim * nan  max singular value)\n",
      "    Estimated rank (mag): 0\n",
      "    MAG: rank 0 computed from 3 data channels with 0 projectors\n",
      "Reducing data rank from 3 -> 3\n",
      "Estimating covariance using EMPIRICAL\n",
      "Done.\n",
      "Computing rank from data with rank={'eeg': 3, 'mag': 0}\n",
      "Reducing data rank from 3 -> 3\n",
      "Estimating covariance using EMPIRICAL\n",
      "Done.\n",
      "Computing rank from data with rank={'eeg': 3, 'mag': 0}\n",
      "Reducing data rank from 3 -> 3\n",
      "Estimating covariance using EMPIRICAL\n",
      "Done.\n",
      "Computing rank from data with rank={'eeg': 3, 'mag': 0}\n",
      "Reducing data rank from 3 -> 3\n",
      "Estimating covariance using EMPIRICAL\n",
      "Done.\n",
      "Epoch 1/10\n",
      "6/6 [==============================] - 3s 275ms/step - loss: 0.7016 - accuracy: 0.4841\n",
      "Epoch 2/10\n",
      "6/6 [==============================] - 2s 283ms/step - loss: 0.6675 - accuracy: 0.6286\n",
      "Epoch 3/10\n",
      "6/6 [==============================] - 2s 356ms/step - loss: 0.6643 - accuracy: 0.6129\n",
      "Epoch 4/10\n",
      "6/6 [==============================] - 2s 313ms/step - loss: 0.6519 - accuracy: 0.6333\n",
      "Epoch 5/10\n",
      "6/6 [==============================] - 2s 306ms/step - loss: 0.6477 - accuracy: 0.6508\n",
      "Epoch 6/10\n",
      "6/6 [==============================] - 2s 298ms/step - loss: 0.6237 - accuracy: 0.6737\n",
      "Epoch 7/10\n",
      "6/6 [==============================] - 2s 333ms/step - loss: 0.6339 - accuracy: 0.6136\n",
      "Epoch 8/10\n",
      "6/6 [==============================] - 2s 291ms/step - loss: 0.6170 - accuracy: 0.6112\n",
      "Epoch 9/10\n",
      "6/6 [==============================] - 2s 286ms/step - loss: 0.5924 - accuracy: 0.6516\n",
      "Epoch 10/10\n",
      "6/6 [==============================] - 2s 287ms/step - loss: 0.5808 - accuracy: 0.6876\n",
      "WARNING:tensorflow:7 out of the last 15 calls to <function Model.make_test_function.<locals>.test_function at 0x7ff4f1ed6cb0> triggered tf.function retracing. Tracing is expensive and the excessive number of tracings could be due to (1) creating @tf.function repeatedly in a loop, (2) passing tensors with different shapes, (3) passing Python objects instead of tensors. For (1), please define your @tf.function outside of the loop. For (2), @tf.function has experimental_relax_shapes=True option that relaxes argument shapes that can avoid unnecessary retracing. For (3), please refer to https://www.tensorflow.org/guide/function#controlling_retracing and https://www.tensorflow.org/api_docs/python/tf/function for  more details.\n"
     ]
    },
    {
     "name": "stderr",
     "output_type": "stream",
     "text": [
      "WARNING:tensorflow:7 out of the last 15 calls to <function Model.make_test_function.<locals>.test_function at 0x7ff4f1ed6cb0> triggered tf.function retracing. Tracing is expensive and the excessive number of tracings could be due to (1) creating @tf.function repeatedly in a loop, (2) passing tensors with different shapes, (3) passing Python objects instead of tensors. For (1), please define your @tf.function outside of the loop. For (2), @tf.function has experimental_relax_shapes=True option that relaxes argument shapes that can avoid unnecessary retracing. For (3), please refer to https://www.tensorflow.org/guide/function#controlling_retracing and https://www.tensorflow.org/api_docs/python/tf/function for  more details.\n"
     ]
    },
    {
     "name": "stdout",
     "output_type": "stream",
     "text": [
      "2/2 [==============================] - 1s 90ms/step - loss: 0.7057 - accuracy: 0.6667\n",
      "WARNING:tensorflow:7 out of the last 65 calls to <function Model.make_predict_function.<locals>.predict_function at 0x7ff4f0c19170> triggered tf.function retracing. Tracing is expensive and the excessive number of tracings could be due to (1) creating @tf.function repeatedly in a loop, (2) passing tensors with different shapes, (3) passing Python objects instead of tensors. For (1), please define your @tf.function outside of the loop. For (2), @tf.function has experimental_relax_shapes=True option that relaxes argument shapes that can avoid unnecessary retracing. For (3), please refer to https://www.tensorflow.org/guide/function#controlling_retracing and https://www.tensorflow.org/api_docs/python/tf/function for  more details.\n"
     ]
    },
    {
     "name": "stderr",
     "output_type": "stream",
     "text": [
      "WARNING:tensorflow:7 out of the last 65 calls to <function Model.make_predict_function.<locals>.predict_function at 0x7ff4f0c19170> triggered tf.function retracing. Tracing is expensive and the excessive number of tracings could be due to (1) creating @tf.function repeatedly in a loop, (2) passing tensors with different shapes, (3) passing Python objects instead of tensors. For (1), please define your @tf.function outside of the loop. For (2), @tf.function has experimental_relax_shapes=True option that relaxes argument shapes that can avoid unnecessary retracing. For (3), please refer to https://www.tensorflow.org/guide/function#controlling_retracing and https://www.tensorflow.org/api_docs/python/tf/function for  more details.\n"
     ]
    },
    {
     "data": {
      "text/plain": [
       "[Text(33.0, 0.5, 'Predicted'), Text(0.5, 15.0, 'Actual')]"
      ]
     },
     "execution_count": 69,
     "metadata": {},
     "output_type": "execute_result"
    },
    {
     "data": {
      "image/png": "[encoded data removed]",
      "text/plain": [
       "<Figure size 432x288 with 1 Axes>"
      ]
     },
     "metadata": {
      "needs_background": "light"
     },
     "output_type": "display_data"
    }
   ],
   "source": [
    "# Load data after band-pass filter\n",
    "train_data, train_label = populate_filt_data([train_files[0]], event_start, event_end, bsl_start, bsl_end)\n",
    "data, label = reshape_data(train_data, train_label)\n",
    "train_x, test_x, train_y, test_y = train_test_split(data, label, test_size=0.3, random_state=42)\n",
    "\n",
    "# TODO: Skip ICA for now because it didn't work\n",
    "\n",
    "# CSP transformation\n",
    "csp = CSP(rank={'eeg':3}, transform_into = 'csp_space')\n",
    "x_new = csp.fit_transform(train_x.reshape(train_x.shape[0], train_x.shape[2], train_x.shape[1]), \n",
    "                          np.squeeze(train_y)).reshape(train_x.shape[0], train_x.shape[1], train_x.shape[2])\n",
    "x_new_test = csp.fit_transform(test_x.reshape(test_x.shape[0], test_x.shape[2], test_x.shape[1]),\n",
    "                               np.squeeze(test_y)).reshape(test_x.shape[0], test_x.shape[1], test_x.shape[2])\n",
    "model = create_model()\n",
    "model.fit(x_new, train_y, epochs=10, batch_size=20)\n",
    "model.evaluate(x_new_test, test_y)\n",
    "\n",
    "y_pred = model.predict_classes(x_new_test)\n",
    "cm = confusion_matrix(test_y, np.rint(y_pred))\n",
    "ax = sn.heatmap(cm, annot=True, cbar=False, xticklabels=['Left', 'Right'], yticklabels=['Left', 'Right'])\n",
    "ax.set(xlabel='Actual', ylabel='Predicted')"
   ]
  },
  {
   "cell_type": "code",
   "execution_count": null,
   "metadata": {},
   "outputs": [],
   "source": []
  },
  {
   "cell_type": "code",
   "execution_count": null,
   "metadata": {},
   "outputs": [],
   "source": []
  },
  {
   "cell_type": "code",
   "execution_count": null,
   "metadata": {},
   "outputs": [],
   "source": []
  },
  {
   "cell_type": "markdown",
   "metadata": {},
   "source": [
    "## CSP-LDA baseline model"
   ]
  },
  {
   "cell_type": "code",
   "execution_count": 55,
   "metadata": {},
   "outputs": [
    {
     "name": "stdout",
     "output_type": "stream",
     "text": [
      "Computing rank from data with rank={'eeg': 3}\n",
      "    Using tolerance 0.8 (2.2e-16 eps * 3 dim * 1.2e+15  max singular value)\n",
      "    Estimated rank (mag): 3\n",
      "    MAG: rank 3 computed from 3 data channels with 0 projectors\n",
      "    Setting small MAG eigenvalues to zero (without PCA)\n",
      "Reducing data rank from 3 -> 3\n",
      "Estimating covariance using EMPIRICAL\n",
      "Done.\n",
      "Computing rank from data with rank={'eeg': 3, 'mag': 3}\n",
      "    Setting small MAG eigenvalues to zero (without PCA)\n",
      "Reducing data rank from 3 -> 3\n",
      "Estimating covariance using EMPIRICAL\n",
      "Done.\n",
      "Computing rank from data with rank={'eeg': 3, 'mag': 3}\n",
      "    Setting small MAG eigenvalues to zero (without PCA)\n",
      "Reducing data rank from 3 -> 3\n",
      "Estimating covariance using EMPIRICAL\n",
      "Done.\n",
      "Computing rank from data with rank={'eeg': 3, 'mag': 3}\n",
      "    Setting small MAG eigenvalues to zero (without PCA)\n",
      "Reducing data rank from 3 -> 3\n",
      "Estimating covariance using EMPIRICAL\n",
      "Done.\n"
     ]
    },
    {
     "name": "stderr",
     "output_type": "stream",
     "text": [
      "/Users/xuanyuwu/opt/anaconda3/lib/python3.7/site-packages/sklearn/utils/validation.py:760: DataConversionWarning: A column-vector y was passed when a 1d array was expected. Please change the shape of y to (n_samples, ), for example using ravel().\n",
      "  y = column_or_1d(y, warn=True)\n"
     ]
    },
    {
     "data": {
      "text/plain": [
       "0.6041666666666666"
      ]
     },
     "execution_count": 55,
     "metadata": {},
     "output_type": "execute_result"
    }
   ],
   "source": [
    "csp = CSP(n_components=4, rank={'eeg':3})\n",
    "x_new = csp.fit_transform(train_x.reshape(train_x.shape[0], train_x.shape[2], train_x.shape[1]), \n",
    "                          np.squeeze(train_y))\n",
    "x_new_test = csp.fit_transform(test_x.reshape(test_x.shape[0], test_x.shape[2], test_x.shape[1]),\n",
    "                               np.squeeze(test_y))\n",
    "lda = LinearDiscriminantAnalysis(solver = 'lsqr')\n",
    "lda.fit(x_new, train_y)\n",
    "lda.score(x_new_test, test_y)"
   ]
  },
  {
   "cell_type": "code",
   "execution_count": 57,
   "metadata": {},
   "outputs": [
    {
     "data": {
      "text/plain": [
       "[Text(33.0, 0.5, 'Predicted'), Text(0.5, 15.0, 'Actual')]"
      ]
     },
     "execution_count": 57,
     "metadata": {},
     "output_type": "execute_result"
    },
    {
     "data": {
      "image/png": "[encoded data removed]",
      "text/plain": [
       "<Figure size 432x288 with 1 Axes>"
      ]
     },
     "metadata": {
      "needs_background": "light"
     },
     "output_type": "display_data"
    }
   ],
   "source": [
    "y_pred = lda.predict(x_new_test)\n",
    "cm = confusion_matrix(test_y, np.rint(y_pred))\n",
    "ax = sn.heatmap(cm, annot=True, cbar=False, xticklabels=['Left', 'Right'], yticklabels=['Left', 'Right'])\n",
    "ax.set(xlabel='Actual', ylabel='Predicted')"
   ]
  },
  {
   "cell_type": "markdown",
   "metadata": {},
   "source": [
    "### On each individual"
   ]
  },
  {
   "cell_type": "code",
   "execution_count": 72,
   "metadata": {},
   "outputs": [
    {
     "name": "stdout",
     "output_type": "stream",
     "text": [
      "Computing rank from data with rank={'eeg': 3}\n",
      "    Using tolerance 0.38 (2.2e-16 eps * 3 dim * 5.7e+14  max singular value)\n",
      "    Estimated rank (mag): 3\n",
      "    MAG: rank 3 computed from 3 data channels with 0 projectors\n",
      "    Setting small MAG eigenvalues to zero (without PCA)\n",
      "Reducing data rank from 3 -> 3\n",
      "Estimating covariance using EMPIRICAL\n",
      "Done.\n",
      "Computing rank from data with rank={'eeg': 3, 'mag': 3}\n",
      "    Setting small MAG eigenvalues to zero (without PCA)\n",
      "Reducing data rank from 3 -> 3\n",
      "Estimating covariance using EMPIRICAL\n",
      "Done.\n",
      "Computing rank from data with rank={'eeg': 3, 'mag': 3}\n",
      "    Setting small MAG eigenvalues to zero (without PCA)\n",
      "Reducing data rank from 3 -> 3\n",
      "Estimating covariance using EMPIRICAL\n",
      "Done.\n",
      "Computing rank from data with rank={'eeg': 3, 'mag': 3}\n",
      "    Setting small MAG eigenvalues to zero (without PCA)\n",
      "Reducing data rank from 3 -> 3\n",
      "Estimating covariance using EMPIRICAL\n",
      "Done.\n",
      "0.4166666666666667\n"
     ]
    },
    {
     "name": "stderr",
     "output_type": "stream",
     "text": [
      "/Users/xuanyuwu/opt/anaconda3/lib/python3.7/site-packages/sklearn/utils/validation.py:760: DataConversionWarning: A column-vector y was passed when a 1d array was expected. Please change the shape of y to (n_samples, ), for example using ravel().\n",
      "  y = column_or_1d(y, warn=True)\n"
     ]
    },
    {
     "data": {
      "text/plain": [
       "[Text(33.0, 0.5, 'Predicted'), Text(0.5, 15.0, 'Actual')]"
      ]
     },
     "execution_count": 72,
     "metadata": {},
     "output_type": "execute_result"
    },
    {
     "data": {
      "image/png": "[encoded data removed]",
      "text/plain": [
       "<Figure size 432x288 with 1 Axes>"
      ]
     },
     "metadata": {
      "needs_background": "light"
     },
     "output_type": "display_data"
    }
   ],
   "source": [
    "train_data, train_label = populate_filt_data([train_files[0]], event_start, event_end, bsl_start, bsl_end)\n",
    "data, label = reshape_data(train_data, train_label)\n",
    "train_x, test_x, train_y, test_y = train_test_split(data, label, test_size=0.3, random_state=42)\n",
    "\n",
    "csp = CSP(n_components=4, rank={'eeg':3})\n",
    "x_new = csp.fit_transform(train_x.reshape(train_x.shape[0], train_x.shape[2], train_x.shape[1]), \n",
    "                          np.squeeze(train_y))\n",
    "x_new_test = csp.fit_transform(test_x.reshape(test_x.shape[0], test_x.shape[2], test_x.shape[1]),\n",
    "                               np.squeeze(test_y))\n",
    "lda = LinearDiscriminantAnalysis(solver = 'lsqr')\n",
    "lda.fit(x_new, train_y)\n",
    "print(lda.score(x_new_test, test_y))\n",
    "\n",
    "y_pred = lda.predict(x_new_test)\n",
    "cm = confusion_matrix(test_y, np.rint(y_pred))\n",
    "ax = sn.heatmap(cm, annot=True, cbar=False, xticklabels=['Left', 'Right'], yticklabels=['Left', 'Right'])\n",
    "ax.set(xlabel='Actual', ylabel='Predicted')"
   ]
  },
  {
   "cell_type": "code",
   "execution_count": null,
   "metadata": {},
   "outputs": [],
   "source": []
  },
  {
   "cell_type": "code",
   "execution_count": null,
   "metadata": {},
   "outputs": [],
   "source": []
  },
  {
   "cell_type": "code",
   "execution_count": null,
   "metadata": {},
   "outputs": [],
   "source": []
  },
  {
   "cell_type": "code",
   "execution_count": null,
   "metadata": {},
   "outputs": [],
   "source": []
  },
  {
   "cell_type": "code",
   "execution_count": null,
   "metadata": {},
   "outputs": [],
   "source": []
  },
  {
   "cell_type": "markdown",
   "metadata": {},
   "source": [
    "# Questions for check point 1\n",
    "\n",
    "1. Remove EOG artifact: Needed? How?\n",
    "    \n",
    "2. Another tangent: feasible to include EOG information in the classification? Individual variation too high?\n",
    "    \n",
    "3. CSP? Restricted by the number of channels?\n",
    "    \n",
    "4. Difference not distinct between averaged signals\n",
    "    \n",
    "5. Amplitude much smaller after averaging, also noisier\n",
    "    \n",
    "6. preprocesing data: does order matter (DC offset -> filtfilt -> baseline correct); what else needed?\n"
   ]
  },
  {
   "cell_type": "markdown",
   "metadata": {},
   "source": [
    "compute C3-C4, C4-C3, or diff with Cz, then bandpass 7-30Hz\n",
    "take the log of the power (normally distributed)\n",
    "\n",
    "diff more distinct in freq space\n",
    "\n",
    "EOG artifact:\n",
    "\n",
    "ICA (http://www.cogsci.ucsd.edu/academicPubs/igorodni/eog-filtering.pdf)\n",
    "\n",
    "subtract EOG from EEG? **find code**"
   ]
  },
  {
   "cell_type": "markdown",
   "metadata": {},
   "source": [
    "## Questions for check point 2\n",
    "\n",
    "1. accuracy not good... problem with approach?\n",
    "2. data augmentation? \n",
    "    \n",
    "    \"deep convolutional generative adversarial network (DCGAN) provided better augmentation performance than traditional DA methods: geometric transformation (GT), autoencoder (AE), and variational autoencoder (VAE)\"\n",
    "    \n",
    "    Is CSP a kind of data augmentation? no, but generate better features\n",
    "    \n",
    "    Worth trying? time domain: high pass + ICA (remove EOG) + CSP (augmentation)+ 1DConv + max pooling (feature extraction) + LSTM (sequential learning)\n",
    "    \n",
    "    try CSP with top 3 filters"
   ]
  },
  {
   "cell_type": "markdown",
   "metadata": {},
   "source": [
    "Try on 64 channel set\n",
    "\n",
    "Run model only on EOG to make sure the model is not using eye moving data\n",
    "\n",
    "Try train on individual data"
   ]
  },
  {
   "cell_type": "code",
   "execution_count": null,
   "metadata": {},
   "outputs": [],
   "source": []
  },
  {
   "cell_type": "code",
   "execution_count": null,
   "metadata": {},
   "outputs": [],
   "source": []
  },
  {
   "cell_type": "code",
   "execution_count": null,
   "metadata": {},
   "outputs": [],
   "source": []
  },
  {
   "cell_type": "code",
   "execution_count": null,
   "metadata": {},
   "outputs": [],
   "source": []
  },
  {
   "cell_type": "code",
   "execution_count": null,
   "metadata": {},
   "outputs": [],
   "source": []
  }
 ],
 "metadata": {
  "kernelspec": {
   "display_name": "Python 3",
   "language": "python",
   "name": "python3"
  },
  "language_info": {
   "codemirror_mode": {
    "name": "ipython",
    "version": 3
   },
   "file_extension": ".py",
   "mimetype": "text/x-python",
   "name": "python",
   "nbconvert_exporter": "python",
   "pygments_lexer": "ipython3",
   "version": "3.7.6"
  }
 },
 "nbformat": 4,
 "nbformat_minor": 4
}
