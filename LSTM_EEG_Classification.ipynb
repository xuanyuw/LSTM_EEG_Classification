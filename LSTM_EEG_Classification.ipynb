{
 "cells": [
  {
   "cell_type": "markdown",
   "metadata": {},
   "source": [
    "# Start of actual analysis\n",
    "\n",
    "Previous Paper: https://pubmed.ncbi.nlm.nih.gov/30334800/ \n",
    "\n",
    "used similar dataset, LSTM + 1d-AX + softmax\n",
    "\n",
    "1d-AX: kinda like windowed mean in A2\n",
    "\n",
    "\n",
    "\n",
    "Hybrid NN in time domain: https://www.biorxiv.org/content/10.1101/2020.09.20.305300v1.full"
   ]
  },
  {
   "cell_type": "code",
   "execution_count": 2,
   "metadata": {},
   "outputs": [],
   "source": [
    "# import packages\n",
    "import biosig\n",
    "import json\n",
    "import os\n",
    "import pandas as pd\n",
    "import numpy as np\n",
    "import matplotlib.pyplot as plt\n",
    "import seaborn as sn\n",
    "from scipy.signal import butter, sosfiltfilt, sosfreqz \n",
    "\n",
    "\n",
    "import scipy.io\n",
    "from keras.models import Sequential\n",
    "from keras.layers import Dense, Dropout, Activation, LSTM, Conv1D\n",
    "from keras.optimizers import SGD, Nadam, Adam, RMSprop\n",
    "from keras.metrics import Precision, Recall\n",
    "\n",
    "from sklearn import preprocessing\n",
    "from sklearn.model_selection import train_test_split\n",
    "from sklearn.model_selection import GridSearchCV\n",
    "from sklearn.pipeline import Pipeline\n",
    "from sklearn.discriminant_analysis import LinearDiscriminantAnalysis\n",
    "from sklearn.model_selection import ShuffleSplit, cross_val_score\n",
    "from sklearn.decomposition import FastICA\n",
    "from sklearn.metrics import confusion_matrix, classification_report\n",
    "\n",
    "import mne\n",
    "from mne.decoding import CSP\n",
    "from mne import create_info\n",
    "\n",
    "from tqdm import tqdm"
   ]
  },
  {
   "cell_type": "code",
   "execution_count": 25,
   "metadata": {},
   "outputs": [],
   "source": [
    "# Define variables here\n",
    "#Xuanyu\n",
    "data_path = './BCICIV_2b_gdf/'#the folder where all raw data files live\n",
    "\n",
    "#Can\n",
    "#data_path = '/Users/canliu/COGS 189/Project'\n",
    "\n",
    "train_portion = 0.7 #the portion of training data among all the raw data files\n",
    "\n",
    "# from the data description document\n",
    "event_start = 4 #the start time point (sec) of imagery for each trial\n",
    "event_end = 7 #the end time point (sec) of imagery for each trial\n",
    "bsl_start = 0 #the start time point (sec) of baseline for each trial\n",
    "bsl_end = 2 #the end time point (sec) of baseline for each trial\n",
    "\n",
    "files = [os.path.join(data_path, f) for f in os.listdir(data_path) if os.path.isfile(os.path.join(data_path, f))]\n",
    "train_files = sorted([f for f in files if f[-7:-4] in ['01T', '02T']])\n",
    "# for testing purposes only\n",
    "#train_files = files[:5]"
   ]
  },
  {
   "cell_type": "markdown",
   "metadata": {},
   "source": [
    "## Define functions"
   ]
  },
  {
   "cell_type": "code",
   "execution_count": 20,
   "metadata": {},
   "outputs": [],
   "source": [
    "def time_ind_conversion(sr, t):\n",
    "    \"\"\"\n",
    "    Convert time in second to the index in the signal array\n",
    "    \"\"\"\n",
    "    return int(np.round(sr*t))\n",
    "\n",
    "\n",
    "# from A1\n",
    "def butter_bandpass(lowcut, highcut, fs, order = 2):\n",
    "        nyq = 0.5 * fs\n",
    "        low = lowcut / nyq\n",
    "        high = highcut / nyq\n",
    "        sos = butter(order, [low, high], analog = False, btype = 'band', output = 'sos')\n",
    "        return sos\n",
    "\n",
    "def butter_bandpass_filter(data, lowcut, highcut, fs, order = 2):\n",
    "        sos = butter_bandpass(lowcut, highcut, fs, order = order)\n",
    "        y = sosfiltfilt(sos, data)\n",
    "        return y\n",
    "\n",
    "def populate_filt_data(files, event_start, event_end, bsl_start, bsl_end, lowcut=7, highcut=30):\n",
    "    \"\"\"\n",
    "    populate and pre-process data for training the model\n",
    "    \n",
    "    \"It is noted in the literature that while performing any motor imagery tasks, \n",
    "    two major frequency band of EEG spectrum i.e mu (7-12 Hz) as well as beta (12-30 Hz) \n",
    "    bands are actively involved.\"\n",
    "    \n",
    "    input:\n",
    "        files: list of file paths to the raw data files\n",
    "        event_start: the start time point (sec) of imagery for each trial\n",
    "        event_end: the end time point (sec) of imagery for each trial\n",
    "        bsl_start: the start time point (sec) of baseline for each trial\n",
    "        bsl_end: the end time point (sec) of baseline for each trial\n",
    "        lowcut: lower end of the bandpass filter, default=7Hz\n",
    "        highcut: higher end of the bandpass filter, default=30Hz\n",
    "        \n",
    "    output:\n",
    "        data: list of eeg signal segments for each imagery \n",
    "        label: list of labels for each segment\n",
    "    \n",
    "    \"\"\"\n",
    "    labels = []\n",
    "    data = []\n",
    "    for i in files:\n",
    "        HDR = json.loads(biosig.header(i))\n",
    "        sr  = HDR['Samplingrate']\n",
    "        events = pd.json_normalize(HDR['EVENT'])\n",
    "        mi_events = events[events.Description.apply(lambda x: 'class' in x)]\n",
    "        all_data = biosig.data(i).T\n",
    "        \n",
    "        for j in mi_events.index:\n",
    "            t_start = time_ind_conversion(sr, events.POS[j-1]+event_start)\n",
    "            t_end = time_ind_conversion(sr, events.POS[j-1]+event_end)\n",
    "            #only use the EEG channels to prevent the model learning EOG patterns\n",
    "            seg = all_data[:3, t_start:t_end]\n",
    "            #calculate baseline and trial mean\n",
    "            t_bsl_start = time_ind_conversion(sr, events.POS[j-1]+bsl_start)\n",
    "            t_bsl_end = time_ind_conversion(sr, events.POS[j-1]+bsl_end)\n",
    "            bsl_sig = all_data[:3, t_bsl_start:t_bsl_end]\n",
    "            bsl = np.nanmean(bsl_sig, 1)\n",
    "            trial_mean = np.nanmean(seg, 1)\n",
    "            #preprocess the data by subtract baseline and the trial mean\n",
    "            seg_after = butter_bandpass_filter((seg.T - bsl - trial_mean).T, lowcut=lowcut, highcut=highcut, fs=sr)\n",
    "            if np.isnan(seg_after).sum()==0:\n",
    "                data.append(seg_after)\n",
    "                labels.append(mi_events.Description[j])\n",
    "    return data, labels\n",
    "\n",
    "def reshape_data(data, label):\n",
    "    \"\"\"\n",
    "    reshape the data to the shape: n_samples * time * channels\n",
    "    binarize the labels for the model\n",
    "    \"\"\"\n",
    "    x = np.dstack(data)\n",
    "    x = x.reshape(x.shape[2], x.shape[1], x.shape[0])\n",
    "    lb = preprocessing.LabelBinarizer()\n",
    "    y = lb.fit_transform(label)\n",
    "    return x, y\n",
    "\n",
    "def create_model(filters=256, pool_size=4, units=64, dropout=0.1, optim='adam'):\n",
    "    model=Sequential()\n",
    "    model.add(Conv1D(filters=filters, kernel_size=5, activation = 'relu', input_shape = (750, 3)))\n",
    "    model.add(LSTM(units))\n",
    "    model.add(Dropout(dropout))\n",
    "    model.add(Dense(2, activation='softmax'))\n",
    "    model.compile(loss = 'sparse_categorical_crossentropy', optimizer=optim, metrics=['accuracy'])\n",
    "    return model\n",
    "\n"
   ]
  },
  {
   "cell_type": "markdown",
   "metadata": {},
   "source": [
    "## Build the model"
   ]
  },
  {
   "cell_type": "markdown",
   "metadata": {},
   "source": [
    "### high pass + ICA (remove EOG) + CSP (augmentation)+ 1DConv(feature extraction) + LSTM (sequential learning)"
   ]
  },
  {
   "cell_type": "code",
   "execution_count": 50,
   "metadata": {
    "scrolled": true
   },
   "outputs": [],
   "source": [
    "# Load data after band-pass filter\n",
    "train_data, train_label = populate_filt_data(train_files, event_start, event_end, bsl_start, bsl_end)\n",
    "data, label = reshape_data(train_data, train_label)\n",
    "train_x, test_x, train_y, test_y = train_test_split(data, label, test_size=0.2, random_state=42)\n",
    "\n",
    "# TODO: Skip ICA for now because it didn't work\n",
    "\n",
    "# CSP transformation\n",
    "csp = CSP(rank={'eeg':3}, transform_into = 'csp_space')\n",
    "x_new = csp.fit_transform(train_x.reshape(train_x.shape[0], train_x.shape[2], train_x.shape[1]), \n",
    "                          np.squeeze(train_y)).reshape(train_x.shape[0], train_x.shape[1], train_x.shape[2])\n",
    "x_new_test = csp.fit_transform(test_x.reshape(test_x.shape[0], test_x.shape[2], test_x.shape[1]),\n",
    "                               np.squeeze(test_y)).reshape(test_x.shape[0], test_x.shape[1], test_x.shape[2])\n",
    "\n",
    "# plot top CSP filters here"
   ]
  },
  {
   "cell_type": "code",
   "execution_count": 51,
   "metadata": {
    "scrolled": true
   },
   "outputs": [
    {
     "name": "stdout",
     "output_type": "stream",
     "text": [
      "Epoch 1/20\n",
      "36/36 [==============================] - 28s 716ms/step - loss: 0.6941 - accuracy: 0.5436\n",
      "Epoch 2/20\n",
      "36/36 [==============================] - 26s 711ms/step - loss: 0.6925 - accuracy: 0.5205\n",
      "Epoch 3/20\n",
      "36/36 [==============================] - 25s 684ms/step - loss: 0.6849 - accuracy: 0.5338\n",
      "Epoch 4/20\n",
      "36/36 [==============================] - 25s 703ms/step - loss: 0.6772 - accuracy: 0.5660\n",
      "Epoch 5/20\n",
      "36/36 [==============================] - 27s 743ms/step - loss: 0.6697 - accuracy: 0.5971\n",
      "Epoch 6/20\n",
      "36/36 [==============================] - 25s 694ms/step - loss: 0.6677 - accuracy: 0.5907\n",
      "Epoch 7/20\n",
      "36/36 [==============================] - 25s 688ms/step - loss: 0.6520 - accuracy: 0.6202\n",
      "Epoch 8/20\n",
      "36/36 [==============================] - 25s 688ms/step - loss: 0.6626 - accuracy: 0.6026\n",
      "Epoch 9/20\n",
      "36/36 [==============================] - 25s 686ms/step - loss: 0.6429 - accuracy: 0.6113\n",
      "Epoch 10/20\n",
      "36/36 [==============================] - 25s 688ms/step - loss: 0.6296 - accuracy: 0.6546\n",
      "Epoch 11/20\n",
      "36/36 [==============================] - 25s 691ms/step - loss: 0.6330 - accuracy: 0.6377\n",
      "Epoch 12/20\n",
      "36/36 [==============================] - 25s 689ms/step - loss: 0.6308 - accuracy: 0.6566\n",
      "Epoch 13/20\n",
      "36/36 [==============================] - 25s 688ms/step - loss: 0.6127 - accuracy: 0.6560\n",
      "Epoch 14/20\n",
      "36/36 [==============================] - 25s 698ms/step - loss: 0.5983 - accuracy: 0.6739\n",
      "Epoch 15/20\n",
      "36/36 [==============================] - 25s 684ms/step - loss: 0.5783 - accuracy: 0.7030\n",
      "Epoch 16/20\n",
      "36/36 [==============================] - 25s 681ms/step - loss: 0.5765 - accuracy: 0.6883\n",
      "Epoch 17/20\n",
      "36/36 [==============================] - 25s 686ms/step - loss: 0.5462 - accuracy: 0.7267\n",
      "Epoch 18/20\n",
      "36/36 [==============================] - 25s 691ms/step - loss: 0.5180 - accuracy: 0.7462\n",
      "Epoch 19/20\n",
      "36/36 [==============================] - 25s 693ms/step - loss: 0.5161 - accuracy: 0.7444\n",
      "Epoch 20/20\n",
      "36/36 [==============================] - 25s 694ms/step - loss: 0.5009 - accuracy: 0.7498\n",
      "14/14 [==============================] - 2s 131ms/step - loss: 0.8942 - accuracy: 0.5056\n"
     ]
    },
    {
     "data": {
      "text/plain": [
       "[0.8942028880119324, 0.5055928230285645]"
      ]
     },
     "execution_count": 51,
     "metadata": {},
     "output_type": "execute_result"
    }
   ],
   "source": [
    "# build model here\n",
    "model = create_model()\n",
    "model.fit(x_new, train_y, epochs=20, batch_size=50)\n",
    "model.evaluate(x_new_test, test_y)"
   ]
  },
  {
   "cell_type": "code",
   "execution_count": 52,
   "metadata": {},
   "outputs": [
    {
     "name": "stderr",
     "output_type": "stream",
     "text": [
      "/Users/xuanyuwu/opt/anaconda3/lib/python3.7/site-packages/tensorflow/python/keras/engine/sequential.py:450: UserWarning: `model.predict_classes()` is deprecated and will be removed after 2021-01-01. Please use instead:* `np.argmax(model.predict(x), axis=-1)`,   if your model does multi-class classification   (e.g. if it uses a `softmax` last-layer activation).* `(model.predict(x) > 0.5).astype(\"int32\")`,   if your model does binary classification   (e.g. if it uses a `sigmoid` last-layer activation).\n",
      "  warnings.warn('`model.predict_classes()` is deprecated and '\n"
     ]
    },
    {
     "name": "stdout",
     "output_type": "stream",
     "text": [
      "WARNING:tensorflow:5 out of the last 13 calls to <function Model.make_predict_function.<locals>.predict_function at 0x7ffe2ecd74d0> triggered tf.function retracing. Tracing is expensive and the excessive number of tracings could be due to (1) creating @tf.function repeatedly in a loop, (2) passing tensors with different shapes, (3) passing Python objects instead of tensors. For (1), please define your @tf.function outside of the loop. For (2), @tf.function has experimental_relax_shapes=True option that relaxes argument shapes that can avoid unnecessary retracing. For (3), please refer to https://www.tensorflow.org/guide/function#controlling_retracing and https://www.tensorflow.org/api_docs/python/tf/function for  more details.\n"
     ]
    },
    {
     "data": {
      "text/plain": [
       "[Text(33.0, 0.5, 'Predicted'), Text(0.5, 15.0, 'Actual')]"
      ]
     },
     "execution_count": 52,
     "metadata": {},
     "output_type": "execute_result"
    },
    {
     "data": {
      "image/png": "[encoded data removed]",
      "text/plain": [
       "<Figure size 432x288 with 1 Axes>"
      ]
     },
     "metadata": {
      "needs_background": "light"
     },
     "output_type": "display_data"
    }
   ],
   "source": [
    "y_pred = model.predict_classes(x_new_test)\n",
    "cm = confusion_matrix(test_y, np.rint(y_pred))\n",
    "ax = sn.heatmap(cm, annot=True, fmt='d', cbar=False, xticklabels=['Left', 'Right'], yticklabels=['Left', 'Right'])\n",
    "ax.set(xlabel='Actual', ylabel='Predicted')"
   ]
  },
  {
   "cell_type": "code",
   "execution_count": 53,
   "metadata": {},
   "outputs": [
    {
     "name": "stdout",
     "output_type": "stream",
     "text": [
      "              precision    recall  f1-score   support\n",
      "\n",
      "           0       0.53      0.51      0.52       235\n",
      "           1       0.48      0.50      0.49       212\n",
      "\n",
      "    accuracy                           0.51       447\n",
      "   macro avg       0.51      0.51      0.51       447\n",
      "weighted avg       0.51      0.51      0.51       447\n",
      "\n"
     ]
    }
   ],
   "source": [
    "print(classification_report(test_y, np.rint(y_pred)))"
   ]
  },
  {
   "cell_type": "markdown",
   "metadata": {},
   "source": [
    "### Train on each individual"
   ]
  },
  {
   "cell_type": "code",
   "execution_count": 59,
   "metadata": {},
   "outputs": [],
   "source": [
    "def training_pipeline(train_data, train_label, verbose=1):\n",
    "    data, label = reshape_data(train_data, train_label)\n",
    "    train_x, test_x, train_y, test_y = train_test_split(data, label, test_size=0.3, random_state=42)\n",
    "\n",
    "    # TODO: Skip ICA for now because it didn't work\n",
    "\n",
    "    # CSP transformation\n",
    "    csp = CSP(rank={'eeg':3}, transform_into = 'csp_space')\n",
    "    x_new = csp.fit_transform(train_x.reshape(train_x.shape[0], train_x.shape[2], train_x.shape[1]), \n",
    "                              np.squeeze(train_y)).reshape(train_x.shape[0], train_x.shape[1], train_x.shape[2])\n",
    "    x_new_test = csp.fit_transform(test_x.reshape(test_x.shape[0], test_x.shape[2], test_x.shape[1]),\n",
    "                                   np.squeeze(test_y)).reshape(test_x.shape[0], test_x.shape[1], test_x.shape[2])\n",
    "    model = create_model()\n",
    "    model.fit(x_new, train_y, epochs=10, batch_size=20, verbose=verbose)\n",
    "    y_pred = model.predict_classes(x_new_test)\n",
    "    eval_result = classification_report(test_y, np.rint(y_pred), output_dict=True)\n",
    "    return eval_result\n"
   ]
  },
  {
   "cell_type": "code",
   "execution_count": 60,
   "metadata": {},
   "outputs": [
    {
     "name": "stderr",
     "output_type": "stream",
     "text": [
      "\r",
      "  0%|          | 0/9 [00:00<?, ?it/s]"
     ]
    },
    {
     "name": "stdout",
     "output_type": "stream",
     "text": [
      "Training sample #0\n"
     ]
    },
    {
     "name": "stderr",
     "output_type": "stream",
     "text": [
      "\r",
      " 11%|█         | 1/9 [00:45<06:02, 45.29s/it]"
     ]
    },
    {
     "name": "stdout",
     "output_type": "stream",
     "text": [
      "Training sample #1\n"
     ]
    },
    {
     "name": "stderr",
     "output_type": "stream",
     "text": [
      "\r",
      " 22%|██▏       | 2/9 [01:30<05:16, 45.22s/it]"
     ]
    },
    {
     "name": "stdout",
     "output_type": "stream",
     "text": [
      "Training sample #2\n"
     ]
    },
    {
     "name": "stderr",
     "output_type": "stream",
     "text": [
      "\r",
      " 33%|███▎      | 3/9 [02:15<04:31, 45.20s/it]"
     ]
    },
    {
     "name": "stdout",
     "output_type": "stream",
     "text": [
      "Training sample #3\n",
      "WARNING:tensorflow:5 out of the last 24 calls to <function Model.make_predict_function.<locals>.predict_function at 0x7ffe2ece09e0> triggered tf.function retracing. Tracing is expensive and the excessive number of tracings could be due to (1) creating @tf.function repeatedly in a loop, (2) passing tensors with different shapes, (3) passing Python objects instead of tensors. For (1), please define your @tf.function outside of the loop. For (2), @tf.function has experimental_relax_shapes=True option that relaxes argument shapes that can avoid unnecessary retracing. For (3), please refer to https://www.tensorflow.org/guide/function#controlling_retracing and https://www.tensorflow.org/api_docs/python/tf/function for  more details.\n"
     ]
    },
    {
     "name": "stderr",
     "output_type": "stream",
     "text": [
      "\r",
      " 44%|████▍     | 4/9 [02:53<03:35, 43.14s/it]"
     ]
    },
    {
     "name": "stdout",
     "output_type": "stream",
     "text": [
      "Training sample #4\n",
      "WARNING:tensorflow:5 out of the last 13 calls to <function Model.make_predict_function.<locals>.predict_function at 0x7ffe3384a830> triggered tf.function retracing. Tracing is expensive and the excessive number of tracings could be due to (1) creating @tf.function repeatedly in a loop, (2) passing tensors with different shapes, (3) passing Python objects instead of tensors. For (1), please define your @tf.function outside of the loop. For (2), @tf.function has experimental_relax_shapes=True option that relaxes argument shapes that can avoid unnecessary retracing. For (3), please refer to https://www.tensorflow.org/guide/function#controlling_retracing and https://www.tensorflow.org/api_docs/python/tf/function for  more details.\n"
     ]
    },
    {
     "name": "stderr",
     "output_type": "stream",
     "text": [
      "\r",
      " 56%|█████▌    | 5/9 [03:42<02:59, 44.93s/it]"
     ]
    },
    {
     "name": "stdout",
     "output_type": "stream",
     "text": [
      "Training sample #5\n",
      "WARNING:tensorflow:5 out of the last 13 calls to <function Model.make_predict_function.<locals>.predict_function at 0x7ffe364d7560> triggered tf.function retracing. Tracing is expensive and the excessive number of tracings could be due to (1) creating @tf.function repeatedly in a loop, (2) passing tensors with different shapes, (3) passing Python objects instead of tensors. For (1), please define your @tf.function outside of the loop. For (2), @tf.function has experimental_relax_shapes=True option that relaxes argument shapes that can avoid unnecessary retracing. For (3), please refer to https://www.tensorflow.org/guide/function#controlling_retracing and https://www.tensorflow.org/api_docs/python/tf/function for  more details.\n"
     ]
    },
    {
     "name": "stderr",
     "output_type": "stream",
     "text": [
      "\r",
      " 67%|██████▋   | 6/9 [04:27<02:14, 44.83s/it]"
     ]
    },
    {
     "name": "stdout",
     "output_type": "stream",
     "text": [
      "Training sample #6\n",
      "WARNING:tensorflow:5 out of the last 13 calls to <function Model.make_predict_function.<locals>.predict_function at 0x7ffe7a069f80> triggered tf.function retracing. Tracing is expensive and the excessive number of tracings could be due to (1) creating @tf.function repeatedly in a loop, (2) passing tensors with different shapes, (3) passing Python objects instead of tensors. For (1), please define your @tf.function outside of the loop. For (2), @tf.function has experimental_relax_shapes=True option that relaxes argument shapes that can avoid unnecessary retracing. For (3), please refer to https://www.tensorflow.org/guide/function#controlling_retracing and https://www.tensorflow.org/api_docs/python/tf/function for  more details.\n"
     ]
    },
    {
     "name": "stderr",
     "output_type": "stream",
     "text": [
      "\r",
      " 78%|███████▊  | 7/9 [05:12<01:29, 44.99s/it]"
     ]
    },
    {
     "name": "stdout",
     "output_type": "stream",
     "text": [
      "Training sample #7\n",
      "WARNING:tensorflow:5 out of the last 13 calls to <function Model.make_predict_function.<locals>.predict_function at 0x7ffe2edf13b0> triggered tf.function retracing. Tracing is expensive and the excessive number of tracings could be due to (1) creating @tf.function repeatedly in a loop, (2) passing tensors with different shapes, (3) passing Python objects instead of tensors. For (1), please define your @tf.function outside of the loop. For (2), @tf.function has experimental_relax_shapes=True option that relaxes argument shapes that can avoid unnecessary retracing. For (3), please refer to https://www.tensorflow.org/guide/function#controlling_retracing and https://www.tensorflow.org/api_docs/python/tf/function for  more details.\n"
     ]
    },
    {
     "name": "stderr",
     "output_type": "stream",
     "text": [
      "\r",
      " 89%|████████▉ | 8/9 [06:03<00:46, 46.75s/it]"
     ]
    },
    {
     "name": "stdout",
     "output_type": "stream",
     "text": [
      "Training sample #8\n",
      "WARNING:tensorflow:5 out of the last 13 calls to <function Model.make_predict_function.<locals>.predict_function at 0x7ffe34876560> triggered tf.function retracing. Tracing is expensive and the excessive number of tracings could be due to (1) creating @tf.function repeatedly in a loop, (2) passing tensors with different shapes, (3) passing Python objects instead of tensors. For (1), please define your @tf.function outside of the loop. For (2), @tf.function has experimental_relax_shapes=True option that relaxes argument shapes that can avoid unnecessary retracing. For (3), please refer to https://www.tensorflow.org/guide/function#controlling_retracing and https://www.tensorflow.org/api_docs/python/tf/function for  more details.\n"
     ]
    },
    {
     "name": "stderr",
     "output_type": "stream",
     "text": [
      "100%|██████████| 9/9 [06:48<00:00, 45.43s/it]\n"
     ]
    }
   ],
   "source": [
    "results = []\n",
    "mne.set_log_level('warning')\n",
    "for i in tqdm(range(int(len(train_files)/2))):\n",
    "    print('Training sample #%d'%i)\n",
    "    indiv_train = [train_files[i*2], train_files[i*2+1]]\n",
    "    train_data, train_label = populate_filt_data(indiv_train, event_start, event_end, bsl_start, bsl_end)\n",
    "    eval_result = training_pipeline(train_data, train_label, verbose=0)\n",
    "    results.append(eval_result)"
   ]
  },
  {
   "cell_type": "code",
   "execution_count": 64,
   "metadata": {},
   "outputs": [
    {
     "data": {
      "text/plain": [
       "[{'0': {'precision': 0.5833333333333334,\n",
       "   'recall': 0.34146341463414637,\n",
       "   'f1-score': 0.43076923076923085,\n",
       "   'support': 41},\n",
       "  '1': {'precision': 0.4375,\n",
       "   'recall': 0.6774193548387096,\n",
       "   'f1-score': 0.5316455696202531,\n",
       "   'support': 31},\n",
       "  'accuracy': 0.4861111111111111,\n",
       "  'macro avg': {'precision': 0.5104166666666667,\n",
       "   'recall': 0.509441384736428,\n",
       "   'f1-score': 0.48120740019474195,\n",
       "   'support': 72},\n",
       "  'weighted avg': {'precision': 0.5205439814814815,\n",
       "   'recall': 0.4861111111111111,\n",
       "   'f1-score': 0.4742020988856432,\n",
       "   'support': 72}},\n",
       " {'0': {'precision': 0.5757575757575758,\n",
       "   'recall': 0.5,\n",
       "   'f1-score': 0.5352112676056339,\n",
       "   'support': 38},\n",
       "  '1': {'precision': 0.5128205128205128,\n",
       "   'recall': 0.5882352941176471,\n",
       "   'f1-score': 0.547945205479452,\n",
       "   'support': 34},\n",
       "  'accuracy': 0.5416666666666666,\n",
       "  'macro avg': {'precision': 0.5442890442890442,\n",
       "   'recall': 0.5441176470588236,\n",
       "   'f1-score': 0.541578236542543,\n",
       "   'support': 72},\n",
       "  'weighted avg': {'precision': 0.546037296037296,\n",
       "   'recall': 0.5416666666666666,\n",
       "   'f1-score': 0.541224516046048,\n",
       "   'support': 72}},\n",
       " {'0': {'precision': 0.475,\n",
       "   'recall': 0.5588235294117647,\n",
       "   'f1-score': 0.5135135135135136,\n",
       "   'support': 34},\n",
       "  '1': {'precision': 0.53125,\n",
       "   'recall': 0.4473684210526316,\n",
       "   'f1-score': 0.4857142857142857,\n",
       "   'support': 38},\n",
       "  'accuracy': 0.5,\n",
       "  'macro avg': {'precision': 0.503125,\n",
       "   'recall': 0.5030959752321982,\n",
       "   'f1-score': 0.4996138996138997,\n",
       "   'support': 72},\n",
       "  'weighted avg': {'precision': 0.5046875,\n",
       "   'recall': 0.5,\n",
       "   'f1-score': 0.49884169884169893,\n",
       "   'support': 72}},\n",
       " {'0': {'precision': 0.5106382978723404,\n",
       "   'recall': 0.631578947368421,\n",
       "   'f1-score': 0.5647058823529411,\n",
       "   'support': 38},\n",
       "  '1': {'precision': 0.5483870967741935,\n",
       "   'recall': 0.425,\n",
       "   'f1-score': 0.47887323943661964,\n",
       "   'support': 40},\n",
       "  'accuracy': 0.5256410256410257,\n",
       "  'macro avg': {'precision': 0.5295126973232669,\n",
       "   'recall': 0.5282894736842105,\n",
       "   'f1-score': 0.5217895608947803,\n",
       "   'support': 78},\n",
       "  'weighted avg': {'precision': 0.5299966562835471,\n",
       "   'recall': 0.5256410256410257,\n",
       "   'f1-score': 0.5206891423958532,\n",
       "   'support': 78}},\n",
       " {'0': {'precision': 0.47619047619047616,\n",
       "   'recall': 0.5555555555555556,\n",
       "   'f1-score': 0.5128205128205129,\n",
       "   'support': 36},\n",
       "  '1': {'precision': 0.5555555555555556,\n",
       "   'recall': 0.47619047619047616,\n",
       "   'f1-score': 0.5128205128205129,\n",
       "   'support': 42},\n",
       "  'accuracy': 0.5128205128205128,\n",
       "  'macro avg': {'precision': 0.5158730158730158,\n",
       "   'recall': 0.5158730158730158,\n",
       "   'f1-score': 0.5128205128205129,\n",
       "   'support': 78},\n",
       "  'weighted avg': {'precision': 0.518925518925519,\n",
       "   'recall': 0.5128205128205128,\n",
       "   'f1-score': 0.5128205128205128,\n",
       "   'support': 78}},\n",
       " {'0': {'precision': 0.5,\n",
       "   'recall': 0.5714285714285714,\n",
       "   'f1-score': 0.5333333333333333,\n",
       "   'support': 35},\n",
       "  '1': {'precision': 0.53125,\n",
       "   'recall': 0.4594594594594595,\n",
       "   'f1-score': 0.4927536231884059,\n",
       "   'support': 37},\n",
       "  'accuracy': 0.5138888888888888,\n",
       "  'macro avg': {'precision': 0.515625,\n",
       "   'recall': 0.5154440154440154,\n",
       "   'f1-score': 0.5130434782608696,\n",
       "   'support': 72},\n",
       "  'weighted avg': {'precision': 0.5160590277777778,\n",
       "   'recall': 0.5138888888888888,\n",
       "   'f1-score': 0.5124798711755234,\n",
       "   'support': 72}},\n",
       " {'0': {'precision': 0.6086956521739131,\n",
       "   'recall': 0.358974358974359,\n",
       "   'f1-score': 0.45161290322580644,\n",
       "   'support': 39},\n",
       "  '1': {'precision': 0.4897959183673469,\n",
       "   'recall': 0.7272727272727273,\n",
       "   'f1-score': 0.5853658536585367,\n",
       "   'support': 33},\n",
       "  'accuracy': 0.5277777777777778,\n",
       "  'macro avg': {'precision': 0.5492457852706301,\n",
       "   'recall': 0.5431235431235432,\n",
       "   'f1-score': 0.5184893784421716,\n",
       "   'support': 72},\n",
       "  'weighted avg': {'precision': 0.5541999408459035,\n",
       "   'recall': 0.5277777777777778,\n",
       "   'f1-score': 0.5129163388408079,\n",
       "   'support': 72}},\n",
       " {'0': {'precision': 0.48484848484848486,\n",
       "   'recall': 0.37209302325581395,\n",
       "   'f1-score': 0.4210526315789474,\n",
       "   'support': 43},\n",
       "  '1': {'precision': 0.47058823529411764,\n",
       "   'recall': 0.5853658536585366,\n",
       "   'f1-score': 0.5217391304347826,\n",
       "   'support': 41},\n",
       "  'accuracy': 0.47619047619047616,\n",
       "  'macro avg': {'precision': 0.47771836007130125,\n",
       "   'recall': 0.47872943845717525,\n",
       "   'f1-score': 0.471395881006865,\n",
       "   'support': 84},\n",
       "  'weighted avg': {'precision': 0.47788812494694843,\n",
       "   'recall': 0.47619047619047616,\n",
       "   'f1-score': 0.4701972322109622,\n",
       "   'support': 84}},\n",
       " {'0': {'precision': 0.42105263157894735,\n",
       "   'recall': 0.47058823529411764,\n",
       "   'f1-score': 0.4444444444444444,\n",
       "   'support': 34},\n",
       "  '1': {'precision': 0.47058823529411764,\n",
       "   'recall': 0.42105263157894735,\n",
       "   'f1-score': 0.4444444444444444,\n",
       "   'support': 38},\n",
       "  'accuracy': 0.4444444444444444,\n",
       "  'macro avg': {'precision': 0.4458204334365325,\n",
       "   'recall': 0.4458204334365325,\n",
       "   'f1-score': 0.4444444444444444,\n",
       "   'support': 72},\n",
       "  'weighted avg': {'precision': 0.4471964224286206,\n",
       "   'recall': 0.4444444444444444,\n",
       "   'f1-score': 0.4444444444444444,\n",
       "   'support': 72}}]"
      ]
     },
     "execution_count": 64,
     "metadata": {},
     "output_type": "execute_result"
    }
   ],
   "source": [
    "results"
   ]
  },
  {
   "cell_type": "code",
   "execution_count": 67,
   "metadata": {},
   "outputs": [],
   "source": [
    "all_avg_precision_lstm = [x['weighted avg']['precision'] for x in results]\n",
    "all_avg_recall_lstm = [x['weighted avg']['recall'] for x in results]\n",
    "all_accuracy_lstm = [x['accuracy']for x in results]"
   ]
  },
  {
   "cell_type": "code",
   "execution_count": 68,
   "metadata": {},
   "outputs": [
    {
     "data": {
      "text/plain": [
       "[0.4861111111111111,\n",
       " 0.5416666666666666,\n",
       " 0.5,\n",
       " 0.5256410256410257,\n",
       " 0.5128205128205128,\n",
       " 0.5138888888888888,\n",
       " 0.5277777777777778,\n",
       " 0.47619047619047616,\n",
       " 0.4444444444444444]"
      ]
     },
     "execution_count": 68,
     "metadata": {},
     "output_type": "execute_result"
    }
   ],
   "source": [
    "all_accuracy_lstm"
   ]
  },
  {
   "cell_type": "code",
   "execution_count": 69,
   "metadata": {
    "scrolled": true
   },
   "outputs": [
    {
     "name": "stdout",
     "output_type": "stream",
     "text": [
      "mean precision = 0.512837\n",
      "mean recall = 0.503171\n",
      "mean accuracy = 0.503171\n"
     ]
    }
   ],
   "source": [
    "print('mean precision = %f'%np.mean(all_avg_precision_lstm))\n",
    "print('mean recall = %f'%np.mean(all_avg_recall_lstm))\n",
    "print('mean accuracy = %f'%np.mean(all_accuracy_lstm))"
   ]
  },
  {
   "cell_type": "code",
   "execution_count": 80,
   "metadata": {},
   "outputs": [
    {
     "name": "stdout",
     "output_type": "stream",
     "text": [
      "std precision = 0.031289\n",
      "std recall = 0.028437\n",
      "std accuracy = 0.028437\n"
     ]
    }
   ],
   "source": [
    "print('std precision = %f'%np.std(all_avg_precision_lstm))\n",
    "print('std recall = %f'%np.std(all_avg_recall_lstm))\n",
    "print('std accuracy = %f'%np.std(all_accuracy_lstm))"
   ]
  },
  {
   "cell_type": "markdown",
   "metadata": {},
   "source": [
    "## CSP-LDA baseline model"
   ]
  },
  {
   "cell_type": "code",
   "execution_count": 73,
   "metadata": {
    "scrolled": true
   },
   "outputs": [
    {
     "name": "stderr",
     "output_type": "stream",
     "text": [
      "/Users/xuanyuwu/opt/anaconda3/lib/python3.7/site-packages/sklearn/utils/validation.py:760: DataConversionWarning: A column-vector y was passed when a 1d array was expected. Please change the shape of y to (n_samples, ), for example using ravel().\n",
      "  y = column_or_1d(y, warn=True)\n"
     ]
    },
    {
     "data": {
      "text/plain": [
       "0.4988814317673378"
      ]
     },
     "execution_count": 73,
     "metadata": {},
     "output_type": "execute_result"
    }
   ],
   "source": [
    "train_data, train_label = populate_filt_data(train_files, event_start, event_end, bsl_start, bsl_end)\n",
    "data, label = reshape_data(train_data, train_label)\n",
    "train_x, test_x, train_y, test_y = train_test_split(data, label, test_size=0.2, random_state=42)\n",
    "csp = CSP(n_components=4, rank={'eeg':3})\n",
    "x_new = csp.fit_transform(train_x.reshape(train_x.shape[0], train_x.shape[2], train_x.shape[1]), \n",
    "                          np.squeeze(train_y))\n",
    "x_new_test = csp.fit_transform(test_x.reshape(test_x.shape[0], test_x.shape[2], test_x.shape[1]),\n",
    "                               np.squeeze(test_y))\n",
    "lda = LinearDiscriminantAnalysis(solver = 'lsqr')\n",
    "lda.fit(x_new, train_y)\n",
    "lda.score(x_new_test, test_y)"
   ]
  },
  {
   "cell_type": "code",
   "execution_count": 74,
   "metadata": {},
   "outputs": [
    {
     "data": {
      "text/plain": [
       "[Text(33.0, 0.5, 'Predicted'), Text(0.5, 15.0, 'Actual')]"
      ]
     },
     "execution_count": 74,
     "metadata": {},
     "output_type": "execute_result"
    },
    {
     "data": {
      "image/png": "[encoded data removed]",
      "text/plain": [
       "<Figure size 432x288 with 1 Axes>"
      ]
     },
     "metadata": {
      "needs_background": "light"
     },
     "output_type": "display_data"
    }
   ],
   "source": [
    "y_pred = lda.predict(x_new_test)\n",
    "cm = confusion_matrix(test_y, np.rint(y_pred))\n",
    "ax = sn.heatmap(cm, annot=True, fmt='d', cbar=False, xticklabels=['Left', 'Right'], yticklabels=['Left', 'Right'])\n",
    "ax.set(xlabel='Actual', ylabel='Predicted')"
   ]
  },
  {
   "cell_type": "code",
   "execution_count": 75,
   "metadata": {},
   "outputs": [
    {
     "name": "stdout",
     "output_type": "stream",
     "text": [
      "              precision    recall  f1-score   support\n",
      "\n",
      "           0       0.54      0.31      0.39       235\n",
      "           1       0.48      0.71      0.57       212\n",
      "\n",
      "    accuracy                           0.50       447\n",
      "   macro avg       0.51      0.51      0.48       447\n",
      "weighted avg       0.51      0.50      0.48       447\n",
      "\n"
     ]
    }
   ],
   "source": [
    "print(classification_report(test_y, np.rint(y_pred)))"
   ]
  },
  {
   "cell_type": "markdown",
   "metadata": {},
   "source": [
    "### On each individual"
   ]
  },
  {
   "cell_type": "code",
   "execution_count": 76,
   "metadata": {},
   "outputs": [],
   "source": [
    "def csp_lda_pipeline(train_data, train_label):\n",
    "    data, label = reshape_data(train_data, train_label)\n",
    "    train_x, test_x, train_y, test_y = train_test_split(data, label, test_size=0.3, random_state=42)\n",
    "\n",
    "    csp = CSP(n_components=4, rank={'eeg':3})\n",
    "    x_new = csp.fit_transform(train_x.reshape(train_x.shape[0], train_x.shape[2], train_x.shape[1]), \n",
    "                              np.squeeze(train_y))\n",
    "    x_new_test = csp.fit_transform(test_x.reshape(test_x.shape[0], test_x.shape[2], test_x.shape[1]),\n",
    "                                   np.squeeze(test_y))\n",
    "    lda = LinearDiscriminantAnalysis(solver = 'lsqr')\n",
    "    lda.fit(x_new, train_y)\n",
    "    print(lda.score(x_new_test, test_y))\n",
    "\n",
    "    y_pred = lda.predict(x_new_test)\n",
    "    eval_result = classification_report(test_y, np.rint(y_pred), output_dict=True)\n",
    "    return eval_result"
   ]
  },
  {
   "cell_type": "code",
   "execution_count": 78,
   "metadata": {
    "scrolled": true
   },
   "outputs": [
    {
     "name": "stderr",
     "output_type": "stream",
     "text": [
      "\r",
      "  0%|          | 0/9 [00:00<?, ?it/s]"
     ]
    },
    {
     "name": "stdout",
     "output_type": "stream",
     "text": [
      "Training sample #0\n"
     ]
    },
    {
     "name": "stderr",
     "output_type": "stream",
     "text": [
      "/Users/xuanyuwu/opt/anaconda3/lib/python3.7/site-packages/sklearn/utils/validation.py:760: DataConversionWarning: A column-vector y was passed when a 1d array was expected. Please change the shape of y to (n_samples, ), for example using ravel().\n",
      "  y = column_or_1d(y, warn=True)\n",
      "\r",
      " 11%|█         | 1/9 [00:00<00:07,  1.01it/s]"
     ]
    },
    {
     "name": "stdout",
     "output_type": "stream",
     "text": [
      "0.4444444444444444\n",
      "Training sample #1\n"
     ]
    },
    {
     "name": "stderr",
     "output_type": "stream",
     "text": [
      "/Users/xuanyuwu/opt/anaconda3/lib/python3.7/site-packages/sklearn/utils/validation.py:760: DataConversionWarning: A column-vector y was passed when a 1d array was expected. Please change the shape of y to (n_samples, ), for example using ravel().\n",
      "  y = column_or_1d(y, warn=True)\n",
      "\r",
      " 22%|██▏       | 2/9 [00:01<00:06,  1.01it/s]"
     ]
    },
    {
     "name": "stdout",
     "output_type": "stream",
     "text": [
      "0.5277777777777778\n",
      "Training sample #2\n"
     ]
    },
    {
     "name": "stderr",
     "output_type": "stream",
     "text": [
      "/Users/xuanyuwu/opt/anaconda3/lib/python3.7/site-packages/sklearn/utils/validation.py:760: DataConversionWarning: A column-vector y was passed when a 1d array was expected. Please change the shape of y to (n_samples, ), for example using ravel().\n",
      "  y = column_or_1d(y, warn=True)\n",
      "\r",
      " 33%|███▎      | 3/9 [00:02<00:05,  1.01it/s]"
     ]
    },
    {
     "name": "stdout",
     "output_type": "stream",
     "text": [
      "0.4722222222222222\n",
      "Training sample #3\n"
     ]
    },
    {
     "name": "stderr",
     "output_type": "stream",
     "text": [
      "/Users/xuanyuwu/opt/anaconda3/lib/python3.7/site-packages/sklearn/utils/validation.py:760: DataConversionWarning: A column-vector y was passed when a 1d array was expected. Please change the shape of y to (n_samples, ), for example using ravel().\n",
      "  y = column_or_1d(y, warn=True)\n",
      "\r",
      " 44%|████▍     | 4/9 [00:03<00:04,  1.02it/s]"
     ]
    },
    {
     "name": "stdout",
     "output_type": "stream",
     "text": [
      "0.5769230769230769\n",
      "Training sample #4\n"
     ]
    },
    {
     "name": "stderr",
     "output_type": "stream",
     "text": [
      "/Users/xuanyuwu/opt/anaconda3/lib/python3.7/site-packages/sklearn/utils/validation.py:760: DataConversionWarning: A column-vector y was passed when a 1d array was expected. Please change the shape of y to (n_samples, ), for example using ravel().\n",
      "  y = column_or_1d(y, warn=True)\n",
      "\r",
      " 56%|█████▌    | 5/9 [00:04<00:03,  1.03it/s]"
     ]
    },
    {
     "name": "stdout",
     "output_type": "stream",
     "text": [
      "0.41025641025641024\n",
      "Training sample #5\n"
     ]
    },
    {
     "name": "stderr",
     "output_type": "stream",
     "text": [
      "/Users/xuanyuwu/opt/anaconda3/lib/python3.7/site-packages/sklearn/utils/validation.py:760: DataConversionWarning: A column-vector y was passed when a 1d array was expected. Please change the shape of y to (n_samples, ), for example using ravel().\n",
      "  y = column_or_1d(y, warn=True)\n",
      "\r",
      " 67%|██████▋   | 6/9 [00:05<00:02,  1.07it/s]"
     ]
    },
    {
     "name": "stdout",
     "output_type": "stream",
     "text": [
      "0.4166666666666667\n",
      "Training sample #6\n"
     ]
    },
    {
     "name": "stderr",
     "output_type": "stream",
     "text": [
      "/Users/xuanyuwu/opt/anaconda3/lib/python3.7/site-packages/sklearn/utils/validation.py:760: DataConversionWarning: A column-vector y was passed when a 1d array was expected. Please change the shape of y to (n_samples, ), for example using ravel().\n",
      "  y = column_or_1d(y, warn=True)\n",
      "\r",
      " 78%|███████▊  | 7/9 [00:06<00:01,  1.02it/s]"
     ]
    },
    {
     "name": "stdout",
     "output_type": "stream",
     "text": [
      "0.4027777777777778\n",
      "Training sample #7\n"
     ]
    },
    {
     "name": "stderr",
     "output_type": "stream",
     "text": [
      "/Users/xuanyuwu/opt/anaconda3/lib/python3.7/site-packages/sklearn/utils/validation.py:760: DataConversionWarning: A column-vector y was passed when a 1d array was expected. Please change the shape of y to (n_samples, ), for example using ravel().\n",
      "  y = column_or_1d(y, warn=True)\n",
      "\r",
      " 89%|████████▉ | 8/9 [00:08<00:01,  1.06s/it]"
     ]
    },
    {
     "name": "stdout",
     "output_type": "stream",
     "text": [
      "0.5476190476190477\n",
      "Training sample #8\n"
     ]
    },
    {
     "name": "stderr",
     "output_type": "stream",
     "text": [
      "/Users/xuanyuwu/opt/anaconda3/lib/python3.7/site-packages/sklearn/utils/validation.py:760: DataConversionWarning: A column-vector y was passed when a 1d array was expected. Please change the shape of y to (n_samples, ), for example using ravel().\n",
      "  y = column_or_1d(y, warn=True)\n",
      "100%|██████████| 9/9 [00:08<00:00,  1.01it/s]"
     ]
    },
    {
     "name": "stdout",
     "output_type": "stream",
     "text": [
      "0.5833333333333334\n"
     ]
    },
    {
     "name": "stderr",
     "output_type": "stream",
     "text": [
      "\n"
     ]
    }
   ],
   "source": [
    "results = []\n",
    "mne.set_log_level('warning')\n",
    "for i in tqdm(range(int(len(train_files)/2))):\n",
    "    print('Training sample #%d'%i)\n",
    "    train_data, train_label = populate_filt_data([train_files[i*2], train_files[i*2+1]], event_start, event_end, bsl_start, bsl_end)\n",
    "    eval_result = csp_lda_pipeline(train_data, train_label)\n",
    "    results.append(eval_result)\n",
    "all_avg_precision_lda = [x['weighted avg']['precision'] for x in results]\n",
    "all_avg_recall_lda = [x['weighted avg']['recall'] for x in results]\n",
    "all_accuracy_lda = [x['accuracy']for x in results]"
   ]
  },
  {
   "cell_type": "code",
   "execution_count": 79,
   "metadata": {},
   "outputs": [
    {
     "name": "stdout",
     "output_type": "stream",
     "text": [
      "mean precision = 0.494200\n",
      "mean recall = 0.486891\n",
      "mean accuracy = 0.486891\n"
     ]
    }
   ],
   "source": [
    "print('mean precision = %f'%np.mean(all_avg_precision_lda))\n",
    "print('mean recall = %f'%np.mean(all_avg_recall_lda))\n",
    "print('mean accuracy = %f'%np.mean(all_accuracy_lda))"
   ]
  },
  {
   "cell_type": "code",
   "execution_count": 81,
   "metadata": {},
   "outputs": [
    {
     "name": "stdout",
     "output_type": "stream",
     "text": [
      "std precision = 0.067056\n",
      "std recall = 0.068850\n",
      "std accuracy = 0.068850\n"
     ]
    }
   ],
   "source": [
    "print('std precision = %f'%np.std(all_avg_precision_lda))\n",
    "print('std recall = %f'%np.std(all_avg_recall_lda))\n",
    "print('std accuracy = %f'%np.std(all_accuracy_lda))"
   ]
  },
  {
   "cell_type": "code",
   "execution_count": 92,
   "metadata": {},
   "outputs": [
    {
     "data": {
      "text/html": [
       "<div>\n",
       "<style scoped>\n",
       "    .dataframe tbody tr th:only-of-type {\n",
       "        vertical-align: middle;\n",
       "    }\n",
       "\n",
       "    .dataframe tbody tr th {\n",
       "        vertical-align: top;\n",
       "    }\n",
       "\n",
       "    .dataframe thead th {\n",
       "        text-align: right;\n",
       "    }\n",
       "</style>\n",
       "<table border=\"1\" class=\"dataframe\">\n",
       "  <thead>\n",
       "    <tr style=\"text-align: right;\">\n",
       "      <th></th>\n",
       "      <th>Our model</th>\n",
       "      <th>LDA</th>\n",
       "    </tr>\n",
       "    <tr>\n",
       "      <th>Subject ID</th>\n",
       "      <th></th>\n",
       "      <th></th>\n",
       "    </tr>\n",
       "  </thead>\n",
       "  <tbody>\n",
       "    <tr>\n",
       "      <th>0</th>\n",
       "      <td>0.486111</td>\n",
       "      <td>0.444444</td>\n",
       "    </tr>\n",
       "    <tr>\n",
       "      <th>1</th>\n",
       "      <td>0.541667</td>\n",
       "      <td>0.527778</td>\n",
       "    </tr>\n",
       "    <tr>\n",
       "      <th>2</th>\n",
       "      <td>0.500000</td>\n",
       "      <td>0.472222</td>\n",
       "    </tr>\n",
       "    <tr>\n",
       "      <th>3</th>\n",
       "      <td>0.525641</td>\n",
       "      <td>0.576923</td>\n",
       "    </tr>\n",
       "    <tr>\n",
       "      <th>4</th>\n",
       "      <td>0.512821</td>\n",
       "      <td>0.410256</td>\n",
       "    </tr>\n",
       "    <tr>\n",
       "      <th>5</th>\n",
       "      <td>0.513889</td>\n",
       "      <td>0.416667</td>\n",
       "    </tr>\n",
       "    <tr>\n",
       "      <th>6</th>\n",
       "      <td>0.527778</td>\n",
       "      <td>0.402778</td>\n",
       "    </tr>\n",
       "    <tr>\n",
       "      <th>7</th>\n",
       "      <td>0.476190</td>\n",
       "      <td>0.547619</td>\n",
       "    </tr>\n",
       "    <tr>\n",
       "      <th>8</th>\n",
       "      <td>0.444444</td>\n",
       "      <td>0.583333</td>\n",
       "    </tr>\n",
       "  </tbody>\n",
       "</table>\n",
       "</div>"
      ],
      "text/plain": [
       "            Our model       LDA\n",
       "Subject ID                     \n",
       "0            0.486111  0.444444\n",
       "1            0.541667  0.527778\n",
       "2            0.500000  0.472222\n",
       "3            0.525641  0.576923\n",
       "4            0.512821  0.410256\n",
       "5            0.513889  0.416667\n",
       "6            0.527778  0.402778\n",
       "7            0.476190  0.547619\n",
       "8            0.444444  0.583333"
      ]
     },
     "execution_count": 92,
     "metadata": {},
     "output_type": "execute_result"
    }
   ],
   "source": [
    "indiv_accuracy = pd.DataFrame( {'Our model': all_accuracy_lstm, 'LDA':all_accuracy_lda})\n",
    "indiv_accuracy.index.name = 'Subject ID'\n",
    "indiv_accuracy"
   ]
  },
  {
   "cell_type": "code",
   "execution_count": null,
   "metadata": {},
   "outputs": [],
   "source": []
  },
  {
   "cell_type": "code",
   "execution_count": null,
   "metadata": {},
   "outputs": [],
   "source": []
  },
  {
   "cell_type": "code",
   "execution_count": null,
   "metadata": {},
   "outputs": [],
   "source": []
  },
  {
   "cell_type": "code",
   "execution_count": null,
   "metadata": {},
   "outputs": [],
   "source": []
  },
  {
   "cell_type": "markdown",
   "metadata": {},
   "source": [
    "# Questions for check point 1\n",
    "\n",
    "1. Remove EOG artifact: Needed? How?\n",
    "    \n",
    "2. Another tangent: feasible to include EOG information in the classification? Individual variation too high?\n",
    "    \n",
    "3. CSP? Restricted by the number of channels?\n",
    "    \n",
    "4. Difference not distinct between averaged signals\n",
    "    \n",
    "5. Amplitude much smaller after averaging, also noisier\n",
    "    \n",
    "6. preprocesing data: does order matter (DC offset -> filtfilt -> baseline correct); what else needed?\n"
   ]
  },
  {
   "cell_type": "markdown",
   "metadata": {},
   "source": [
    "compute C3-C4, C4-C3, or diff with Cz, then bandpass 7-30Hz\n",
    "take the log of the power (normally distributed)\n",
    "\n",
    "diff more distinct in freq space\n",
    "\n",
    "EOG artifact:\n",
    "\n",
    "ICA (http://www.cogsci.ucsd.edu/academicPubs/igorodni/eog-filtering.pdf)\n",
    "\n",
    "subtract EOG from EEG? **find code**"
   ]
  },
  {
   "cell_type": "markdown",
   "metadata": {},
   "source": [
    "## Questions for check point 2\n",
    "\n",
    "1. accuracy not good... problem with approach?\n",
    "2. data augmentation? \n",
    "    \n",
    "    \"deep convolutional generative adversarial network (DCGAN) provided better augmentation performance than traditional DA methods: geometric transformation (GT), autoencoder (AE), and variational autoencoder (VAE)\"\n",
    "    \n",
    "    Is CSP a kind of data augmentation? no, but generate better features\n",
    "    \n",
    "    Worth trying? time domain: high pass + ICA (remove EOG) + CSP (augmentation)+ 1DConv + max pooling (feature extraction) + LSTM (sequential learning)\n",
    "    \n",
    "    try CSP with top 3 filters"
   ]
  },
  {
   "cell_type": "markdown",
   "metadata": {},
   "source": [
    "Try on 64 channel set\n",
    "\n",
    "Run model only on EOG to make sure the model is not using eye moving data\n",
    "\n",
    "Try train on individual data"
   ]
  },
  {
   "cell_type": "code",
   "execution_count": null,
   "metadata": {},
   "outputs": [],
   "source": []
  },
  {
   "cell_type": "code",
   "execution_count": null,
   "metadata": {},
   "outputs": [],
   "source": []
  },
  {
   "cell_type": "code",
   "execution_count": null,
   "metadata": {},
   "outputs": [],
   "source": []
  },
  {
   "cell_type": "code",
   "execution_count": null,
   "metadata": {},
   "outputs": [],
   "source": []
  },
  {
   "cell_type": "code",
   "execution_count": null,
   "metadata": {},
   "outputs": [],
   "source": []
  }
 ],
 "metadata": {
  "kernelspec": {
   "display_name": "Python 3",
   "language": "python",
   "name": "python3"
  },
  "language_info": {
   "codemirror_mode": {
    "name": "ipython",
    "version": 3
   },
   "file_extension": ".py",
   "mimetype": "text/x-python",
   "name": "python",
   "nbconvert_exporter": "python",
   "pygments_lexer": "ipython3",
   "version": "3.7.6"
  }
 },
 "nbformat": 4,
 "nbformat_minor": 4
}
